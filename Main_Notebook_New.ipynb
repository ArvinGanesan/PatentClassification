{
 "cells": [
  {
   "cell_type": "markdown",
   "metadata": {},
   "source": [
    "# Multi-label Patent Classification with Neural Networks"
   ]
  },
  {
   "cell_type": "code",
   "execution_count": 1,
   "metadata": {
    "ExecuteTime": {
     "end_time": "2018-07-31T07:53:16.970611Z",
     "start_time": "2018-07-31T07:52:51.054841Z"
    }
   },
   "outputs": [
    {
     "name": "stderr",
     "output_type": "stream",
     "text": [
      "/home/c.papadimitriou/anaconda3/lib/python3.6/site-packages/h5py/__init__.py:36: FutureWarning: Conversion of the second argument of issubdtype from `float` to `np.floating` is deprecated. In future, it will be treated as `np.float64 == np.dtype(float).type`.\n",
      "  from ._conv import register_converters as _register_converters\n",
      "Using TensorFlow backend.\n"
     ]
    }
   ],
   "source": [
    "# import packages \n",
    "import tensorflow as tf\n",
    "import pandas as pd  \n",
    "import numpy as np \n",
    "import gzip\n",
    "from keras.models import Sequential\n",
    "from keras.layers import LSTM, Dense, Activation, Dropout, Input, Embedding, Reshape, Flatten, Conv1D, Conv2D, MaxPool2D, GlobalMaxPool1D, SpatialDropout1D\n",
    "from keras.preprocessing import text, sequence\n",
    "from keras import utils\n",
    "from keras import optimizers, models\n",
    "from sklearn import model_selection, preprocessing, metrics\n",
    "from keras.utils import to_categorical\n",
    "import matplotlib.pyplot as plt\n",
    "import zipfile\n",
    "import keras_metrics\n",
    "\n",
    "\n",
    "%matplotlib inline"
   ]
  },
  {
   "cell_type": "markdown",
   "metadata": {},
   "source": [
    "### Loading the Data"
   ]
  },
  {
   "cell_type": "markdown",
   "metadata": {},
   "source": [
    "Dataset: \n",
    "\n",
    "https://www.google.com/googlebooks/uspto-patents-grants-text.html#2015\n",
    "\n",
    "The parsing and preprocessing of the patent files can be found here: \n",
    "\n",
    "https://github.com/cpapadimitriou/W266-Final-Project/blob/master/preparation/parse_xml.py"
   ]
  },
  {
   "cell_type": "code",
   "execution_count": 2,
   "metadata": {
    "ExecuteTime": {
     "end_time": "2018-07-31T08:44:20.369588Z",
     "start_time": "2018-07-31T08:43:41.438721Z"
    }
   },
   "outputs": [],
   "source": [
    "# load data \n",
    "\n",
    "# features \n",
    "current_dir = %pwd\n",
    "abstract = pd.read_table(current_dir+'/out_zipped/docNumberToAbsText.txt.gz',compression='gzip', header=None)\n",
    "abstract = abstract[0].str.split('|', expand=True).rename(columns={0:'doc_num',1:'abstract'})\n",
    "\n",
    "claim = pd.read_table(current_dir+'/out_zipped/docNumberToClaimText.txt.gz',compression='gzip',  header=None)\n",
    "claim = claim[0].str.split('|', expand=True).rename(columns={0:'doc_num',1:'claim'})\n",
    "\n",
    "desc = pd.read_table(current_dir+'/out_zipped/docNumberToDescText.txt.gz',compression='gzip', header=None)\n",
    "desc = desc[0].str.split('|', expand=True).rename(columns={0:'doc_num',1:'desc'})\n",
    "\n",
    "title = pd.read_table(current_dir+'/out_zipped/docNumberToInvTitle.txt.gz',compression='gzip', header=None)\n",
    "title = title[0].str.split('|', expand=True).rename(columns={0:'doc_num',1:'title'})\n",
    "\n",
    "# file_name = pd.read_table(current_dir+'/out_zipped/fileNameToDocNumber.txt.gz',compression='gzip', header=None)\n",
    "# file_name = file_name[0].str.split('|', expand=True).rename(columns={0:'file_name',1:'doc_num'})"
   ]
  },
  {
   "cell_type": "code",
   "execution_count": 3,
   "metadata": {
    "ExecuteTime": {
     "end_time": "2018-07-31T08:45:19.685079Z",
     "start_time": "2018-07-31T08:45:19.377164Z"
    }
   },
   "outputs": [],
   "source": [
    "# labels \n",
    "# label_names = pd.read_table(current_dir+'/out_zipped/docNumberToLabelSubClass.txt.gz',compression='gzip', header=None)\n",
    "# label_names = labels[0].str.split('|', expand=True).rename(columns={0:'doc_num'})\n",
    "\n",
    "labels = pd.read_table(current_dir+'/out_zipped/docNumberToLabelSubClassCode.txt.gz',compression='gzip', header=None)\n",
    "labels = labels[0].str.split('|', expand=True).rename(columns={0:'doc_num'})"
   ]
  },
  {
   "cell_type": "markdown",
   "metadata": {},
   "source": [
    "### Data Preparation"
   ]
  },
  {
   "cell_type": "code",
   "execution_count": 4,
   "metadata": {
    "ExecuteTime": {
     "end_time": "2018-07-31T08:45:24.760483Z",
     "start_time": "2018-07-31T08:45:24.483901Z"
    }
   },
   "outputs": [
    {
     "name": "stdout",
     "output_type": "stream",
     "text": [
      "(78372, 4)\n",
      "(78372, 8)\n"
     ]
    }
   ],
   "source": [
    "# joining the datasets\n",
    "X = pd.concat([title.set_index('doc_num'), \n",
    "           abstract.set_index('doc_num'), \n",
    "           claim.set_index('doc_num'), \n",
    "           desc.set_index('doc_num')], axis=1).sort_index() #  join='inner'\n",
    "\n",
    "Y = labels.set_index('doc_num').sort_index() #.set_index(X.index) # fixing the index mismatch\n",
    "Y.columns=[\"label{}\".format(i) for i in range(1,9)] # renaming columns \n",
    "\n",
    "print(X.shape)\n",
    "print(Y.shape)"
   ]
  },
  {
   "cell_type": "code",
   "execution_count": 5,
   "metadata": {
    "ExecuteTime": {
     "end_time": "2018-07-31T07:53:47.730733Z",
     "start_time": "2018-07-31T07:53:47.703285Z"
    }
   },
   "outputs": [
    {
     "data": {
      "text/html": [
       "<div>\n",
       "<style scoped>\n",
       "    .dataframe tbody tr th:only-of-type {\n",
       "        vertical-align: middle;\n",
       "    }\n",
       "\n",
       "    .dataframe tbody tr th {\n",
       "        vertical-align: top;\n",
       "    }\n",
       "\n",
       "    .dataframe thead th {\n",
       "        text-align: right;\n",
       "    }\n",
       "</style>\n",
       "<table border=\"1\" class=\"dataframe\">\n",
       "  <thead>\n",
       "    <tr style=\"text-align: right;\">\n",
       "      <th></th>\n",
       "      <th>title</th>\n",
       "      <th>abstract</th>\n",
       "      <th>claim</th>\n",
       "      <th>desc</th>\n",
       "    </tr>\n",
       "    <tr>\n",
       "      <th>doc_num</th>\n",
       "      <th></th>\n",
       "      <th></th>\n",
       "      <th></th>\n",
       "      <th></th>\n",
       "    </tr>\n",
       "  </thead>\n",
       "  <tbody>\n",
       "    <tr>\n",
       "      <th>0000001</th>\n",
       "      <td>INTEGRAL MULTIFUNCTIONAL SYSTEM FOR MOTOR VEHICLE</td>\n",
       "      <td>The system finds application with the motor ve...</td>\n",
       "      <td>CLAIMS 1. Integral multifunctional system for ...</td>\n",
       "      <td>INTEGRAL MULTIFUNCTIONAL SYSTEM FOR MOTOR VEHI...</td>\n",
       "    </tr>\n",
       "    <tr>\n",
       "      <th>0000002</th>\n",
       "      <td>TURBINE DRIVEN WITH A FLUID MEDIUM</td>\n",
       "      <td>Turbine driven by a flowing medium to generate...</td>\n",
       "      <td>Claims 1. Turbine driven by a flowing medium t...</td>\n",
       "      <td>TURBINE DRIVEN WITH A FLUID MEDIUM. Technical ...</td>\n",
       "    </tr>\n",
       "    <tr>\n",
       "      <th>0000003</th>\n",
       "      <td>METHOD TO REMOVE LEAKAGE PROBLEMS IN PIPES PRO...</td>\n",
       "      <td>Method to remove leakage problems in pipes pro...</td>\n",
       "      <td>CLAIMS Claim 1 ) A new method in which choke a...</td>\n",
       "      <td>SPECIFICATION METHOD TO REMOVE LEAKAGE PROBLEM...</td>\n",
       "    </tr>\n",
       "    <tr>\n",
       "      <th>0000004</th>\n",
       "      <td>PRESSURE RELEASE VALVE</td>\n",
       "      <td>A pressure release valve is disclosed ideally ...</td>\n",
       "      <td>CLAIMS 1. A pressure release valve comprising ...</td>\n",
       "      <td>Pressure Release Valve This invention relates ...</td>\n",
       "    </tr>\n",
       "    <tr>\n",
       "      <th>0000005</th>\n",
       "      <td>ROLL-OVER MECHANISM FOR A PRESSURE RELEASE VALVE</td>\n",
       "      <td>A rollover mechanism for a pressure valve is d...</td>\n",
       "      <td>CLAIMS 1. A roll-over mechanism for a valve, s...</td>\n",
       "      <td>Roll-over mechanism for a pressure release val...</td>\n",
       "    </tr>\n",
       "  </tbody>\n",
       "</table>\n",
       "</div>"
      ],
      "text/plain": [
       "                                                     title  \\\n",
       "doc_num                                                      \n",
       "0000001  INTEGRAL MULTIFUNCTIONAL SYSTEM FOR MOTOR VEHICLE   \n",
       "0000002                 TURBINE DRIVEN WITH A FLUID MEDIUM   \n",
       "0000003  METHOD TO REMOVE LEAKAGE PROBLEMS IN PIPES PRO...   \n",
       "0000004                             PRESSURE RELEASE VALVE   \n",
       "0000005   ROLL-OVER MECHANISM FOR A PRESSURE RELEASE VALVE   \n",
       "\n",
       "                                                  abstract  \\\n",
       "doc_num                                                      \n",
       "0000001  The system finds application with the motor ve...   \n",
       "0000002  Turbine driven by a flowing medium to generate...   \n",
       "0000003  Method to remove leakage problems in pipes pro...   \n",
       "0000004  A pressure release valve is disclosed ideally ...   \n",
       "0000005  A rollover mechanism for a pressure valve is d...   \n",
       "\n",
       "                                                     claim  \\\n",
       "doc_num                                                      \n",
       "0000001  CLAIMS 1. Integral multifunctional system for ...   \n",
       "0000002  Claims 1. Turbine driven by a flowing medium t...   \n",
       "0000003  CLAIMS Claim 1 ) A new method in which choke a...   \n",
       "0000004  CLAIMS 1. A pressure release valve comprising ...   \n",
       "0000005  CLAIMS 1. A roll-over mechanism for a valve, s...   \n",
       "\n",
       "                                                      desc  \n",
       "doc_num                                                     \n",
       "0000001  INTEGRAL MULTIFUNCTIONAL SYSTEM FOR MOTOR VEHI...  \n",
       "0000002  TURBINE DRIVEN WITH A FLUID MEDIUM. Technical ...  \n",
       "0000003  SPECIFICATION METHOD TO REMOVE LEAKAGE PROBLEM...  \n",
       "0000004  Pressure Release Valve This invention relates ...  \n",
       "0000005  Roll-over mechanism for a pressure release val...  "
      ]
     },
     "execution_count": 5,
     "metadata": {},
     "output_type": "execute_result"
    }
   ],
   "source": [
    "X.head()"
   ]
  },
  {
   "cell_type": "code",
   "execution_count": 6,
   "metadata": {
    "ExecuteTime": {
     "end_time": "2018-07-31T07:53:47.754717Z",
     "start_time": "2018-07-31T07:53:47.732575Z"
    }
   },
   "outputs": [
    {
     "data": {
      "text/html": [
       "<div>\n",
       "<style scoped>\n",
       "    .dataframe tbody tr th:only-of-type {\n",
       "        vertical-align: middle;\n",
       "    }\n",
       "\n",
       "    .dataframe tbody tr th {\n",
       "        vertical-align: top;\n",
       "    }\n",
       "\n",
       "    .dataframe thead th {\n",
       "        text-align: right;\n",
       "    }\n",
       "</style>\n",
       "<table border=\"1\" class=\"dataframe\">\n",
       "  <thead>\n",
       "    <tr style=\"text-align: right;\">\n",
       "      <th></th>\n",
       "      <th>label1</th>\n",
       "      <th>label2</th>\n",
       "      <th>label3</th>\n",
       "      <th>label4</th>\n",
       "      <th>label5</th>\n",
       "      <th>label6</th>\n",
       "      <th>label7</th>\n",
       "      <th>label8</th>\n",
       "    </tr>\n",
       "    <tr>\n",
       "      <th>doc_num</th>\n",
       "      <th></th>\n",
       "      <th></th>\n",
       "      <th></th>\n",
       "      <th></th>\n",
       "      <th></th>\n",
       "      <th></th>\n",
       "      <th></th>\n",
       "      <th></th>\n",
       "    </tr>\n",
       "  </thead>\n",
       "  <tbody>\n",
       "    <tr>\n",
       "      <th>0000001</th>\n",
       "      <td>F02B</td>\n",
       "      <td>None</td>\n",
       "      <td>None</td>\n",
       "      <td>None</td>\n",
       "      <td>None</td>\n",
       "      <td>None</td>\n",
       "      <td>None</td>\n",
       "      <td>None</td>\n",
       "    </tr>\n",
       "    <tr>\n",
       "      <th>0000002</th>\n",
       "      <td>F03D</td>\n",
       "      <td>F03B</td>\n",
       "      <td>None</td>\n",
       "      <td>None</td>\n",
       "      <td>None</td>\n",
       "      <td>None</td>\n",
       "      <td>None</td>\n",
       "      <td>None</td>\n",
       "    </tr>\n",
       "    <tr>\n",
       "      <th>0000003</th>\n",
       "      <td>F16L</td>\n",
       "      <td>None</td>\n",
       "      <td>None</td>\n",
       "      <td>None</td>\n",
       "      <td>None</td>\n",
       "      <td>None</td>\n",
       "      <td>None</td>\n",
       "      <td>None</td>\n",
       "    </tr>\n",
       "    <tr>\n",
       "      <th>0000004</th>\n",
       "      <td>F16K</td>\n",
       "      <td>None</td>\n",
       "      <td>None</td>\n",
       "      <td>None</td>\n",
       "      <td>None</td>\n",
       "      <td>None</td>\n",
       "      <td>None</td>\n",
       "      <td>None</td>\n",
       "    </tr>\n",
       "    <tr>\n",
       "      <th>0000005</th>\n",
       "      <td>F16K</td>\n",
       "      <td>None</td>\n",
       "      <td>None</td>\n",
       "      <td>None</td>\n",
       "      <td>None</td>\n",
       "      <td>None</td>\n",
       "      <td>None</td>\n",
       "      <td>None</td>\n",
       "    </tr>\n",
       "  </tbody>\n",
       "</table>\n",
       "</div>"
      ],
      "text/plain": [
       "        label1 label2 label3 label4 label5 label6 label7 label8\n",
       "doc_num                                                        \n",
       "0000001   F02B   None   None   None   None   None   None   None\n",
       "0000002   F03D   F03B   None   None   None   None   None   None\n",
       "0000003   F16L   None   None   None   None   None   None   None\n",
       "0000004   F16K   None   None   None   None   None   None   None\n",
       "0000005   F16K   None   None   None   None   None   None   None"
      ]
     },
     "execution_count": 6,
     "metadata": {},
     "output_type": "execute_result"
    }
   ],
   "source": [
    "Y.head()"
   ]
  },
  {
   "cell_type": "code",
   "execution_count": 7,
   "metadata": {
    "ExecuteTime": {
     "end_time": "2018-07-31T08:45:39.260209Z",
     "start_time": "2018-07-31T08:45:30.465906Z"
    }
   },
   "outputs": [
    {
     "name": "stdout",
     "output_type": "stream",
     "text": [
      "0 documents with null title\n",
      "0 documents with null claims\n",
      "0 documents with null abstract\n",
      "0 documents with null description\n"
     ]
    }
   ],
   "source": [
    "# data cleaning \n",
    "assert Y['label1'].isnull().sum() == 0 # there is no document with \n",
    "\n",
    "print(\"{} documents with null title\".format(X['title'].isnull().sum()))\n",
    "print(\"{} documents with null claims\".format(X['claim'].isnull().sum()))\n",
    "print(\"{} documents with null abstract\".format(X['abstract'].isnull().sum()))\n",
    "print(\"{} documents with null description\".format(X['desc'].isnull().sum()))\n",
    "\n",
    "# remove documents with null sections (title and abstract)\n",
    "X_clean = X.dropna(how='any')\n",
    "null_idx = X[~X.index.isin(X_clean.index)].index # storing the removed indices (i.e. document numbers)\n",
    "assert X.shape[0] - null_idx.shape[0] == X_clean.shape[0] # making sure the row counts match\n",
    "\n",
    "# removing the documents with null sections from the labels as well \n",
    "Y_clean = Y.loc[X_clean.index]\n",
    "\n",
    "# some checks\n",
    "assert X_clean.shape[0] == Y_clean.shape[0]\n",
    "assert ((Y_clean.index == X_clean.index)*1).sum() == X_clean.shape[0]\n",
    "\n",
    "# lower-casing everything\n",
    "X_clean = X_clean.apply(lambda x: x.str.lower())\n",
    "Y_clean = Y_clean.apply(lambda x: x.str.lower())"
   ]
  },
  {
   "cell_type": "code",
   "execution_count": 8,
   "metadata": {
    "ExecuteTime": {
     "end_time": "2018-07-31T08:45:40.290069Z",
     "start_time": "2018-07-31T08:45:40.287155Z"
    }
   },
   "outputs": [
    {
     "name": "stdout",
     "output_type": "stream",
     "text": [
      "(78372, 4)\n",
      "(78372, 8)\n"
     ]
    }
   ],
   "source": [
    "print(X_clean.shape)\n",
    "print(Y_clean.shape)"
   ]
  },
  {
   "cell_type": "code",
   "execution_count": 9,
   "metadata": {
    "ExecuteTime": {
     "end_time": "2018-07-31T07:53:54.685593Z",
     "start_time": "2018-07-31T07:53:54.660732Z"
    }
   },
   "outputs": [
    {
     "data": {
      "text/html": [
       "<div>\n",
       "<style scoped>\n",
       "    .dataframe tbody tr th:only-of-type {\n",
       "        vertical-align: middle;\n",
       "    }\n",
       "\n",
       "    .dataframe tbody tr th {\n",
       "        vertical-align: top;\n",
       "    }\n",
       "\n",
       "    .dataframe thead th {\n",
       "        text-align: right;\n",
       "    }\n",
       "</style>\n",
       "<table border=\"1\" class=\"dataframe\">\n",
       "  <thead>\n",
       "    <tr style=\"text-align: right;\">\n",
       "      <th></th>\n",
       "      <th>title</th>\n",
       "      <th>abstract</th>\n",
       "      <th>claim</th>\n",
       "      <th>desc</th>\n",
       "    </tr>\n",
       "    <tr>\n",
       "      <th>doc_num</th>\n",
       "      <th></th>\n",
       "      <th></th>\n",
       "      <th></th>\n",
       "      <th></th>\n",
       "    </tr>\n",
       "  </thead>\n",
       "  <tbody>\n",
       "    <tr>\n",
       "      <th>0000001</th>\n",
       "      <td>integral multifunctional system for motor vehicle</td>\n",
       "      <td>the system finds application with the motor ve...</td>\n",
       "      <td>claims 1. integral multifunctional system for ...</td>\n",
       "      <td>integral multifunctional system for motor vehi...</td>\n",
       "    </tr>\n",
       "    <tr>\n",
       "      <th>0000002</th>\n",
       "      <td>turbine driven with a fluid medium</td>\n",
       "      <td>turbine driven by a flowing medium to generate...</td>\n",
       "      <td>claims 1. turbine driven by a flowing medium t...</td>\n",
       "      <td>turbine driven with a fluid medium. technical ...</td>\n",
       "    </tr>\n",
       "    <tr>\n",
       "      <th>0000003</th>\n",
       "      <td>method to remove leakage problems in pipes pro...</td>\n",
       "      <td>method to remove leakage problems in pipes pro...</td>\n",
       "      <td>claims claim 1 ) a new method in which choke a...</td>\n",
       "      <td>specification method to remove leakage problem...</td>\n",
       "    </tr>\n",
       "    <tr>\n",
       "      <th>0000004</th>\n",
       "      <td>pressure release valve</td>\n",
       "      <td>a pressure release valve is disclosed ideally ...</td>\n",
       "      <td>claims 1. a pressure release valve comprising ...</td>\n",
       "      <td>pressure release valve this invention relates ...</td>\n",
       "    </tr>\n",
       "    <tr>\n",
       "      <th>0000005</th>\n",
       "      <td>roll-over mechanism for a pressure release valve</td>\n",
       "      <td>a rollover mechanism for a pressure valve is d...</td>\n",
       "      <td>claims 1. a roll-over mechanism for a valve, s...</td>\n",
       "      <td>roll-over mechanism for a pressure release val...</td>\n",
       "    </tr>\n",
       "  </tbody>\n",
       "</table>\n",
       "</div>"
      ],
      "text/plain": [
       "                                                     title  \\\n",
       "doc_num                                                      \n",
       "0000001  integral multifunctional system for motor vehicle   \n",
       "0000002                 turbine driven with a fluid medium   \n",
       "0000003  method to remove leakage problems in pipes pro...   \n",
       "0000004                             pressure release valve   \n",
       "0000005   roll-over mechanism for a pressure release valve   \n",
       "\n",
       "                                                  abstract  \\\n",
       "doc_num                                                      \n",
       "0000001  the system finds application with the motor ve...   \n",
       "0000002  turbine driven by a flowing medium to generate...   \n",
       "0000003  method to remove leakage problems in pipes pro...   \n",
       "0000004  a pressure release valve is disclosed ideally ...   \n",
       "0000005  a rollover mechanism for a pressure valve is d...   \n",
       "\n",
       "                                                     claim  \\\n",
       "doc_num                                                      \n",
       "0000001  claims 1. integral multifunctional system for ...   \n",
       "0000002  claims 1. turbine driven by a flowing medium t...   \n",
       "0000003  claims claim 1 ) a new method in which choke a...   \n",
       "0000004  claims 1. a pressure release valve comprising ...   \n",
       "0000005  claims 1. a roll-over mechanism for a valve, s...   \n",
       "\n",
       "                                                      desc  \n",
       "doc_num                                                     \n",
       "0000001  integral multifunctional system for motor vehi...  \n",
       "0000002  turbine driven with a fluid medium. technical ...  \n",
       "0000003  specification method to remove leakage problem...  \n",
       "0000004  pressure release valve this invention relates ...  \n",
       "0000005  roll-over mechanism for a pressure release val...  "
      ]
     },
     "execution_count": 9,
     "metadata": {},
     "output_type": "execute_result"
    }
   ],
   "source": [
    "X_clean.head()"
   ]
  },
  {
   "cell_type": "code",
   "execution_count": 10,
   "metadata": {
    "ExecuteTime": {
     "end_time": "2018-07-31T07:53:54.710387Z",
     "start_time": "2018-07-31T07:53:54.687511Z"
    }
   },
   "outputs": [
    {
     "data": {
      "text/html": [
       "<div>\n",
       "<style scoped>\n",
       "    .dataframe tbody tr th:only-of-type {\n",
       "        vertical-align: middle;\n",
       "    }\n",
       "\n",
       "    .dataframe tbody tr th {\n",
       "        vertical-align: top;\n",
       "    }\n",
       "\n",
       "    .dataframe thead th {\n",
       "        text-align: right;\n",
       "    }\n",
       "</style>\n",
       "<table border=\"1\" class=\"dataframe\">\n",
       "  <thead>\n",
       "    <tr style=\"text-align: right;\">\n",
       "      <th></th>\n",
       "      <th>label1</th>\n",
       "      <th>label2</th>\n",
       "      <th>label3</th>\n",
       "      <th>label4</th>\n",
       "      <th>label5</th>\n",
       "      <th>label6</th>\n",
       "      <th>label7</th>\n",
       "      <th>label8</th>\n",
       "    </tr>\n",
       "    <tr>\n",
       "      <th>doc_num</th>\n",
       "      <th></th>\n",
       "      <th></th>\n",
       "      <th></th>\n",
       "      <th></th>\n",
       "      <th></th>\n",
       "      <th></th>\n",
       "      <th></th>\n",
       "      <th></th>\n",
       "    </tr>\n",
       "  </thead>\n",
       "  <tbody>\n",
       "    <tr>\n",
       "      <th>0000001</th>\n",
       "      <td>f02b</td>\n",
       "      <td>None</td>\n",
       "      <td>None</td>\n",
       "      <td>None</td>\n",
       "      <td>None</td>\n",
       "      <td>None</td>\n",
       "      <td>None</td>\n",
       "      <td>None</td>\n",
       "    </tr>\n",
       "    <tr>\n",
       "      <th>0000002</th>\n",
       "      <td>f03d</td>\n",
       "      <td>f03b</td>\n",
       "      <td>None</td>\n",
       "      <td>None</td>\n",
       "      <td>None</td>\n",
       "      <td>None</td>\n",
       "      <td>None</td>\n",
       "      <td>None</td>\n",
       "    </tr>\n",
       "    <tr>\n",
       "      <th>0000003</th>\n",
       "      <td>f16l</td>\n",
       "      <td>None</td>\n",
       "      <td>None</td>\n",
       "      <td>None</td>\n",
       "      <td>None</td>\n",
       "      <td>None</td>\n",
       "      <td>None</td>\n",
       "      <td>None</td>\n",
       "    </tr>\n",
       "    <tr>\n",
       "      <th>0000004</th>\n",
       "      <td>f16k</td>\n",
       "      <td>None</td>\n",
       "      <td>None</td>\n",
       "      <td>None</td>\n",
       "      <td>None</td>\n",
       "      <td>None</td>\n",
       "      <td>None</td>\n",
       "      <td>None</td>\n",
       "    </tr>\n",
       "    <tr>\n",
       "      <th>0000005</th>\n",
       "      <td>f16k</td>\n",
       "      <td>None</td>\n",
       "      <td>None</td>\n",
       "      <td>None</td>\n",
       "      <td>None</td>\n",
       "      <td>None</td>\n",
       "      <td>None</td>\n",
       "      <td>None</td>\n",
       "    </tr>\n",
       "  </tbody>\n",
       "</table>\n",
       "</div>"
      ],
      "text/plain": [
       "        label1 label2 label3 label4 label5 label6 label7 label8\n",
       "doc_num                                                        \n",
       "0000001   f02b   None   None   None   None   None   None   None\n",
       "0000002   f03d   f03b   None   None   None   None   None   None\n",
       "0000003   f16l   None   None   None   None   None   None   None\n",
       "0000004   f16k   None   None   None   None   None   None   None\n",
       "0000005   f16k   None   None   None   None   None   None   None"
      ]
     },
     "execution_count": 10,
     "metadata": {},
     "output_type": "execute_result"
    }
   ],
   "source": [
    "Y_clean.head()"
   ]
  },
  {
   "cell_type": "code",
   "execution_count": 11,
   "metadata": {
    "ExecuteTime": {
     "end_time": "2018-07-31T08:45:49.668809Z",
     "start_time": "2018-07-31T08:45:46.504307Z"
    }
   },
   "outputs": [],
   "source": [
    "# Creating dataset \n",
    "data = pd.DataFrame()\n",
    "\n",
    "# concat the text of all patent sections and join the labels\n",
    "data['full_text'] = X_clean['title'] + \" \" + X_clean['claim'] + \" \" + X_clean['abstract'] + \" \" + X_clean['desc']\n",
    "\n",
    "# using only the first label  \n",
    "data['label1'] = Y_clean['label1'] \n",
    "\n",
    "# using all labels, merging them in a list and removing None values\n",
    "data['labels'] = Y_clean.values.tolist()\n",
    "data['labels'] = data['labels'].apply(lambda x: list(filter(None, x)))"
   ]
  },
  {
   "cell_type": "code",
   "execution_count": 12,
   "metadata": {
    "ExecuteTime": {
     "end_time": "2018-07-31T07:53:58.998564Z",
     "start_time": "2018-07-31T07:53:58.987926Z"
    },
    "scrolled": true
   },
   "outputs": [
    {
     "data": {
      "text/html": [
       "<div>\n",
       "<style scoped>\n",
       "    .dataframe tbody tr th:only-of-type {\n",
       "        vertical-align: middle;\n",
       "    }\n",
       "\n",
       "    .dataframe tbody tr th {\n",
       "        vertical-align: top;\n",
       "    }\n",
       "\n",
       "    .dataframe thead th {\n",
       "        text-align: right;\n",
       "    }\n",
       "</style>\n",
       "<table border=\"1\" class=\"dataframe\">\n",
       "  <thead>\n",
       "    <tr style=\"text-align: right;\">\n",
       "      <th></th>\n",
       "      <th>full_text</th>\n",
       "      <th>label1</th>\n",
       "      <th>labels</th>\n",
       "    </tr>\n",
       "    <tr>\n",
       "      <th>doc_num</th>\n",
       "      <th></th>\n",
       "      <th></th>\n",
       "      <th></th>\n",
       "    </tr>\n",
       "  </thead>\n",
       "  <tbody>\n",
       "    <tr>\n",
       "      <th>0000001</th>\n",
       "      <td>integral multifunctional system for motor vehi...</td>\n",
       "      <td>f02b</td>\n",
       "      <td>[f02b]</td>\n",
       "    </tr>\n",
       "    <tr>\n",
       "      <th>0000002</th>\n",
       "      <td>turbine driven with a fluid medium claims 1. t...</td>\n",
       "      <td>f03d</td>\n",
       "      <td>[f03d, f03b]</td>\n",
       "    </tr>\n",
       "    <tr>\n",
       "      <th>0000003</th>\n",
       "      <td>method to remove leakage problems in pipes pro...</td>\n",
       "      <td>f16l</td>\n",
       "      <td>[f16l]</td>\n",
       "    </tr>\n",
       "    <tr>\n",
       "      <th>0000004</th>\n",
       "      <td>pressure release valve claims 1. a pressure re...</td>\n",
       "      <td>f16k</td>\n",
       "      <td>[f16k]</td>\n",
       "    </tr>\n",
       "    <tr>\n",
       "      <th>0000005</th>\n",
       "      <td>roll-over mechanism for a pressure release val...</td>\n",
       "      <td>f16k</td>\n",
       "      <td>[f16k]</td>\n",
       "    </tr>\n",
       "  </tbody>\n",
       "</table>\n",
       "</div>"
      ],
      "text/plain": [
       "                                                 full_text label1  \\\n",
       "doc_num                                                             \n",
       "0000001  integral multifunctional system for motor vehi...   f02b   \n",
       "0000002  turbine driven with a fluid medium claims 1. t...   f03d   \n",
       "0000003  method to remove leakage problems in pipes pro...   f16l   \n",
       "0000004  pressure release valve claims 1. a pressure re...   f16k   \n",
       "0000005  roll-over mechanism for a pressure release val...   f16k   \n",
       "\n",
       "               labels  \n",
       "doc_num                \n",
       "0000001        [f02b]  \n",
       "0000002  [f03d, f03b]  \n",
       "0000003        [f16l]  \n",
       "0000004        [f16k]  \n",
       "0000005        [f16k]  "
      ]
     },
     "execution_count": 12,
     "metadata": {},
     "output_type": "execute_result"
    }
   ],
   "source": [
    "data.head()"
   ]
  },
  {
   "cell_type": "code",
   "execution_count": 15,
   "metadata": {
    "ExecuteTime": {
     "end_time": "2018-07-31T08:47:07.142233Z",
     "start_time": "2018-07-31T08:45:55.942110Z"
    }
   },
   "outputs": [
    {
     "data": {
      "image/png": "[encoded data removed]",
      "text/plain": [
       "<matplotlib.figure.Figure at 0x7faeaa5f09b0>"
      ]
     },
     "metadata": {},
     "output_type": "display_data"
    }
   ],
   "source": [
    "# histogram of document length \n",
    "doc_lenghts = data.full_text.str.split().apply(lambda x: len(x))\n",
    "plt.figure(figsize=(12,5))\n",
    "plt.hist(doc_lenghts, bins=100)\n",
    "plt.xlim((0,40000))\n",
    "plt.xlabel('Document Length')\n",
    "plt.ylabel('Frequency')\n",
    "plt.show()"
   ]
  },
  {
   "cell_type": "code",
   "execution_count": null,
   "metadata": {
    "ExecuteTime": {
     "end_time": "2018-07-31T08:48:17.904946Z",
     "start_time": "2018-07-31T08:48:17.713245Z"
    }
   },
   "outputs": [],
   "source": [
    "# Bokeh for plotting.\n",
    "import bokeh.plotting as bp\n",
    "from bokeh.models import HoverTool\n",
    "bp.output_notebook()\n",
    "\n",
    "# Helper code for plotting histograms\n",
    "def plot_length_histogram(lengths, x_range=[0,40000], bins=40, normed=False):\n",
    "    hist, bin_edges = np.histogram(a=lengths, bins=bins, normed=normed, range=x_range)\n",
    "    bin_centers = (bin_edges[1:] + bin_edges[:-1])/2\n",
    "    bin_widths =  (bin_edges[1:] - bin_edges[:-1])\n",
    "\n",
    "    hover = HoverTool(tooltips=[(\"bucket\", \"@x\"), (\"count\", \"@top\")], mode=\"vline\")\n",
    "    fig = bp.figure(plot_width=800, plot_height=400, tools=[hover])\n",
    "    fig.vbar(x=bin_centers, width=bin_widths, top=hist, hover_fill_color=\"firebrick\")\n",
    "    fig.y_range.start = 0\n",
    "    fig.x_range.start = 0\n",
    "    fig.xaxis.axis_label = \"Document Length\"\n",
    "    fig.yaxis.axis_label = \"Frequency\"\n",
    "    bp.output_file(\"hist.html\")\n",
    "    bp.show(fig)\n",
    "    \n",
    "plot_length_histogram(doc_lenghts)"
   ]
  },
  {
   "cell_type": "code",
   "execution_count": 17,
   "metadata": {
    "ExecuteTime": {
     "end_time": "2018-07-31T08:55:01.216991Z",
     "start_time": "2018-07-31T08:55:01.208397Z"
    }
   },
   "outputs": [
    {
     "name": "stdout",
     "output_type": "stream",
     "text": [
      "Average document length: 4433 words\n",
      "Median document length: 3488.0 words\n",
      "Max document length: 174233 words\n",
      "Min document length: 48 words\n"
     ]
    }
   ],
   "source": [
    "# examing the document length \n",
    "print(\"Average document length: {} words\".format(round(np.mean(doc_lenghts))))\n",
    "print(\"Median document length: {} words\".format(round(np.median(doc_lenghts))))\n",
    "print(\"Max document length: {} words\".format(round(np.max(doc_lenghts))))\n",
    "print(\"Min document length: {} words\".format(round(np.min(doc_lenghts))))"
   ]
  },
  {
   "cell_type": "code",
   "execution_count": 13,
   "metadata": {
    "ExecuteTime": {
     "end_time": "2018-07-31T08:56:52.213867Z",
     "start_time": "2018-07-31T08:56:52.182857Z"
    }
   },
   "outputs": [
    {
     "name": "stdout",
     "output_type": "stream",
     "text": [
      "Avg. number of labels in dataset: 1.394949726943296\n"
     ]
    }
   ],
   "source": [
    "# average number of labels per document \n",
    "print(\"Avg. number of labels in dataset: {}\".format(data['labels'].apply(lambda x: len(x)).mean()))"
   ]
  },
  {
   "cell_type": "markdown",
   "metadata": {},
   "source": [
    "#### Note: we can potentially remove documents with less than 600 words"
   ]
  },
  {
   "cell_type": "code",
   "execution_count": 66,
   "metadata": {},
   "outputs": [
    {
     "data": {
      "text/plain": [
       "(5013, 5)"
      ]
     },
     "execution_count": 66,
     "metadata": {},
     "output_type": "execute_result"
    }
   ],
   "source": [
    "# filtering out documents with fewer words \n",
    "data[\"doc_lenghts\"] = data.full_text.str.split().apply(lambda x: len(x))\n",
    "\n",
    "data[data[\"doc_lenghts\"]<600].shape"
   ]
  },
  {
   "cell_type": "markdown",
   "metadata": {},
   "source": [
    "### Encoding Labels with MultiLabelBinarizer"
   ]
  },
  {
   "cell_type": "code",
   "execution_count": 14,
   "metadata": {
    "ExecuteTime": {
     "end_time": "2018-07-31T07:54:38.796900Z",
     "start_time": "2018-07-31T07:54:38.782931Z"
    },
    "scrolled": true
   },
   "outputs": [
    {
     "data": {
      "text/plain": [
       "doc_num\n",
       "0000001          [f02b]\n",
       "0000002    [f03d, f03b]\n",
       "0000003          [f16l]\n",
       "0000004          [f16k]\n",
       "0000005          [f16k]\n",
       "Name: labels, dtype: object"
      ]
     },
     "execution_count": 14,
     "metadata": {},
     "output_type": "execute_result"
    }
   ],
   "source": [
    "data['labels'].head()"
   ]
  },
  {
   "cell_type": "code",
   "execution_count": 15,
   "metadata": {
    "ExecuteTime": {
     "end_time": "2018-07-31T08:58:19.948400Z",
     "start_time": "2018-07-31T08:58:13.002631Z"
    }
   },
   "outputs": [],
   "source": [
    "# converting labels into a binarized matrix with the labels as columns \n",
    "# and each patent document represented in one row\n",
    "mlb = preprocessing.MultiLabelBinarizer()\n",
    "labels = mlb.fit_transform(data['labels'])\n",
    "\n",
    "# checking that the conversion worked as desired by verifying the counts of labels for each document prior and post \n",
    "assert data['labels'].apply(lambda x: len(x)).values.sum() == np.array(pd.DataFrame(labels).apply(lambda x: x.sum(),axis=1)).sum()"
   ]
  },
  {
   "cell_type": "code",
   "execution_count": 16,
   "metadata": {
    "ExecuteTime": {
     "end_time": "2018-07-31T07:54:44.699009Z",
     "start_time": "2018-07-31T07:54:44.696866Z"
    },
    "scrolled": true
   },
   "outputs": [],
   "source": [
    "# labels_df.iloc[:,[538]].sum()   #470"
   ]
  },
  {
   "cell_type": "code",
   "execution_count": 17,
   "metadata": {
    "ExecuteTime": {
     "end_time": "2018-07-31T07:54:44.731188Z",
     "start_time": "2018-07-31T07:54:44.700691Z"
    },
    "scrolled": false
   },
   "outputs": [
    {
     "data": {
      "text/html": [
       "<div>\n",
       "<style scoped>\n",
       "    .dataframe tbody tr th:only-of-type {\n",
       "        vertical-align: middle;\n",
       "    }\n",
       "\n",
       "    .dataframe tbody tr th {\n",
       "        vertical-align: top;\n",
       "    }\n",
       "\n",
       "    .dataframe thead th {\n",
       "        text-align: right;\n",
       "    }\n",
       "</style>\n",
       "<table border=\"1\" class=\"dataframe\">\n",
       "  <thead>\n",
       "    <tr style=\"text-align: right;\">\n",
       "      <th></th>\n",
       "      <th>f01b</th>\n",
       "      <th>f01c</th>\n",
       "      <th>f01d</th>\n",
       "      <th>f01k</th>\n",
       "      <th>f01l</th>\n",
       "      <th>f01m</th>\n",
       "      <th>f01n</th>\n",
       "      <th>f01p</th>\n",
       "      <th>f02b</th>\n",
       "      <th>f02c</th>\n",
       "      <th>...</th>\n",
       "      <th>f41a</th>\n",
       "      <th>f41b</th>\n",
       "      <th>f41c</th>\n",
       "      <th>f41f</th>\n",
       "      <th>f41g</th>\n",
       "      <th>f41h</th>\n",
       "      <th>f41j</th>\n",
       "      <th>f42b</th>\n",
       "      <th>f42c</th>\n",
       "      <th>f42d</th>\n",
       "    </tr>\n",
       "  </thead>\n",
       "  <tbody>\n",
       "    <tr>\n",
       "      <th>0</th>\n",
       "      <td>0</td>\n",
       "      <td>0</td>\n",
       "      <td>0</td>\n",
       "      <td>0</td>\n",
       "      <td>0</td>\n",
       "      <td>0</td>\n",
       "      <td>0</td>\n",
       "      <td>0</td>\n",
       "      <td>1</td>\n",
       "      <td>0</td>\n",
       "      <td>...</td>\n",
       "      <td>0</td>\n",
       "      <td>0</td>\n",
       "      <td>0</td>\n",
       "      <td>0</td>\n",
       "      <td>0</td>\n",
       "      <td>0</td>\n",
       "      <td>0</td>\n",
       "      <td>0</td>\n",
       "      <td>0</td>\n",
       "      <td>0</td>\n",
       "    </tr>\n",
       "    <tr>\n",
       "      <th>1</th>\n",
       "      <td>0</td>\n",
       "      <td>0</td>\n",
       "      <td>0</td>\n",
       "      <td>0</td>\n",
       "      <td>0</td>\n",
       "      <td>0</td>\n",
       "      <td>0</td>\n",
       "      <td>0</td>\n",
       "      <td>0</td>\n",
       "      <td>0</td>\n",
       "      <td>...</td>\n",
       "      <td>0</td>\n",
       "      <td>0</td>\n",
       "      <td>0</td>\n",
       "      <td>0</td>\n",
       "      <td>0</td>\n",
       "      <td>0</td>\n",
       "      <td>0</td>\n",
       "      <td>0</td>\n",
       "      <td>0</td>\n",
       "      <td>0</td>\n",
       "    </tr>\n",
       "    <tr>\n",
       "      <th>2</th>\n",
       "      <td>0</td>\n",
       "      <td>0</td>\n",
       "      <td>0</td>\n",
       "      <td>0</td>\n",
       "      <td>0</td>\n",
       "      <td>0</td>\n",
       "      <td>0</td>\n",
       "      <td>0</td>\n",
       "      <td>0</td>\n",
       "      <td>0</td>\n",
       "      <td>...</td>\n",
       "      <td>0</td>\n",
       "      <td>0</td>\n",
       "      <td>0</td>\n",
       "      <td>0</td>\n",
       "      <td>0</td>\n",
       "      <td>0</td>\n",
       "      <td>0</td>\n",
       "      <td>0</td>\n",
       "      <td>0</td>\n",
       "      <td>0</td>\n",
       "    </tr>\n",
       "    <tr>\n",
       "      <th>3</th>\n",
       "      <td>0</td>\n",
       "      <td>0</td>\n",
       "      <td>0</td>\n",
       "      <td>0</td>\n",
       "      <td>0</td>\n",
       "      <td>0</td>\n",
       "      <td>0</td>\n",
       "      <td>0</td>\n",
       "      <td>0</td>\n",
       "      <td>0</td>\n",
       "      <td>...</td>\n",
       "      <td>0</td>\n",
       "      <td>0</td>\n",
       "      <td>0</td>\n",
       "      <td>0</td>\n",
       "      <td>0</td>\n",
       "      <td>0</td>\n",
       "      <td>0</td>\n",
       "      <td>0</td>\n",
       "      <td>0</td>\n",
       "      <td>0</td>\n",
       "    </tr>\n",
       "    <tr>\n",
       "      <th>4</th>\n",
       "      <td>0</td>\n",
       "      <td>0</td>\n",
       "      <td>0</td>\n",
       "      <td>0</td>\n",
       "      <td>0</td>\n",
       "      <td>0</td>\n",
       "      <td>0</td>\n",
       "      <td>0</td>\n",
       "      <td>0</td>\n",
       "      <td>0</td>\n",
       "      <td>...</td>\n",
       "      <td>0</td>\n",
       "      <td>0</td>\n",
       "      <td>0</td>\n",
       "      <td>0</td>\n",
       "      <td>0</td>\n",
       "      <td>0</td>\n",
       "      <td>0</td>\n",
       "      <td>0</td>\n",
       "      <td>0</td>\n",
       "      <td>0</td>\n",
       "    </tr>\n",
       "  </tbody>\n",
       "</table>\n",
       "<p>5 rows × 96 columns</p>\n",
       "</div>"
      ],
      "text/plain": [
       "   f01b  f01c  f01d  f01k  f01l  f01m  f01n  f01p  f02b  f02c  ...   f41a  \\\n",
       "0     0     0     0     0     0     0     0     0     1     0  ...      0   \n",
       "1     0     0     0     0     0     0     0     0     0     0  ...      0   \n",
       "2     0     0     0     0     0     0     0     0     0     0  ...      0   \n",
       "3     0     0     0     0     0     0     0     0     0     0  ...      0   \n",
       "4     0     0     0     0     0     0     0     0     0     0  ...      0   \n",
       "\n",
       "   f41b  f41c  f41f  f41g  f41h  f41j  f42b  f42c  f42d  \n",
       "0     0     0     0     0     0     0     0     0     0  \n",
       "1     0     0     0     0     0     0     0     0     0  \n",
       "2     0     0     0     0     0     0     0     0     0  \n",
       "3     0     0     0     0     0     0     0     0     0  \n",
       "4     0     0     0     0     0     0     0     0     0  \n",
       "\n",
       "[5 rows x 96 columns]"
      ]
     },
     "execution_count": 17,
     "metadata": {},
     "output_type": "execute_result"
    }
   ],
   "source": [
    "labels_df = pd.DataFrame(labels, columns=mlb.classes_)  #.apply(lambda x: x.sum(),axis=1)\n",
    "labels_df.head()"
   ]
  },
  {
   "cell_type": "code",
   "execution_count": 18,
   "metadata": {
    "ExecuteTime": {
     "end_time": "2018-07-31T08:58:27.567411Z",
     "start_time": "2018-07-31T08:58:27.563179Z"
    }
   },
   "outputs": [
    {
     "name": "stdout",
     "output_type": "stream",
     "text": [
      "We have 96 classes\n"
     ]
    }
   ],
   "source": [
    "print(\"We have {} classes\".format(len(mlb.classes_)))\n",
    "# print(\"\")\n",
    "# for i in mlb.classes_: \n",
    "#     print(i)"
   ]
  },
  {
   "cell_type": "code",
   "execution_count": 19,
   "metadata": {
    "ExecuteTime": {
     "end_time": "2018-07-31T08:58:37.372905Z",
     "start_time": "2018-07-31T08:58:37.287211Z"
    },
    "scrolled": true
   },
   "outputs": [
    {
     "data": {
      "text/plain": [
       "f16h    6040\n",
       "f16l    5620\n",
       "f02b    5219\n",
       "f16k    4540\n",
       "f02d    4506\n",
       "f16d    4273\n",
       "f02m    4270\n",
       "f16c    3556\n",
       "f16b    3461\n",
       "f04b    3316\n",
       "f16f    2932\n",
       "f21v    2544\n",
       "f25b    2491\n",
       "f16j    2472\n",
       "f01n    2371\n",
       "f28f    2196\n",
       "f01d    2172\n",
       "f04d    2142\n",
       "f24f    2012\n",
       "f15b    1985\n",
       "f28d    1893\n",
       "f02c    1838\n",
       "f01l    1698\n",
       "f25d    1688\n",
       "f04c    1637\n",
       "f02f    1465\n",
       "f27d    1299\n",
       "f26b    1270\n",
       "f21s    1244\n",
       "f23d    1165\n",
       "        ... \n",
       "f23m     255\n",
       "f25c     254\n",
       "f03b     251\n",
       "f42c     234\n",
       "f04f     205\n",
       "f16p     186\n",
       "f28g     181\n",
       "f15c     167\n",
       "f41b     167\n",
       "f42d     160\n",
       "f24b     155\n",
       "f03c     147\n",
       "f21w     139\n",
       "f15d     134\n",
       "f21l     134\n",
       "f28c     132\n",
       "f41j     125\n",
       "f21k     123\n",
       "f41c      98\n",
       "f28b      94\n",
       "f41f      84\n",
       "f16t      77\n",
       "f22d      58\n",
       "f03h      52\n",
       "f23h      51\n",
       "f16s      47\n",
       "f22g      40\n",
       "f23b      34\n",
       "f21h       6\n",
       "f17b       6\n",
       "Length: 96, dtype: int64"
      ]
     },
     "execution_count": 19,
     "metadata": {},
     "output_type": "execute_result"
    }
   ],
   "source": [
    "# checking how many times does each label (i.e. class) appear in the data \n",
    "# we observe that the classes are a little unbalanced \n",
    "pl = labels_df.apply(lambda x: x.sum(),axis=0).sort_values(ascending=False)  #.plot.bar()\n",
    "pl"
   ]
  },
  {
   "cell_type": "code",
   "execution_count": null,
   "metadata": {
    "ExecuteTime": {
     "end_time": "2018-07-31T08:58:49.708176Z",
     "start_time": "2018-07-31T08:58:49.579443Z"
    }
   },
   "outputs": [],
   "source": [
    "from bokeh.io import show, output_file\n",
    "from bokeh.plotting import figure\n",
    "import bokeh.plotting as bp\n",
    "bp.output_notebook()\n",
    "\n",
    "output_file(\"bars.html\")\n",
    "p = figure(x_range=list(pl.index), plot_height=250, title=\"Label Counts\",\n",
    "           toolbar_location=None, tools=\"\")\n",
    "p.vbar(x=list(pl.index), top=pl.values, width=0.1)\n",
    "p.xgrid.grid_line_color = None\n",
    "p.y_range.start = 0\n",
    "show(p)"
   ]
  },
  {
   "cell_type": "markdown",
   "metadata": {},
   "source": [
    "### Advanced text processing and TF_IDF \n",
    "Take the `data['full_text']` and for each patent return an observation with: \n",
    "- 600 most frequent words based on word frequency/tf_idf algorithm (make sure you do checks to ensure it is working properly\n",
    "- remove punctuation \n",
    "- lowercasing (happened earlier no need to do it here)\n",
    "- remove stop words \n",
    "- romove common / rare words\n",
    "- lemmatization or stemming\n",
    "- removing common words\n",
    "- remove digits (TO DO) "
   ]
  },
  {
   "cell_type": "code",
   "execution_count": 28,
   "metadata": {},
   "outputs": [
    {
     "data": {
      "text/plain": [
       "doc_num\n",
       "0000001    integral multifunctional system for motor vehi...\n",
       "0000002    turbine driven with a fluid medium claims 1. t...\n",
       "0000003    method to remove leakage problems in pipes pro...\n",
       "0000004    pressure release valve claims 1. a pressure re...\n",
       "0000005    roll-over mechanism for a pressure release val...\n",
       "Name: full_text, dtype: object"
      ]
     },
     "execution_count": 28,
     "metadata": {},
     "output_type": "execute_result"
    }
   ],
   "source": [
    "data['full_text'].head()"
   ]
  },
  {
   "cell_type": "markdown",
   "metadata": {},
   "source": [
    "### 1. Advanced Processing"
   ]
  },
  {
   "cell_type": "code",
   "execution_count": 27,
   "metadata": {},
   "outputs": [
    {
     "data": {
      "text/plain": [
       "doc_num\n",
       "0000001    integral multifunctional system for motor vehi...\n",
       "0000002    turbine driven with a fluid medium claims 1 tu...\n",
       "0000003    method to remove leakage problems in pipes pro...\n",
       "0000004    pressure release valve claims 1 a pressure rel...\n",
       "0000005    rollover mechanism for a pressure release valv...\n",
       "Name: full_text_proc, dtype: object"
      ]
     },
     "execution_count": 27,
     "metadata": {},
     "output_type": "execute_result"
    }
   ],
   "source": [
    "# removing punctuation \n",
    "data['full_text_proc'] = data['full_text'].str.replace('[^\\w\\s]','')\n",
    "data['full_text_proc'].head()"
   ]
  },
  {
   "cell_type": "code",
   "execution_count": null,
   "metadata": {
    "scrolled": true
   },
   "outputs": [],
   "source": [
    "# lower - casing \n",
    "data['full_text_proc'] = data['full_text_proc'].apply(lambda x: \" \".join(x.lower() for x in x.split()))"
   ]
  },
  {
   "cell_type": "code",
   "execution_count": 31,
   "metadata": {},
   "outputs": [
    {
     "name": "stdout",
     "output_type": "stream",
     "text": [
      "[nltk_data] Downloading package stopwords to\n",
      "[nltk_data]     /home/c.papadimitriou/nltk_data...\n",
      "[nltk_data]   Package stopwords is already up-to-date!\n"
     ]
    },
    {
     "data": {
      "text/plain": [
       "doc_num\n",
       "0000001    integral multifunctional system motor vehicle ...\n",
       "0000002    turbine driven fluid medium claims 1 turbine d...\n",
       "0000003    method remove leakage problems pipes produced ...\n",
       "0000004    pressure release valve claims 1 pressure relea...\n",
       "0000005    rollover mechanism pressure release valve clai...\n",
       "Name: full_text_proc, dtype: object"
      ]
     },
     "execution_count": 31,
     "metadata": {},
     "output_type": "execute_result"
    }
   ],
   "source": [
    "# removing stop words \n",
    "import nltk\n",
    "nltk.download('stopwords')\n",
    "stop = nltk.corpus.stopwords.words('english')\n",
    "data['full_text_proc'] = data['full_text_proc'].apply(lambda x: \" \".join(x for x in x.split() if x not in stop))\n",
    "data['full_text_proc'].head()"
   ]
  },
  {
   "cell_type": "code",
   "execution_count": 32,
   "metadata": {},
   "outputs": [
    {
     "data": {
      "text/plain": [
       "said         2319765\n",
       "valve        1259420\n",
       "first        1137251\n",
       "invention    1133429\n",
       "1            1067749\n",
       "means        1029469\n",
       "pressure     1014167\n",
       "second       1006061\n",
       "portion      1000800\n",
       "one           972055\n",
       "dtype: int64"
      ]
     },
     "execution_count": 32,
     "metadata": {},
     "output_type": "execute_result"
    }
   ],
   "source": [
    "# Common word removal \n",
    "# we can remove common words as their presence will not be of any use for our classification problem \n",
    "freq_words = pd.Series(' '.join(data['full_text_proc']).split()).value_counts()[:10] # chose the number here \n",
    "freq_words"
   ]
  },
  {
   "cell_type": "code",
   "execution_count": 36,
   "metadata": {},
   "outputs": [
    {
     "data": {
      "text/plain": [
       "doc_num\n",
       "0000001    integral multifunctional system motor vehicle ...\n",
       "0000002    turbine driven fluid medium claims turbine dri...\n",
       "0000003    method remove leakage problems pipes produced ...\n",
       "0000004    release claims release comprising movable fixe...\n",
       "0000005    rollover mechanism release claims rollover mec...\n",
       "Name: full_text_proc, dtype: object"
      ]
     },
     "execution_count": 36,
     "metadata": {},
     "output_type": "execute_result"
    }
   ],
   "source": [
    "# Decide if we want to remove these\n",
    "freq_words = list(freq_words.index)\n",
    "data['full_text_proc'] = data['full_text_proc'].apply(lambda x: \" \".join(x for x in x.split() if x not in freq_words))\n",
    "data['full_text_proc'].head()"
   ]
  },
  {
   "cell_type": "code",
   "execution_count": 38,
   "metadata": {},
   "outputs": [
    {
     "data": {
      "text/plain": [
       "tetrastearate    1\n",
       "atmio16de10      1\n",
       "carottier        1\n",
       "tesse            1\n",
       "rastlippen       1\n",
       "9624705          1\n",
       "albe             1\n",
       "carimali         1\n",
       "65gcm3           1\n",
       "tremities        1\n",
       "dtype: int64"
      ]
     },
     "execution_count": 38,
     "metadata": {},
     "output_type": "execute_result"
    }
   ],
   "source": [
    "# Rare word removal \n",
    "# Similarly, just as we removed the most common words, this time let’s remove rarely occurring words from the text. \n",
    "# Because they’re so rare, the association between them and other words is dominated by noise. \n",
    "rare_words = pd.Series(' '.join(data['full_text_proc']).split()).value_counts()[-10:]\n",
    "rare_words"
   ]
  },
  {
   "cell_type": "code",
   "execution_count": 41,
   "metadata": {},
   "outputs": [],
   "source": [
    "rare_words = list(rare_words.index)\n",
    "data['full_text_proc'] = data['full_text_proc'].apply(lambda x: \" \".join(x for x in x.split() if x not in rare_words))"
   ]
  },
  {
   "cell_type": "code",
   "execution_count": 40,
   "metadata": {},
   "outputs": [
    {
     "data": {
      "text/plain": [
       "doc_num\n",
       "0000001    integral multifunctional system motor vehicle ...\n",
       "0000002    turbine driven fluid medium claims turbine dri...\n",
       "0000003    method remove leakage problems pipes produced ...\n",
       "0000004    release claims release comprising movable fixe...\n",
       "0000005    rollover mechanism release claims rollover mec...\n",
       "Name: full_text_proc, dtype: object"
      ]
     },
     "execution_count": 40,
     "metadata": {},
     "output_type": "execute_result"
    }
   ],
   "source": [
    "data['full_text_proc'].head()"
   ]
  },
  {
   "cell_type": "code",
   "execution_count": null,
   "metadata": {},
   "outputs": [],
   "source": [
    "# Spelling correction (this will take a while to run - lets think if we need it. Maybe fo the foreign language words?)\n",
    "# Maybe there is another library to remove foreign language text? \n",
    "\n",
    "# from textblob import TextBlob\n",
    "# data['full_text_proc'] = data['full_text_proc'][:5].apply(lambda x: str(TextBlob(x).correct()))"
   ]
  },
  {
   "cell_type": "code",
   "execution_count": null,
   "metadata": {},
   "outputs": [],
   "source": [
    "# Stemming: removal of suffices, like “ing”, “ly”, “s”, etc.\n",
    "# from nltk.stem import PorterStemmer\n",
    "# st = PorterStemmer()\n",
    "# data['full_text_proc'] = data['full_text_proc'].apply(lambda x: \" \".join([st.stem(word) for word in x.split()]))"
   ]
  },
  {
   "cell_type": "code",
   "execution_count": 44,
   "metadata": {},
   "outputs": [
    {
     "name": "stdout",
     "output_type": "stream",
     "text": [
      "[nltk_data] Downloading package wordnet to\n",
      "[nltk_data]     /home/c.papadimitriou/nltk_data...\n",
      "[nltk_data]   Unzipping corpora/wordnet.zip.\n"
     ]
    },
    {
     "data": {
      "text/plain": [
       "doc_num\n",
       "0000001    integral multifunctional system motor vehicle ...\n",
       "0000002    turbine driven fluid medium claim turbine driv...\n",
       "0000003    method remove leakage problem pipe produced pl...\n",
       "0000004    release claim release comprising movable fixed...\n",
       "0000005    rollover mechanism release claim rollover mech...\n",
       "Name: full_text_proc, dtype: object"
      ]
     },
     "execution_count": 44,
     "metadata": {},
     "output_type": "execute_result"
    }
   ],
   "source": [
    "# Lemmatization: converts the word into its root word, rather than just stripping the suffices.\n",
    "# use this instead of stemming \n",
    "import nltk\n",
    "nltk.download('wordnet')\n",
    "\n",
    "from textblob import Word\n",
    "data['full_text_proc'] = data['full_text_proc'].apply(lambda x: \" \".join([Word(word).lemmatize() for word in x.split()]))\n",
    "data['full_text_proc'].head()"
   ]
  },
  {
   "cell_type": "code",
   "execution_count": null,
   "metadata": {},
   "outputs": [],
   "source": [
    "# Remove Digits \n",
    "data['full_text_proc'] = data['full_text_proc'].apply(lambda x : re.sub(\"\\d+\", \"\", x))"
   ]
  },
  {
   "cell_type": "markdown",
   "metadata": {},
   "source": [
    "### 2. TF-IDF (pending)"
   ]
  },
  {
   "cell_type": "code",
   "execution_count": 81,
   "metadata": {},
   "outputs": [],
   "source": [
    "from sklearn.feature_extraction.text import TfidfVectorizer\n",
    "import re"
   ]
  },
  {
   "cell_type": "code",
   "execution_count": 99,
   "metadata": {},
   "outputs": [],
   "source": [
    "max_length = 600"
   ]
  },
  {
   "cell_type": "code",
   "execution_count": 78,
   "metadata": {},
   "outputs": [
    {
     "data": {
      "text/plain": [
       "doc_num\n",
       "0000001    integral multifunctional system motor vehicle ...\n",
       "0000002    turbine driven fluid medium claim turbine driv...\n",
       "0000003    method remove leakage problem pipe produced pl...\n",
       "0000004    release claim release comprising movable fixed...\n",
       "0000005    rollover mechanism release claim rollover mech...\n",
       "Name: full_text_proc, dtype: object"
      ]
     },
     "execution_count": 78,
     "metadata": {},
     "output_type": "execute_result"
    }
   ],
   "source": [
    "data['full_text_proc'].head()"
   ]
  },
  {
   "cell_type": "code",
   "execution_count": 113,
   "metadata": {},
   "outputs": [
    {
     "ename": "MemoryError",
     "evalue": "",
     "output_type": "error",
     "traceback": [
      "\u001b[0;31m---------------------------------------------------------------------------\u001b[0m",
      "\u001b[0;31mMemoryError\u001b[0m                               Traceback (most recent call last)",
      "\u001b[0;32m<ipython-input-113-813b3d7fd53c>\u001b[0m in \u001b[0;36m<module>\u001b[0;34m()\u001b[0m\n\u001b[1;32m      5\u001b[0m                         stop_words='english', ngram_range=(1,1)) \n\u001b[1;32m      6\u001b[0m \u001b[0;34m\u001b[0m\u001b[0m\n\u001b[0;32m----> 7\u001b[0;31m \u001b[0mtext_transformed\u001b[0m \u001b[0;34m=\u001b[0m \u001b[0mtfidf\u001b[0m\u001b[0;34m.\u001b[0m\u001b[0mfit_transform\u001b[0m\u001b[0;34m(\u001b[0m\u001b[0mdata\u001b[0m\u001b[0;34m[\u001b[0m\u001b[0;34m'full_text_proc'\u001b[0m\u001b[0;34m]\u001b[0m\u001b[0;34m)\u001b[0m\u001b[0;34m.\u001b[0m\u001b[0mtoarray\u001b[0m\u001b[0;34m(\u001b[0m\u001b[0;34m)\u001b[0m \u001b[0;31m# CHANGE THIS TO ALL DOCS\u001b[0m\u001b[0;34m\u001b[0m\u001b[0m\n\u001b[0m\u001b[1;32m      8\u001b[0m \u001b[0;34m\u001b[0m\u001b[0m\n\u001b[1;32m      9\u001b[0m \u001b[0mfeature_names\u001b[0m \u001b[0;34m=\u001b[0m \u001b[0mnp\u001b[0m\u001b[0;34m.\u001b[0m\u001b[0marray\u001b[0m\u001b[0;34m(\u001b[0m\u001b[0mtfidf\u001b[0m\u001b[0;34m.\u001b[0m\u001b[0mget_feature_names\u001b[0m\u001b[0;34m(\u001b[0m\u001b[0;34m)\u001b[0m\u001b[0;34m)\u001b[0m\u001b[0;34m\u001b[0m\u001b[0m\n",
      "\u001b[0;32m~/anaconda3/lib/python3.6/site-packages/scipy/sparse/compressed.py\u001b[0m in \u001b[0;36mtoarray\u001b[0;34m(self, order, out)\u001b[0m\n\u001b[1;32m    941\u001b[0m         \u001b[0;32mif\u001b[0m \u001b[0mout\u001b[0m \u001b[0;32mis\u001b[0m \u001b[0;32mNone\u001b[0m \u001b[0;32mand\u001b[0m \u001b[0morder\u001b[0m \u001b[0;32mis\u001b[0m \u001b[0;32mNone\u001b[0m\u001b[0;34m:\u001b[0m\u001b[0;34m\u001b[0m\u001b[0m\n\u001b[1;32m    942\u001b[0m             \u001b[0morder\u001b[0m \u001b[0;34m=\u001b[0m \u001b[0mself\u001b[0m\u001b[0;34m.\u001b[0m\u001b[0m_swap\u001b[0m\u001b[0;34m(\u001b[0m\u001b[0;34m'cf'\u001b[0m\u001b[0;34m)\u001b[0m\u001b[0;34m[\u001b[0m\u001b[0;36m0\u001b[0m\u001b[0;34m]\u001b[0m\u001b[0;34m\u001b[0m\u001b[0m\n\u001b[0;32m--> 943\u001b[0;31m         \u001b[0mout\u001b[0m \u001b[0;34m=\u001b[0m \u001b[0mself\u001b[0m\u001b[0;34m.\u001b[0m\u001b[0m_process_toarray_args\u001b[0m\u001b[0;34m(\u001b[0m\u001b[0morder\u001b[0m\u001b[0;34m,\u001b[0m \u001b[0mout\u001b[0m\u001b[0;34m)\u001b[0m\u001b[0;34m\u001b[0m\u001b[0m\n\u001b[0m\u001b[1;32m    944\u001b[0m         \u001b[0;32mif\u001b[0m \u001b[0;32mnot\u001b[0m \u001b[0;34m(\u001b[0m\u001b[0mout\u001b[0m\u001b[0;34m.\u001b[0m\u001b[0mflags\u001b[0m\u001b[0;34m.\u001b[0m\u001b[0mc_contiguous\u001b[0m \u001b[0;32mor\u001b[0m \u001b[0mout\u001b[0m\u001b[0;34m.\u001b[0m\u001b[0mflags\u001b[0m\u001b[0;34m.\u001b[0m\u001b[0mf_contiguous\u001b[0m\u001b[0;34m)\u001b[0m\u001b[0;34m:\u001b[0m\u001b[0;34m\u001b[0m\u001b[0m\n\u001b[1;32m    945\u001b[0m             \u001b[0;32mraise\u001b[0m \u001b[0mValueError\u001b[0m\u001b[0;34m(\u001b[0m\u001b[0;34m'Output array must be C or F contiguous'\u001b[0m\u001b[0;34m)\u001b[0m\u001b[0;34m\u001b[0m\u001b[0m\n",
      "\u001b[0;32m~/anaconda3/lib/python3.6/site-packages/scipy/sparse/base.py\u001b[0m in \u001b[0;36m_process_toarray_args\u001b[0;34m(self, order, out)\u001b[0m\n\u001b[1;32m   1128\u001b[0m             \u001b[0;32mreturn\u001b[0m \u001b[0mout\u001b[0m\u001b[0;34m\u001b[0m\u001b[0m\n\u001b[1;32m   1129\u001b[0m         \u001b[0;32melse\u001b[0m\u001b[0;34m:\u001b[0m\u001b[0;34m\u001b[0m\u001b[0m\n\u001b[0;32m-> 1130\u001b[0;31m             \u001b[0;32mreturn\u001b[0m \u001b[0mnp\u001b[0m\u001b[0;34m.\u001b[0m\u001b[0mzeros\u001b[0m\u001b[0;34m(\u001b[0m\u001b[0mself\u001b[0m\u001b[0;34m.\u001b[0m\u001b[0mshape\u001b[0m\u001b[0;34m,\u001b[0m \u001b[0mdtype\u001b[0m\u001b[0;34m=\u001b[0m\u001b[0mself\u001b[0m\u001b[0;34m.\u001b[0m\u001b[0mdtype\u001b[0m\u001b[0;34m,\u001b[0m \u001b[0morder\u001b[0m\u001b[0;34m=\u001b[0m\u001b[0morder\u001b[0m\u001b[0;34m)\u001b[0m\u001b[0;34m\u001b[0m\u001b[0m\n\u001b[0m\u001b[1;32m   1131\u001b[0m \u001b[0;34m\u001b[0m\u001b[0m\n\u001b[1;32m   1132\u001b[0m     \u001b[0;32mdef\u001b[0m \u001b[0m__numpy_ufunc__\u001b[0m\u001b[0;34m(\u001b[0m\u001b[0mself\u001b[0m\u001b[0;34m,\u001b[0m \u001b[0mfunc\u001b[0m\u001b[0;34m,\u001b[0m \u001b[0mmethod\u001b[0m\u001b[0;34m,\u001b[0m \u001b[0mpos\u001b[0m\u001b[0;34m,\u001b[0m \u001b[0minputs\u001b[0m\u001b[0;34m,\u001b[0m \u001b[0;34m**\u001b[0m\u001b[0mkwargs\u001b[0m\u001b[0;34m)\u001b[0m\u001b[0;34m:\u001b[0m\u001b[0;34m\u001b[0m\u001b[0m\n",
      "\u001b[0;31mMemoryError\u001b[0m: "
     ]
    }
   ],
   "source": [
    "# TF-IDF to eliminate word count\n",
    "# We can also perform basic pre-processing steps like lower-casing and removal of stopwords (but we did this earlier)\n",
    "\n",
    "tfidf = TfidfVectorizer(lowercase=True, analyzer='word', smooth_idf=False, sublinear_tf=False, norm=None,\n",
    "                        stop_words='english', ngram_range=(1,1)) \n",
    "\n",
    "text_transformed = tfidf.fit_transform(data['full_text_proc']).toarray() # CHANGE THIS TO ALL DOCS\n",
    "\n",
    "feature_names = np.array(tfidf.get_feature_names())\n",
    "test_words = feature_names[np.argsort(text_transformed)][:,-max_length:]\n",
    "\n",
    "z = []\n",
    "for i,t in (enumerate(list(test_words))):\n",
    "    a = (set(t))\n",
    "    b = (set(re.sub(\"[^\\w]\", \" \",  (data['full_text_proc'][i])).split()))\n",
    "    z.append(list(a.intersection(b)))\n",
    "\n",
    "data['full_text_proc_final'] = pd.Series(z, index=data.index).apply(lambda x : \" \".join(x))"
   ]
  },
  {
   "cell_type": "code",
   "execution_count": null,
   "metadata": {},
   "outputs": [],
   "source": []
  },
  {
   "cell_type": "markdown",
   "metadata": {},
   "source": [
    "### Train Test Split"
   ]
  },
  {
   "cell_type": "code",
   "execution_count": 26,
   "metadata": {
    "ExecuteTime": {
     "end_time": "2018-07-31T08:59:27.481833Z",
     "start_time": "2018-07-31T08:59:27.407250Z"
    },
    "scrolled": true
   },
   "outputs": [
    {
     "name": "stdout",
     "output_type": "stream",
     "text": [
      "(62697,)\n",
      "(15675,)\n",
      "(62697, 96)\n",
      "(15675, 96)\n"
     ]
    }
   ],
   "source": [
    "# train test split \n",
    "# you can change to data['label1'] to include only the first label \n",
    "X_train, X_test, Y_train, Y_test = model_selection.train_test_split(data['full_text_proc_final'], labels, test_size=0.2)\n",
    "\n",
    "print(X_train.shape)\n",
    "print(X_test.shape)\n",
    "print(Y_train.shape)\n",
    "print(Y_test.shape)"
   ]
  },
  {
   "cell_type": "code",
   "execution_count": 27,
   "metadata": {
    "ExecuteTime": {
     "end_time": "2018-07-31T07:54:45.108606Z",
     "start_time": "2018-07-31T07:54:45.103591Z"
    },
    "scrolled": true
   },
   "outputs": [
    {
     "data": {
      "text/plain": [
       "doc_num\n",
       "97307354    peristaltic pump a rotor for a peristaltic pum...\n",
       "95307389    actuator an actuator comprising: the actuator ...\n",
       "8400169     crankcase emissions device what is claimed: 1....\n",
       "01306982    valve apparatus a valve apparatus comprising a...\n",
       "93103503    valve-moving apparatus for internal combustion...\n",
       "Name: full_text, dtype: object"
      ]
     },
     "execution_count": 27,
     "metadata": {},
     "output_type": "execute_result"
    }
   ],
   "source": [
    "X_train.head()"
   ]
  },
  {
   "cell_type": "code",
   "execution_count": 26,
   "metadata": {
    "ExecuteTime": {
     "end_time": "2018-07-31T07:54:45.113527Z",
     "start_time": "2018-07-31T07:54:45.110205Z"
    },
    "scrolled": true
   },
   "outputs": [],
   "source": [
    "# print(\"Avg. number of labels in train set: {}\".format(Y_train.apply(lambda x: len(x)).mean()))\n",
    "# print(\"Avg. number of labels in test set: {}\".format(Y_test.apply(lambda x: len(x)).mean()))"
   ]
  },
  {
   "cell_type": "markdown",
   "metadata": {},
   "source": [
    "### Word Embeddings"
   ]
  },
  {
   "cell_type": "markdown",
   "metadata": {},
   "source": [
    "**Load the pre-trained embeddings using this command:**\n",
    "\n",
    "`nohup curl -O https://s3-us-west-1.amazonaws.com/fasttext-vectors/wiki-news-300d-1M.vec.zip > curl.nohup.out 2>&1 &`\n",
    "\n",
    "Check loading progress with this: `cat curl.nohup.out`\n",
    "\n",
    "Unzipping the file with python: "
   ]
  },
  {
   "cell_type": "code",
   "execution_count": 28,
   "metadata": {
    "ExecuteTime": {
     "end_time": "2018-07-31T07:54:45.119947Z",
     "start_time": "2018-07-31T07:54:45.115118Z"
    }
   },
   "outputs": [
    {
     "data": {
      "text/plain": [
       "'/home/c.papadimitriou/W266-Final-Project'"
      ]
     },
     "execution_count": 28,
     "metadata": {},
     "output_type": "execute_result"
    }
   ],
   "source": [
    "current_dir"
   ]
  },
  {
   "cell_type": "code",
   "execution_count": 29,
   "metadata": {},
   "outputs": [],
   "source": [
    "# sequence length is set to 600 (we will choose the 600 most frequent words in each document)\n",
    "sequence_length = 600\n",
    "embedding_dim = 300"
   ]
  },
  {
   "cell_type": "code",
   "execution_count": 30,
   "metadata": {},
   "outputs": [],
   "source": [
    "# word-embeddings: representing documents using a dense vector representation\n",
    "# Word embeddings can be trained using the input corpus itself or \n",
    "# can be generated using pre-trained word embeddings such as Glove, FastText, and Word2Vec\n",
    "\n",
    "# step 1. Loading the pretrained word embeddings\n",
    "\n",
    "df_tmp1=pd.read_table('../wiki-news-300d-1M.vec.zip', compression='zip', sep='\\s+', header=None, engine='python', skiprows=1)\n",
    "columns=['word', 'vector']\n",
    "df_tmp2=pd.DataFrame(columns=columns)\n",
    "df_tmp2['word']=df_tmp1[df_tmp1.columns[0]]\n",
    "df_tmp2['vector']=np.asarray(df_tmp1[df_tmp1.columns[1:]], dtype='float32').tolist()\n",
    "embeddings_index=pd.Series(df_tmp2.vector.values, index=df_tmp2.word).to_dict()"
   ]
  },
  {
   "cell_type": "markdown",
   "metadata": {},
   "source": [
    "Link to Tokenizer keras object: https://keras.io/preprocessing/text/\n",
    "\n",
    "This takes care of:\n",
    "- num of words to keep based on frequency (`num_words`).\n",
    "- filtering out punctuation: The **default** is all punctuation, plus tabs and line breaks, minus the ' character.\n",
    "- lower-casing: convert the texts to lowercase."
   ]
  },
  {
   "cell_type": "code",
   "execution_count": 31,
   "metadata": {
    "ExecuteTime": {
     "end_time": "2018-07-31T09:05:45.882848Z",
     "start_time": "2018-07-31T09:00:15.890336Z"
    }
   },
   "outputs": [],
   "source": [
    "# step 2. Creating a tokenizer object using Keras preprocessing object\n",
    "# the tokenizer has a default filter that removes all punctuation, plus tabs and line breaks, minus the ' character.\n",
    "token = text.Tokenizer(lower=True) # num_words=sequence_length\n",
    "token.fit_on_texts(data['full_text'])\n",
    "word_index = token.word_index"
   ]
  },
  {
   "cell_type": "code",
   "execution_count": 23,
   "metadata": {
    "ExecuteTime": {
     "end_time": "2018-07-31T07:55:21.706726Z",
     "start_time": "2018-07-31T07:52:51.148Z"
    },
    "scrolled": true
   },
   "outputs": [],
   "source": [
    "#word_index"
   ]
  },
  {
   "cell_type": "code",
   "execution_count": 34,
   "metadata": {
    "ExecuteTime": {
     "end_time": "2018-07-31T08:08:09.371956Z",
     "start_time": "2018-07-31T08:08:09.368625Z"
    }
   },
   "outputs": [
    {
     "name": "stdout",
     "output_type": "stream",
     "text": [
      "Number of words in our vocabulary: 525764\n"
     ]
    }
   ],
   "source": [
    "print('Number of words in our vocabulary: {}'.format(len(word_index.keys())))"
   ]
  },
  {
   "cell_type": "code",
   "execution_count": 35,
   "metadata": {
    "ExecuteTime": {
     "end_time": "2018-07-31T09:15:24.929704Z",
     "start_time": "2018-07-31T09:10:25.433710Z"
    }
   },
   "outputs": [],
   "source": [
    "# step 3. Transforming text documents to sequence of tokens and padding them to ensure equal length vectors\n",
    "# choosing the median document length as max length for padding \n",
    "X_train_seq = sequence.pad_sequences(token.texts_to_sequences(X_train), maxlen=sequence_length)\n",
    "X_test_seq = sequence.pad_sequences(token.texts_to_sequences(X_test), maxlen=sequence_length)"
   ]
  },
  {
   "cell_type": "code",
   "execution_count": 41,
   "metadata": {},
   "outputs": [
    {
     "data": {
      "text/plain": [
       "array([  1, 262,   5,   1, 370,   8,   1,   5,   6,   1,  35,   1,   5,\n",
       "         1, 508,  12, 383,  21,   1, 295,   2,  46, 186,   7,   3,   2,\n",
       "       150, 554, 251,   1, 497,  45,  62,  12,  55,   4,  27,  73,  10,\n",
       "        11,   1,  99, 105,   1, 405,  19,  10,  56,   6,  40,  91,   1,\n",
       "        35,   1,   2,   1,   2,   1, 262,   7,  13,  15,   7,  13,   1,\n",
       "       405,  27,   7,   1, 164,  10,  16,   2,   1, 105,  11,   4,   1,\n",
       "         5,   1, 186,   7,   3, 370,  15,   7,  13,   1, 405, 251,   1,\n",
       "       405,  35,   1, 370,   8,   1, 262,   5,   1, 370,   8,   1,   5,\n",
       "         6,  64,   1, 370, 101,  54,  11, 394,   4,   3,  76, 370,   2,\n",
       "        71,  16,   1, 497,  36,  12, 333,   1, 370,   6,   1,  76,   3,\n",
       "       401,  77, 530,  12,   2,  21,   1,  35,   1, 312, 107,   2,   1,\n",
       "       262,  22,   5,   1, 372,   2,  68, 520,   5,   7,  11, 194,   4,\n",
       "       297, 111,  41,  72,  40, 111,   7,   3,   3, 105,   8,  27,  73,\n",
       "         6,  15,   1,  35,   1, 312, 107,   5,   1, 372,   2,  68, 520,\n",
       "         5,  19,   4, 142, 564,  40, 125,   1, 196,   2,   1, 262,  22,\n",
       "        55,   4,  27,  73,  15,  50,   1, 254,   5,  20,   1,  35,   1,\n",
       "       312, 107,   5,   1,  68, 520,   5,  10, 297, 111,  41,  72,  19,\n",
       "         8,   1, 498,   2,   1, 254,   5,   5,   1,  64, 329, 338, 152,\n",
       "       330,   1, 262,  68, 142, 360,  10, 439,   2,  27,  25,   7,  21,\n",
       "         1,  35,   1, 312, 107,   5,   1,  68, 520,   5, 212,   8, 226,\n",
       "         1, 105,  56,   6,  40, 111,   5,  27,  73,  56,   6,  40, 125,\n",
       "         1, 212,  13,   1, 121,   5,   1, 405,  19,   1,   2,   1, 262,\n",
       "        22,   5,   1,  56,   6, 297, 111,   5, 125,  84,   1, 312,  39,\n",
       "         2,   1, 262,  22,   7, 596,   5,   1, 270,   7, 302,   4,   1,\n",
       "        80,   6,   1, 564,   5,   5,   1, 263,   5,   1, 270,   6,  27,\n",
       "       177, 212,  22,  22, 554,   6,   1,  98,   2,   1, 262,  22,  84,\n",
       "         1, 270,  21,   1,  68,   2,   1, 262,  22,  18,   1, 340,   5,\n",
       "        21,   1, 564,  68,   6,  44,   3, 284,  10,   4,  12,   3, 112,\n",
       "       270,   4,   1,   5,   3, 112, 270,   4,   1,  19, 325, 302,   4,\n",
       "         1,  68,   5,   1, 564,  68,   2,   1, 262,  22,  20,   1, 164,\n",
       "       129,   1,  19, 329,   6, 297, 156,   5,  72,  40, 156, 348,   1,\n",
       "         6,   1, 105, 210,  40,  72, 348,   1,   6,  27,  73,  32,   7,\n",
       "        16,   1,  21,   1, 127,   7,   1,   6, 297, 156,   5,  72,   5,\n",
       "         1, 582, 473,   1, 250,  32,   7,  18, 297, 156,   5,  72,  16,\n",
       "         3, 376,  20,   1,  35,   1, 312, 107,   5,   1,  68, 520,   5,\n",
       "         6,   1, 105,  44,   7,   6,  27,  73,  32,   7,  82,  16,   1,\n",
       "       340,   1, 262,  22,   7,  27,  25,   7,  62,   4,   1,  99, 102,\n",
       "        73, 242,  45,  12,   6, 458,  64, 101,   1,   2,   1,  25,   8,\n",
       "       105,   9,   7,  94,  10,   3, 139, 190,  17, 139,   6,   1,  99,\n",
       "       102,  73, 311, 139,  17, 139,  45,  12,  94,   4,   1, 359,   2,\n",
       "         1, 354,   1, 196,   2,   1, 354,   7,  62,   4,   1, 329, 237,\n",
       "        15,   7,   3, 526, 492,   5, 526, 163,   8,  27,  25,  45,  82,\n",
       "        12, 467,   8,   9, 354,  15,   1,  13,   3, 557,   5,   6,   1,\n",
       "       177, 213,   1, 262,   5,   1,  19, 172,   2,   1, 164, 163,   2,\n",
       "       139, 190,  17, 139,   1, 164, 163,  28,  62, 239,   1, 182,   2,\n",
       "         1,  79, 242,  82,   1, 182,   2,   1, 164,  79, 152, 330,   9,\n",
       "        11, 360], dtype=int32)"
      ]
     },
     "execution_count": 41,
     "metadata": {},
     "output_type": "execute_result"
    }
   ],
   "source": [
    "# checking out what this did to the first patent\n",
    "X_train_seq[1]"
   ]
  },
  {
   "cell_type": "code",
   "execution_count": 66,
   "metadata": {
    "ExecuteTime": {
     "end_time": "2018-07-31T09:15:42.036274Z",
     "start_time": "2018-07-31T09:15:42.032419Z"
    }
   },
   "outputs": [
    {
     "name": "stdout",
     "output_type": "stream",
     "text": [
      "(62697, 600)\n",
      "(15675, 600)\n"
     ]
    }
   ],
   "source": [
    "print(X_train_seq.shape)\n",
    "print(X_test_seq.shape)"
   ]
  },
  {
   "cell_type": "code",
   "execution_count": 67,
   "metadata": {
    "ExecuteTime": {
     "end_time": "2018-07-31T09:15:51.243943Z",
     "start_time": "2018-07-31T09:15:50.882699Z"
    }
   },
   "outputs": [],
   "source": [
    "# step 4. Creating a mapping of tokens and their respective embeddings\n",
    "embedding_matrix = np.zeros((len(word_index) + 1, embedding_dim))\n",
    "for word, i in word_index.items():\n",
    "    embedding_vector = embeddings_index.get(word)\n",
    "    if embedding_vector is not None:\n",
    "        # words not found in embedding index will be all-zeros.\n",
    "        embedding_matrix[i] = embedding_vector"
   ]
  },
  {
   "cell_type": "code",
   "execution_count": 42,
   "metadata": {
    "ExecuteTime": {
     "end_time": "2018-07-31T08:17:54.565652Z",
     "start_time": "2018-07-31T08:17:54.561780Z"
    }
   },
   "outputs": [
    {
     "data": {
      "text/plain": [
       "(375172, 300)"
      ]
     },
     "execution_count": 42,
     "metadata": {},
     "output_type": "execute_result"
    }
   ],
   "source": [
    "embedding_matrix.shape"
   ]
  },
  {
   "cell_type": "markdown",
   "metadata": {},
   "source": [
    "### Evaluation Metrics"
   ]
  },
  {
   "cell_type": "markdown",
   "metadata": {},
   "source": [
    "**True Positives (TP)**: the number of labels predicted by our approach (prediction labels) that\n",
    "matched the IPC labels (true labels), without taking the exact order into account.\n",
    "\n",
    "**False Positives (FP)**: the labels predicted by our approach (prediction labels) that do not match the true IPC labels. \n",
    "\n",
    "**False Negatives (FN)**: the labels that should have been predicted by our approach, but were not.\n",
    "\n",
    "**True Negatives (TN)**: the labels that, correctly, were not predicted by our approach. \n",
    "\n",
    "\n",
    "$$ Precision = \\frac{TP}{TP + FP} = \\frac{trueLabels \\cap predictionLabels}{predictionLabels} $$\n",
    "\n",
    "$$ Recall = \\frac{TP}{TP + FN} = \\frac{trueLabels \\cap predictionLabels}{trueLabels} $$\n",
    "\n",
    "**Precision** shows the ratio of the predicted labels that are true labels.\n",
    "\n",
    "**Recall** shows the ratio of the true labels that were predicted correctly. \n",
    "\n",
    "After calculating the above metrics for each patent document, we calculate the final Precision, Recall and F1-score across all documents as follows: \n",
    "\n",
    "$$Precision_{total} = \\frac{1}{TotalSamples} \\sum_{n=i}^{TotalSamples} Precision_i$$\n",
    "\n",
    "$$Recall_{total} = \\frac{1}{TotalSamples} \\sum_{n=i}^{TotalSamples} Recall_i$$\n",
    "\n",
    "$$F1_{total} = 2* \\frac{Precision_{total}*Recall_{total}}{Precision_{total}+Recall_{total}}  $$"
   ]
  },
  {
   "cell_type": "code",
   "execution_count": 68,
   "metadata": {
    "ExecuteTime": {
     "end_time": "2018-07-31T09:15:59.821929Z",
     "start_time": "2018-07-31T09:15:59.710647Z"
    }
   },
   "outputs": [],
   "source": [
    "import keras.backend as K\n",
    "\n",
    "def precision(y_true, y_pred): \n",
    "    \"\"\"Precision metric. Only computes a batch-wise average of precision.  \n",
    "     Computes the precision, a metric for multi-label classification of \n",
    "     how many selected items are relevant. \n",
    "     \"\"\" \n",
    "    true_positives = K.sum(K.round(K.clip(y_true * y_pred, 0, 1))) \n",
    "    predicted_positives = K.sum(K.round(K.clip(y_pred, 0, 1))) \n",
    "    precision = true_positives / (predicted_positives + K.epsilon()) \n",
    "    return precision \n",
    "\n",
    "def recall(y_true, y_pred): \n",
    "    \"\"\"Recall metric. \n",
    "     Only computes a batch-wise average of recall. \n",
    "     Computes the recall, a metric for multi-label classification of \n",
    "     how many relevant items are selected. \n",
    "     \"\"\" \n",
    "    true_positives = K.sum(K.round(K.clip(y_true * y_pred, 0, 1))) \n",
    "    possible_positives = K.sum(K.round(K.clip(y_true, 0, 1))) \n",
    "    recall = true_positives / (possible_positives + K.epsilon()) \n",
    "    return recall \n",
    "\n",
    "def f1(y_true, y_pred):\n",
    "    def recall(y_true, y_pred):\n",
    "        \"\"\"Recall metric.\n",
    "\n",
    "        Only computes a batch-wise average of recall.\n",
    "\n",
    "        Computes the recall, a metric for multi-label classification of\n",
    "        how many relevant items are selected.\n",
    "        \"\"\"\n",
    "        true_positives = K.sum(K.round(K.clip(y_true * y_pred, 0, 1)))\n",
    "        possible_positives = K.sum(K.round(K.clip(y_true, 0, 1)))\n",
    "        recall = true_positives / (possible_positives + K.epsilon())\n",
    "        return recall\n",
    "\n",
    "    def precision(y_true, y_pred):\n",
    "        \"\"\"Precision metric.\n",
    "\n",
    "        Only computes a batch-wise average of precision.\n",
    "\n",
    "        Computes the precision, a metric for multi-label classification of\n",
    "        how many selected items are relevant.\n",
    "        \"\"\"\n",
    "        true_positives = K.sum(K.round(K.clip(y_true * y_pred, 0, 1)))\n",
    "        predicted_positives = K.sum(K.round(K.clip(y_pred, 0, 1)))\n",
    "        precision = true_positives / (predicted_positives + K.epsilon())\n",
    "        return precision\n",
    "    precision = precision(y_true, y_pred)\n",
    "    recall = recall(y_true, y_pred)\n",
    "    return 2*((precision*recall)/(precision+recall+K.epsilon()))"
   ]
  },
  {
   "cell_type": "markdown",
   "metadata": {},
   "source": [
    "## Definining Models"
   ]
  },
  {
   "cell_type": "markdown",
   "metadata": {},
   "source": [
    "**Note:** if we want to train our own embeddings we can try the `embeddings_initializer=\"uniform\"` parameter instead of `weights=[embedding_matrix]` in the embedding layer."
   ]
  },
  {
   "cell_type": "markdown",
   "metadata": {},
   "source": [
    "### CNN model"
   ]
  },
  {
   "cell_type": "code",
   "execution_count": 69,
   "metadata": {
    "ExecuteTime": {
     "end_time": "2018-07-31T09:16:19.525147Z",
     "start_time": "2018-07-31T09:16:19.518709Z"
    }
   },
   "outputs": [],
   "source": [
    "# CNN Model Hyper-parameters \n",
    "vocabulary_size = len(word_index) + 1\n",
    "sequence_length = sequence_length\n",
    "embedding_dim = embedding_dim\n",
    "num_filters = 100\n",
    "#filter_sizes = [3]\n",
    "kernel_size = 3  \n",
    "\n",
    "units = Y_train.shape[1]  # we need the output nodes to equal the number of classes (96)\n",
    "\n",
    "learning_rate = 1e-4"
   ]
  },
  {
   "cell_type": "code",
   "execution_count": 70,
   "metadata": {
    "ExecuteTime": {
     "end_time": "2018-07-31T09:16:23.714291Z",
     "start_time": "2018-07-31T09:16:23.573179Z"
    }
   },
   "outputs": [],
   "source": [
    "def CNN_model():    \n",
    "    \n",
    "    # Input Layer\n",
    "    input_layer = Input(shape=(sequence_length,), dtype='int32')\n",
    "\n",
    "    # Word embedding Layer\n",
    "    embedding_layer = Embedding(input_dim=vocabulary_size, output_dim=embedding_dim, input_length=sequence_length, \n",
    "                                weights=[embedding_matrix], trainable=False)(input_layer)\n",
    "    embedding_layer = SpatialDropout1D(0.3)(embedding_layer)\n",
    "\n",
    "    # Convolutional Layer\n",
    "    conv_layer = Conv1D(num_filters, kernel_size=kernel_size, activation=\"relu\")(embedding_layer)\n",
    "\n",
    "    # Pooling Layer\n",
    "    pooling_layer = GlobalMaxPool1D()(conv_layer)\n",
    "\n",
    "    # Output Layers\n",
    "    output_layer1 = Dense(50, activation=\"relu\")(pooling_layer)\n",
    "    output_layer1 = Dropout(0.25)(output_layer1)\n",
    "    output_layer2 = Dense(units= units, activation=\"sigmoid\")(output_layer1) \n",
    "\n",
    "    # Compile the model\n",
    "    # NOTE: we compile the model using binary cross entropy rather than categorical CE, since the goal \n",
    "    # is to treat each output labels as an independent Bernoulli distribution \n",
    "    model = models.Model(inputs=input_layer, outputs=output_layer2,)\n",
    "    model.compile(optimizer=optimizers.Adam(lr=learning_rate), \n",
    "                  loss='binary_crossentropy', \n",
    "                  metrics=['accuracy', recall, precision, f1]) # 'f1score', 'precision', 'recall'\n",
    "\n",
    "    return model "
   ]
  },
  {
   "cell_type": "markdown",
   "metadata": {},
   "source": [
    "### LSTM model"
   ]
  },
  {
   "cell_type": "code",
   "execution_count": 73,
   "metadata": {
    "ExecuteTime": {
     "end_time": "2018-07-31T09:37:11.932611Z",
     "start_time": "2018-07-31T09:37:11.927611Z"
    }
   },
   "outputs": [],
   "source": [
    "# LSTM Model Hyper-parameters \n",
    "vocabulary_size = len(word_index) + 1\n",
    "sequence_length = sequence_length\n",
    "embedding_dim = embedding_dim\n",
    "lstm_units = 100\n",
    "units = Y_train.shape[1] \n",
    "\n",
    "learning_rate = 1e-4"
   ]
  },
  {
   "cell_type": "code",
   "execution_count": 74,
   "metadata": {
    "ExecuteTime": {
     "end_time": "2018-07-31T09:37:15.098660Z",
     "start_time": "2018-07-31T09:37:15.077941Z"
    }
   },
   "outputs": [],
   "source": [
    "def LSTM_model():\n",
    "\n",
    "    # Input Layer\n",
    "    input_layer = Input(shape=(sequence_length,), dtype='int32')\n",
    "\n",
    "    # Word embedding Layer\n",
    "    embedding_layer = Embedding(input_dim=vocabulary_size, output_dim=embedding_dim, input_length=sequence_length, \n",
    "                                weights=[embedding_matrix], trainable=False)(input_layer)\n",
    "    embedding_layer = SpatialDropout1D(0.3)(embedding_layer)\n",
    "\n",
    "    # Add the LSTM Layer\n",
    "    lstm_layer = LSTM(lstm_units)(embedding_layer)\n",
    "\n",
    "    # Add the output Layers\n",
    "    output_layer1 = Dense(50, activation=\"relu\")(lstm_layer)\n",
    "    output_layer1 = Dropout(0.25)(output_layer1)\n",
    "    output_layer2 = Dense(units= units, activation=\"sigmoid\")(output_layer1)\n",
    "\n",
    "    # Compile the model\n",
    "    model = models.Model(inputs=input_layer, outputs=output_layer2)\n",
    "    model.compile(optimizer=optimizers.Adam(lr=learning_rate), \n",
    "                  loss='binary_crossentropy', \n",
    "                  metrics=['accuracy', recall, precision, f1]) # 'f1score', 'precision', 'recall'\n",
    "\n",
    "    return model\n"
   ]
  },
  {
   "cell_type": "markdown",
   "metadata": {},
   "source": [
    "## Training"
   ]
  },
  {
   "cell_type": "markdown",
   "metadata": {},
   "source": [
    "#### Reference: \n",
    "https://machinelearningmastery.com/diagnose-overfitting-underfitting-lstm-models/"
   ]
  },
  {
   "cell_type": "code",
   "execution_count": 81,
   "metadata": {
    "ExecuteTime": {
     "end_time": "2018-07-31T10:03:06.840243Z",
     "start_time": "2018-07-31T09:47:19.164241Z"
    }
   },
   "outputs": [
    {
     "name": "stdout",
     "output_type": "stream",
     "text": [
      "_________________________________________________________________\n",
      "Layer (type)                 Output Shape              Param #   \n",
      "=================================================================\n",
      "input_4 (InputLayer)         (None, 600)               0         \n",
      "_________________________________________________________________\n",
      "embedding_4 (Embedding)      (None, 600, 300)          157729500 \n",
      "_________________________________________________________________\n",
      "spatial_dropout1d_4 (Spatial (None, 600, 300)          0         \n",
      "_________________________________________________________________\n",
      "lstm_3 (LSTM)                (None, 100)               160400    \n",
      "_________________________________________________________________\n",
      "dense_5 (Dense)              (None, 50)                5050      \n",
      "_________________________________________________________________\n",
      "dropout_3 (Dropout)          (None, 50)                0         \n",
      "_________________________________________________________________\n",
      "dense_6 (Dense)              (None, 96)                4896      \n",
      "=================================================================\n",
      "Total params: 157,899,846\n",
      "Trainable params: 170,346\n",
      "Non-trainable params: 157,729,500\n",
      "_________________________________________________________________\n",
      "Train on 56427 samples, validate on 6270 samples\n",
      "Epoch 1/2\n",
      "56427/56427 [==============================] - 476s 8ms/step - loss: 0.2382 - acc: 0.9089 - recall: 0.0967 - precision: 0.0247 - f1: 0.0236 - val_loss: 0.0717 - val_acc: 0.9853 - val_recall: 0.0000e+00 - val_precision: 0.0000e+00 - val_f1: 0.0000e+00\n",
      "Epoch 2/2\n",
      "56427/56427 [==============================] - 467s 8ms/step - loss: 0.0837 - acc: 0.9842 - recall: 0.0039 - precision: 0.0398 - f1: 0.0070 - val_loss: 0.0694 - val_acc: 0.9853 - val_recall: 0.0000e+00 - val_precision: 0.0000e+00 - val_f1: 0.0000e+00\n"
     ]
    }
   ],
   "source": [
    "#[201807310100 PT] Testing fit\n",
    "batch_size = 100\n",
    "epochs = 2\n",
    "\n",
    "# Choosing Model \n",
    "model_tmp = LSTM_model()  # CNN_model()\n",
    "model_tmp.summary()\n",
    "\n",
    "history_tmp = model_tmp.fit(X_train_seq, Y_train,\n",
    "                    batch_size=batch_size,\n",
    "                    epochs=epochs,\n",
    "                    verbose=1,\n",
    "                    validation_split=0.1)"
   ]
  },
  {
   "cell_type": "code",
   "execution_count": 82,
   "metadata": {
    "ExecuteTime": {
     "end_time": "2018-07-31T10:03:30.811941Z",
     "start_time": "2018-07-31T10:03:30.808029Z"
    }
   },
   "outputs": [
    {
     "data": {
      "text/plain": [
       "dict_keys(['val_loss', 'val_acc', 'val_recall', 'val_precision', 'val_f1', 'loss', 'acc', 'recall', 'precision', 'f1'])"
      ]
     },
     "execution_count": 82,
     "metadata": {},
     "output_type": "execute_result"
    }
   ],
   "source": [
    "#[201807310100 PT] Testing fit\n",
    "history_tmp.history.keys()"
   ]
  },
  {
   "cell_type": "code",
   "execution_count": 94,
   "metadata": {
    "ExecuteTime": {
     "end_time": "2018-07-31T10:24:19.884347Z",
     "start_time": "2018-07-31T10:24:19.671232Z"
    }
   },
   "outputs": [
    {
     "name": "stdout",
     "output_type": "stream",
     "text": [
      "[0.23823980264434202, 0.08366855802297199]\n",
      "[0.07173012730560044, 0.06942718044707649]\n"
     ]
    },
    {
     "data": {
      "image/png": "[encoded data removed]",
      "text/plain": [
       "<matplotlib.figure.Figure at 0x7efcbc5e0470>"
      ]
     },
     "metadata": {},
     "output_type": "display_data"
    }
   ],
   "source": [
    "#[201807310100 PT] Testing fit\n",
    "print(history_tmp.history['loss'])\n",
    "print(history_tmp.history['val_loss'])\n",
    "plt.plot(history_tmp.history['loss'])\n",
    "plt.plot(history_tmp.history['val_loss'])\n",
    "plt.title('model train vs validation loss')\n",
    "plt.ylabel('loss')\n",
    "plt.xlabel('epoch')\n",
    "plt.legend(['train', 'validation'], loc='upper right')\n",
    "plt.show()"
   ]
  },
  {
   "cell_type": "code",
   "execution_count": 93,
   "metadata": {
    "ExecuteTime": {
     "end_time": "2018-07-31T10:23:37.266884Z",
     "start_time": "2018-07-31T10:23:37.058742Z"
    }
   },
   "outputs": [
    {
     "name": "stdout",
     "output_type": "stream",
     "text": [
      "train accuracy:[0.908866016045119, 0.9841875137710169]\n",
      "validation accuracy:[0.9853451911722454, 0.9853451911722454]\n"
     ]
    },
    {
     "data": {
      "image/png": "[encoded data removed]",
      "text/plain": [
       "<matplotlib.figure.Figure at 0x7efcb7863240>"
      ]
     },
     "metadata": {},
     "output_type": "display_data"
    }
   ],
   "source": [
    "#[201807310100 PT] Testing fit\n",
    "print(\"train accuracy:{}\".format(history_tmp.history['acc']))\n",
    "print(\"validation accuracy:{}\".format(history_tmp.history['val_acc']))\n",
    "plt.plot(history_tmp.history['acc'])\n",
    "plt.plot(history_tmp.history['val_acc'])\n",
    "plt.title('model train vs validation accuracy')\n",
    "plt.ylabel('loss')\n",
    "plt.xlabel('epoch')\n",
    "plt.legend(['train', 'validation'], loc='upper right')\n",
    "plt.show()"
   ]
  },
  {
   "cell_type": "code",
   "execution_count": null,
   "metadata": {
    "ExecuteTime": {
     "end_time": "2018-07-31T07:55:21.716183Z",
     "start_time": "2018-07-31T07:52:51.171Z"
    }
   },
   "outputs": [],
   "source": [
    "# Define Training Parameters \n",
    "batch_size = 100\n",
    "epochs = 5\n",
    "\n",
    "# Choosing Model \n",
    "model = LSTM_model()  # CNN_model()\n",
    "model.summary()"
   ]
  },
  {
   "cell_type": "code",
   "execution_count": null,
   "metadata": {
    "ExecuteTime": {
     "end_time": "2018-07-31T07:55:21.716941Z",
     "start_time": "2018-07-31T07:52:51.173Z"
    },
    "scrolled": true
   },
   "outputs": [],
   "source": [
    "# Training LSTM\n",
    "history = model.fit(X_train_seq, Y_train,\n",
    "                    batch_size=batch_size,\n",
    "                    epochs=epochs,\n",
    "                    verbose=1,\n",
    "                    validation_split=0.1)"
   ]
  },
  {
   "cell_type": "code",
   "execution_count": null,
   "metadata": {
    "ExecuteTime": {
     "end_time": "2018-07-31T07:55:21.717776Z",
     "start_time": "2018-07-31T07:52:51.175Z"
    }
   },
   "outputs": [],
   "source": [
    "# Define Training Parameters \n",
    "batch_size = 100\n",
    "epochs = 40\n",
    "\n",
    "# Choosing Model \n",
    "model = CNN_model() \n",
    "model.summary()"
   ]
  },
  {
   "cell_type": "code",
   "execution_count": null,
   "metadata": {
    "ExecuteTime": {
     "end_time": "2018-07-31T07:55:21.718592Z",
     "start_time": "2018-07-31T07:52:51.176Z"
    }
   },
   "outputs": [],
   "source": [
    "# Training CNN\n",
    "history = model.fit(X_train_seq, Y_train,\n",
    "                    batch_size=batch_size,\n",
    "                    epochs=epochs,\n",
    "                    verbose=1,\n",
    "                    validation_split=0.1)"
   ]
  },
  {
   "cell_type": "code",
   "execution_count": null,
   "metadata": {
    "ExecuteTime": {
     "end_time": "2018-07-31T07:55:21.719396Z",
     "start_time": "2018-07-31T07:52:51.178Z"
    }
   },
   "outputs": [],
   "source": [
    "# score = model.evaluate(X_test_seq, Y_test, verbose=0)\n",
    "# print('Test score:', score[0])\n",
    "# print('Test accuracy:', score[1])"
   ]
  },
  {
   "cell_type": "markdown",
   "metadata": {},
   "source": [
    "### LSTM Model Results"
   ]
  },
  {
   "cell_type": "code",
   "execution_count": 5,
   "metadata": {
    "ExecuteTime": {
     "end_time": "2018-07-31T07:55:21.720188Z",
     "start_time": "2018-07-31T07:52:51.180Z"
    }
   },
   "outputs": [],
   "source": [
    "def get_pred_classes(X_test_seq, number_of_labels = 1):\n",
    "\n",
    "    preds = np.zeros(shape=model.predict(X_test_seq).shape)\n",
    "    pred_proba = model.predict(X_test_seq)\n",
    "\n",
    "    for i in range(pred_proba.shape[0]): \n",
    "        idxs = np.argsort(pred_proba[i])[::-1][:number_of_labels]\n",
    "        preds[i][idxs] = 1\n",
    "    \n",
    "    return preds"
   ]
  },
  {
   "cell_type": "markdown",
   "metadata": {},
   "source": [
    "#### Top 1 label prediction"
   ]
  },
  {
   "cell_type": "code",
   "execution_count": null,
   "metadata": {
    "ExecuteTime": {
     "end_time": "2018-07-31T07:55:21.721003Z",
     "start_time": "2018-07-31T07:52:51.182Z"
    }
   },
   "outputs": [],
   "source": [
    "# average = samples : Calculate metrics for each instance, \n",
    "# and find their average (only meaningful for multilabel classification)\n",
    "pred_classes = get_pred_classes(X_test_seq, number_of_labels = 1)\n",
    "print(\"precision:\" , metrics.precision_score(Y_test, pred_classes, average = 'samples'))\n",
    "print(\"recall:\" , metrics.recall_score(Y_test, pred_classes, average = 'samples'))\n",
    "print(\"f1:\" , metrics.f1_score(Y_test, pred_classes, average = 'samples'))"
   ]
  },
  {
   "cell_type": "markdown",
   "metadata": {},
   "source": [
    "#### Top 2 labels prediction"
   ]
  },
  {
   "cell_type": "code",
   "execution_count": null,
   "metadata": {
    "ExecuteTime": {
     "end_time": "2018-07-31T07:55:21.721801Z",
     "start_time": "2018-07-31T07:52:51.185Z"
    }
   },
   "outputs": [],
   "source": [
    "pred_classes = get_pred_classes(X_test_seq, number_of_labels = 2)\n",
    "print(\"precision:\" , metrics.precision_score(Y_test, pred_classes, average = 'samples'))\n",
    "print(\"recall:\" , metrics.recall_score(Y_test, pred_classes, average = 'samples'))\n",
    "print(\"f1:\" , metrics.f1_score(Y_test, pred_classes, average = 'samples'))"
   ]
  },
  {
   "cell_type": "markdown",
   "metadata": {},
   "source": [
    "#### Top 10 labels prediction"
   ]
  },
  {
   "cell_type": "code",
   "execution_count": null,
   "metadata": {
    "ExecuteTime": {
     "end_time": "2018-07-31T07:55:21.722612Z",
     "start_time": "2018-07-31T07:52:51.186Z"
    }
   },
   "outputs": [],
   "source": [
    "pred_classes = get_pred_classes(X_test_seq, number_of_labels = 10)\n",
    "print(\"precision:\" , metrics.precision_score(Y_test, pred_classes, average = 'samples'))\n",
    "print(\"recall:\" , metrics.recall_score(Y_test, pred_classes, average = 'samples'))\n",
    "print(\"f1:\" , metrics.f1_score(Y_test, pred_classes, average = 'samples'))"
   ]
  },
  {
   "cell_type": "code",
   "execution_count": null,
   "metadata": {
    "ExecuteTime": {
     "end_time": "2018-07-31T07:55:21.723466Z",
     "start_time": "2018-07-31T07:52:51.188Z"
    }
   },
   "outputs": [],
   "source": [
    "# Ploting the loss \n",
    "#history.history[\"loss\"]\n",
    "\n",
    "plt.figure(figsize=(15,5))\n",
    "N = epochs\n",
    "plt.plot(np.arange(0, N), history.history[\"loss\"], label=\"train_loss\")\n",
    "plt.plot(np.arange(0, N), history.history[\"val_loss\"], label=\"val_loss\")\n",
    "# plt.plot(np.arange(0, N), history.history[\"acc\"], label=\"train_acc\")\n",
    "# plt.plot(np.arange(0, N), history.history[\"val_acc\"], label=\"val_acc\")\n",
    "# plt.plot(np.arange(0, N), history.history[\"precision\"], label=\"train_precision\")\n",
    "# plt.plot(np.arange(0, N), history.history[\"val_precision\"], label=\"val_precision\")\n",
    "# plt.plot(np.arange(0, N), history.history[\"recall\"], label=\"train_recall\")\n",
    "# plt.plot(np.arange(0, N), history.history[\"val_recall\"], label=\"val_recall\")\n",
    "# plt.plot(np.arange(0, N), history.history[\"f1\"], label=\"train_f1\")\n",
    "# plt.plot(np.arange(0, N), history.history[\"val_f1\"], label=\"val_f1\")\n",
    "plt.title(\"Training Loss (LSTM)\")\n",
    "plt.xlabel(\"Epochs\")\n",
    "plt.grid()\n",
    "#plt.ylabel(\"Loss/Accuracy\")\n",
    "plt.legend(loc=\"upper right\")"
   ]
  },
  {
   "cell_type": "markdown",
   "metadata": {},
   "source": [
    "### CNN Model Results"
   ]
  },
  {
   "cell_type": "markdown",
   "metadata": {},
   "source": [
    "#### Top 1 label prediction"
   ]
  },
  {
   "cell_type": "code",
   "execution_count": null,
   "metadata": {
    "ExecuteTime": {
     "end_time": "2018-07-31T07:55:21.724271Z",
     "start_time": "2018-07-31T07:52:51.191Z"
    }
   },
   "outputs": [],
   "source": [
    "pred_classes = get_pred_classes(X_test_seq, number_of_labels = 1)\n",
    "print(\"precision:\" , metrics.precision_score(Y_test, pred_classes, average = 'samples'))\n",
    "print(\"recall:\" , metrics.recall_score(Y_test, pred_classes, average = 'samples'))\n",
    "print(\"f1:\" , metrics.f1_score(Y_test, pred_classes, average = 'samples'))"
   ]
  },
  {
   "cell_type": "markdown",
   "metadata": {},
   "source": [
    "#### Top 2 labels prediction"
   ]
  },
  {
   "cell_type": "code",
   "execution_count": null,
   "metadata": {
    "ExecuteTime": {
     "end_time": "2018-07-31T07:55:21.725119Z",
     "start_time": "2018-07-31T07:52:51.195Z"
    }
   },
   "outputs": [],
   "source": [
    "pred_classes = get_pred_classes(X_test_seq, number_of_labels = 2)\n",
    "print(\"precision:\" , metrics.precision_score(Y_test, pred_classes, average = 'samples'))\n",
    "print(\"recall:\" , metrics.recall_score(Y_test, pred_classes, average = 'samples'))\n",
    "print(\"f1:\" , metrics.f1_score(Y_test, pred_classes, average = 'samples'))"
   ]
  },
  {
   "cell_type": "markdown",
   "metadata": {},
   "source": [
    "#### Top 10 labels prediction"
   ]
  },
  {
   "cell_type": "code",
   "execution_count": null,
   "metadata": {
    "ExecuteTime": {
     "end_time": "2018-07-31T07:55:21.725945Z",
     "start_time": "2018-07-31T07:52:51.197Z"
    }
   },
   "outputs": [],
   "source": [
    "pred_classes = get_pred_classes(X_test_seq, number_of_labels = 10)\n",
    "print(\"precision:\" , metrics.precision_score(Y_test, pred_classes, average = 'samples'))\n",
    "print(\"recall:\" , metrics.recall_score(Y_test, pred_classes, average = 'samples'))\n",
    "print(\"f1:\" , metrics.f1_score(Y_test, pred_classes, average = 'samples'))"
   ]
  },
  {
   "cell_type": "code",
   "execution_count": null,
   "metadata": {
    "ExecuteTime": {
     "end_time": "2018-07-31T07:55:21.726757Z",
     "start_time": "2018-07-31T07:52:51.200Z"
    }
   },
   "outputs": [],
   "source": [
    "# Ploting the loss \n",
    "#history.history[\"loss\"]\n",
    "\n",
    "plt.figure(figsize=(15,5))\n",
    "N = epochs\n",
    "plt.plot(np.arange(0, N), history.history[\"loss\"], label=\"train_loss\")\n",
    "plt.plot(np.arange(0, N), history.history[\"val_loss\"], label=\"val_loss\")\n",
    "# plt.plot(np.arange(0, N), history.history[\"acc\"], label=\"train_acc\")\n",
    "# plt.plot(np.arange(0, N), history.history[\"val_acc\"], label=\"val_acc\")\n",
    "# plt.plot(np.arange(0, N), history.history[\"precision\"], label=\"train_precision\")\n",
    "# plt.plot(np.arange(0, N), history.history[\"val_precision\"], label=\"val_precision\")\n",
    "# plt.plot(np.arange(0, N), history.history[\"recall\"], label=\"train_recall\")\n",
    "# plt.plot(np.arange(0, N), history.history[\"val_recall\"], label=\"val_recall\")\n",
    "# plt.plot(np.arange(0, N), history.history[\"f1\"], label=\"train_f1\")\n",
    "# plt.plot(np.arange(0, N), history.history[\"val_f1\"], label=\"val_f1\")\n",
    "plt.title(\"Training Loss (CNN)\")\n",
    "plt.xlabel(\"Epochs\")\n",
    "plt.grid()\n",
    "#plt.ylabel(\"Loss/Accuracy\")\n",
    "plt.legend(loc=\"upper right\")"
   ]
  },
  {
   "cell_type": "markdown",
   "metadata": {},
   "source": [
    "\n"
   ]
  },
  {
   "cell_type": "markdown",
   "metadata": {},
   "source": [
    "### Error Analysis"
   ]
  },
  {
   "cell_type": "code",
   "execution_count": null,
   "metadata": {
    "ExecuteTime": {
     "end_time": "2018-07-31T07:55:21.727522Z",
     "start_time": "2018-07-31T07:52:51.203Z"
    }
   },
   "outputs": [],
   "source": [
    "model.predict(X_test_seq)[100]"
   ]
  },
  {
   "cell_type": "code",
   "execution_count": null,
   "metadata": {
    "ExecuteTime": {
     "end_time": "2018-07-31T07:55:21.728304Z",
     "start_time": "2018-07-31T07:52:51.204Z"
    },
    "scrolled": true
   },
   "outputs": [],
   "source": [
    "for i in range(5):\n",
    "    print(model.predict(X_test_seq)[i].argmax())\n",
    "#model.predict(X_test_seq)[4].argmax()"
   ]
  },
  {
   "cell_type": "code",
   "execution_count": null,
   "metadata": {},
   "outputs": [],
   "source": []
  }
 ],
 "metadata": {
  "kernelspec": {
   "display_name": "Python 3",
   "language": "python",
   "name": "python3"
  },
  "language_info": {
   "codemirror_mode": {
    "name": "ipython",
    "version": 3
   },
   "file_extension": ".py",
   "mimetype": "text/x-python",
   "name": "python",
   "nbconvert_exporter": "python",
   "pygments_lexer": "ipython3",
   "version": "3.6.4"
  },
  "notify_time": "0",
  "varInspector": {
   "cols": {
    "lenName": 16,
    "lenType": 16,
    "lenVar": 40
   },
   "kernels_config": {
    "python": {
     "delete_cmd_postfix": "",
     "delete_cmd_prefix": "del ",
     "library": "var_list.py",
     "varRefreshCmd": "print(var_dic_list())"
    },
    "r": {
     "delete_cmd_postfix": ") ",
     "delete_cmd_prefix": "rm(",
     "library": "var_list.r",
     "varRefreshCmd": "cat(var_dic_list()) "
    }
   },
   "types_to_exclude": [
    "module",
    "function",
    "builtin_function_or_method",
    "instance",
    "_Feature"
   ],
   "window_display": false
  }
 },
 "nbformat": 4,
 "nbformat_minor": 2
}
