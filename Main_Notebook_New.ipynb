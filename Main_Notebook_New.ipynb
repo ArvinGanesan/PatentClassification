{
 "cells": [
  {
   "cell_type": "markdown",
   "metadata": {},
   "source": [
    "# Multi-label Patent Classification with Neural Networks"
   ]
  },
  {
   "cell_type": "code",
   "execution_count": 139,
   "metadata": {
    "ExecuteTime": {
     "end_time": "2018-07-31T07:53:16.970611Z",
     "start_time": "2018-07-31T07:52:51.054841Z"
    }
   },
   "outputs": [],
   "source": [
    "# import packages \n",
    "import tensorflow as tf\n",
    "import pandas as pd  \n",
    "import numpy as np \n",
    "import gzip\n",
    "from keras.models import Sequential\n",
    "from keras.layers import LSTM, GRU, Dense, Activation, Dropout, Input, Embedding, Bidirectional, Reshape, Flatten, Conv1D, MaxPooling1D, MaxPool1D, GlobalMaxPool1D, SpatialDropout1D\n",
    "from keras.layers import concatenate\n",
    "from keras.preprocessing import text, sequence\n",
    "from keras import utils\n",
    "from keras import callbacks\n",
    "from keras import optimizers, models\n",
    "from sklearn import model_selection, preprocessing, metrics\n",
    "from keras.utils import to_categorical\n",
    "import matplotlib.pyplot as plt\n",
    "import zipfile\n",
    "import keras_metrics\n",
    "\n",
    "import nltk\n",
    "import re\n",
    "\n",
    "import warnings\n",
    "warnings.filterwarnings('ignore')\n",
    "\n",
    "%matplotlib inline"
   ]
  },
  {
   "cell_type": "markdown",
   "metadata": {},
   "source": [
    "### Loading the Data"
   ]
  },
  {
   "cell_type": "markdown",
   "metadata": {},
   "source": [
    "Dataset: \n",
    "\n",
    "https://www.google.com/googlebooks/uspto-patents-grants-text.html#2015\n",
    "\n",
    "The parsing and preprocessing of the patent files can be found here: \n",
    "\n",
    "https://github.com/cpapadimitriou/W266-Final-Project/blob/master/preparation/parse_xml.py"
   ]
  },
  {
   "cell_type": "code",
   "execution_count": 2,
   "metadata": {
    "ExecuteTime": {
     "end_time": "2018-07-31T08:44:20.369588Z",
     "start_time": "2018-07-31T08:43:41.438721Z"
    }
   },
   "outputs": [],
   "source": [
    "# load data \n",
    "\n",
    "# features \n",
    "current_dir = %pwd\n",
    "abstract = pd.read_table(current_dir+'/out_zipped/docNumberToAbsText.txt.gz',compression='gzip', header=None)\n",
    "abstract = abstract[0].str.split('|', expand=True).rename(columns={0:'doc_num',1:'abstract'})\n",
    "\n",
    "claim = pd.read_table(current_dir+'/out_zipped/docNumberToClaimText.txt.gz',compression='gzip',  header=None)\n",
    "claim = claim[0].str.split('|', expand=True).rename(columns={0:'doc_num',1:'claim'})\n",
    "\n",
    "desc = pd.read_table(current_dir+'/out_zipped/docNumberToDescText.txt.gz',compression='gzip', header=None)\n",
    "desc = desc[0].str.split('|', expand=True).rename(columns={0:'doc_num',1:'desc'})\n",
    "\n",
    "title = pd.read_table(current_dir+'/out_zipped/docNumberToInvTitle.txt.gz',compression='gzip', header=None)\n",
    "title = title[0].str.split('|', expand=True).rename(columns={0:'doc_num',1:'title'})\n",
    "\n",
    "# file_name = pd.read_table(current_dir+'/out_zipped/fileNameToDocNumber.txt.gz',compression='gzip', header=None)\n",
    "# file_name = file_name[0].str.split('|', expand=True).rename(columns={0:'file_name',1:'doc_num'})"
   ]
  },
  {
   "cell_type": "code",
   "execution_count": 3,
   "metadata": {
    "ExecuteTime": {
     "end_time": "2018-07-31T08:45:19.685079Z",
     "start_time": "2018-07-31T08:45:19.377164Z"
    }
   },
   "outputs": [],
   "source": [
    "# labels \n",
    "# label_names = pd.read_table(current_dir+'/out_zipped/docNumberToLabelSubClass.txt.gz',compression='gzip', header=None)\n",
    "# label_names = labels[0].str.split('|', expand=True).rename(columns={0:'doc_num'})\n",
    "\n",
    "labels = pd.read_table(current_dir+'/out_zipped/docNumberToLabelSubClassCode.txt.gz',compression='gzip', header=None)\n",
    "labels = labels[0].str.split('|', expand=True).rename(columns={0:'doc_num'})"
   ]
  },
  {
   "cell_type": "markdown",
   "metadata": {},
   "source": [
    "### Data Preparation"
   ]
  },
  {
   "cell_type": "code",
   "execution_count": 4,
   "metadata": {
    "ExecuteTime": {
     "end_time": "2018-07-31T08:45:24.760483Z",
     "start_time": "2018-07-31T08:45:24.483901Z"
    }
   },
   "outputs": [
    {
     "name": "stdout",
     "output_type": "stream",
     "text": [
      "(78372, 4)\n",
      "(78372, 8)\n"
     ]
    }
   ],
   "source": [
    "# joining the datasets\n",
    "X = pd.concat([title.set_index('doc_num'), \n",
    "           abstract.set_index('doc_num'), \n",
    "           claim.set_index('doc_num'), \n",
    "           desc.set_index('doc_num')], axis=1).sort_index() #  join='inner'\n",
    "\n",
    "Y = labels.set_index('doc_num').sort_index() #.set_index(X.index) # fixing the index mismatch\n",
    "Y.columns=[\"label{}\".format(i) for i in range(1,9)] # renaming columns \n",
    "\n",
    "print(X.shape)\n",
    "print(Y.shape)"
   ]
  },
  {
   "cell_type": "code",
   "execution_count": 5,
   "metadata": {
    "ExecuteTime": {
     "end_time": "2018-07-31T07:53:47.730733Z",
     "start_time": "2018-07-31T07:53:47.703285Z"
    }
   },
   "outputs": [
    {
     "data": {
      "text/html": [
       "<div>\n",
       "<style scoped>\n",
       "    .dataframe tbody tr th:only-of-type {\n",
       "        vertical-align: middle;\n",
       "    }\n",
       "\n",
       "    .dataframe tbody tr th {\n",
       "        vertical-align: top;\n",
       "    }\n",
       "\n",
       "    .dataframe thead th {\n",
       "        text-align: right;\n",
       "    }\n",
       "</style>\n",
       "<table border=\"1\" class=\"dataframe\">\n",
       "  <thead>\n",
       "    <tr style=\"text-align: right;\">\n",
       "      <th></th>\n",
       "      <th>title</th>\n",
       "      <th>abstract</th>\n",
       "      <th>claim</th>\n",
       "      <th>desc</th>\n",
       "    </tr>\n",
       "    <tr>\n",
       "      <th>doc_num</th>\n",
       "      <th></th>\n",
       "      <th></th>\n",
       "      <th></th>\n",
       "      <th></th>\n",
       "    </tr>\n",
       "  </thead>\n",
       "  <tbody>\n",
       "    <tr>\n",
       "      <th>0000001</th>\n",
       "      <td>INTEGRAL MULTIFUNCTIONAL SYSTEM FOR MOTOR VEHICLE</td>\n",
       "      <td>The system finds application with the motor ve...</td>\n",
       "      <td>CLAIMS 1. Integral multifunctional system for ...</td>\n",
       "      <td>INTEGRAL MULTIFUNCTIONAL SYSTEM FOR MOTOR VEHI...</td>\n",
       "    </tr>\n",
       "    <tr>\n",
       "      <th>0000002</th>\n",
       "      <td>TURBINE DRIVEN WITH A FLUID MEDIUM</td>\n",
       "      <td>Turbine driven by a flowing medium to generate...</td>\n",
       "      <td>Claims 1. Turbine driven by a flowing medium t...</td>\n",
       "      <td>TURBINE DRIVEN WITH A FLUID MEDIUM. Technical ...</td>\n",
       "    </tr>\n",
       "    <tr>\n",
       "      <th>0000003</th>\n",
       "      <td>METHOD TO REMOVE LEAKAGE PROBLEMS IN PIPES PRO...</td>\n",
       "      <td>Method to remove leakage problems in pipes pro...</td>\n",
       "      <td>CLAIMS Claim 1 ) A new method in which choke a...</td>\n",
       "      <td>SPECIFICATION METHOD TO REMOVE LEAKAGE PROBLEM...</td>\n",
       "    </tr>\n",
       "    <tr>\n",
       "      <th>0000004</th>\n",
       "      <td>PRESSURE RELEASE VALVE</td>\n",
       "      <td>A pressure release valve is disclosed ideally ...</td>\n",
       "      <td>CLAIMS 1. A pressure release valve comprising ...</td>\n",
       "      <td>Pressure Release Valve This invention relates ...</td>\n",
       "    </tr>\n",
       "    <tr>\n",
       "      <th>0000005</th>\n",
       "      <td>ROLL-OVER MECHANISM FOR A PRESSURE RELEASE VALVE</td>\n",
       "      <td>A rollover mechanism for a pressure valve is d...</td>\n",
       "      <td>CLAIMS 1. A roll-over mechanism for a valve, s...</td>\n",
       "      <td>Roll-over mechanism for a pressure release val...</td>\n",
       "    </tr>\n",
       "  </tbody>\n",
       "</table>\n",
       "</div>"
      ],
      "text/plain": [
       "                                                     title  \\\n",
       "doc_num                                                      \n",
       "0000001  INTEGRAL MULTIFUNCTIONAL SYSTEM FOR MOTOR VEHICLE   \n",
       "0000002                 TURBINE DRIVEN WITH A FLUID MEDIUM   \n",
       "0000003  METHOD TO REMOVE LEAKAGE PROBLEMS IN PIPES PRO...   \n",
       "0000004                             PRESSURE RELEASE VALVE   \n",
       "0000005   ROLL-OVER MECHANISM FOR A PRESSURE RELEASE VALVE   \n",
       "\n",
       "                                                  abstract  \\\n",
       "doc_num                                                      \n",
       "0000001  The system finds application with the motor ve...   \n",
       "0000002  Turbine driven by a flowing medium to generate...   \n",
       "0000003  Method to remove leakage problems in pipes pro...   \n",
       "0000004  A pressure release valve is disclosed ideally ...   \n",
       "0000005  A rollover mechanism for a pressure valve is d...   \n",
       "\n",
       "                                                     claim  \\\n",
       "doc_num                                                      \n",
       "0000001  CLAIMS 1. Integral multifunctional system for ...   \n",
       "0000002  Claims 1. Turbine driven by a flowing medium t...   \n",
       "0000003  CLAIMS Claim 1 ) A new method in which choke a...   \n",
       "0000004  CLAIMS 1. A pressure release valve comprising ...   \n",
       "0000005  CLAIMS 1. A roll-over mechanism for a valve, s...   \n",
       "\n",
       "                                                      desc  \n",
       "doc_num                                                     \n",
       "0000001  INTEGRAL MULTIFUNCTIONAL SYSTEM FOR MOTOR VEHI...  \n",
       "0000002  TURBINE DRIVEN WITH A FLUID MEDIUM. Technical ...  \n",
       "0000003  SPECIFICATION METHOD TO REMOVE LEAKAGE PROBLEM...  \n",
       "0000004  Pressure Release Valve This invention relates ...  \n",
       "0000005  Roll-over mechanism for a pressure release val...  "
      ]
     },
     "execution_count": 5,
     "metadata": {},
     "output_type": "execute_result"
    }
   ],
   "source": [
    "X.head()"
   ]
  },
  {
   "cell_type": "code",
   "execution_count": 6,
   "metadata": {
    "ExecuteTime": {
     "end_time": "2018-07-31T07:53:47.754717Z",
     "start_time": "2018-07-31T07:53:47.732575Z"
    }
   },
   "outputs": [
    {
     "data": {
      "text/html": [
       "<div>\n",
       "<style scoped>\n",
       "    .dataframe tbody tr th:only-of-type {\n",
       "        vertical-align: middle;\n",
       "    }\n",
       "\n",
       "    .dataframe tbody tr th {\n",
       "        vertical-align: top;\n",
       "    }\n",
       "\n",
       "    .dataframe thead th {\n",
       "        text-align: right;\n",
       "    }\n",
       "</style>\n",
       "<table border=\"1\" class=\"dataframe\">\n",
       "  <thead>\n",
       "    <tr style=\"text-align: right;\">\n",
       "      <th></th>\n",
       "      <th>label1</th>\n",
       "      <th>label2</th>\n",
       "      <th>label3</th>\n",
       "      <th>label4</th>\n",
       "      <th>label5</th>\n",
       "      <th>label6</th>\n",
       "      <th>label7</th>\n",
       "      <th>label8</th>\n",
       "    </tr>\n",
       "    <tr>\n",
       "      <th>doc_num</th>\n",
       "      <th></th>\n",
       "      <th></th>\n",
       "      <th></th>\n",
       "      <th></th>\n",
       "      <th></th>\n",
       "      <th></th>\n",
       "      <th></th>\n",
       "      <th></th>\n",
       "    </tr>\n",
       "  </thead>\n",
       "  <tbody>\n",
       "    <tr>\n",
       "      <th>0000001</th>\n",
       "      <td>F02B</td>\n",
       "      <td>None</td>\n",
       "      <td>None</td>\n",
       "      <td>None</td>\n",
       "      <td>None</td>\n",
       "      <td>None</td>\n",
       "      <td>None</td>\n",
       "      <td>None</td>\n",
       "    </tr>\n",
       "    <tr>\n",
       "      <th>0000002</th>\n",
       "      <td>F03D</td>\n",
       "      <td>F03B</td>\n",
       "      <td>None</td>\n",
       "      <td>None</td>\n",
       "      <td>None</td>\n",
       "      <td>None</td>\n",
       "      <td>None</td>\n",
       "      <td>None</td>\n",
       "    </tr>\n",
       "    <tr>\n",
       "      <th>0000003</th>\n",
       "      <td>F16L</td>\n",
       "      <td>None</td>\n",
       "      <td>None</td>\n",
       "      <td>None</td>\n",
       "      <td>None</td>\n",
       "      <td>None</td>\n",
       "      <td>None</td>\n",
       "      <td>None</td>\n",
       "    </tr>\n",
       "    <tr>\n",
       "      <th>0000004</th>\n",
       "      <td>F16K</td>\n",
       "      <td>None</td>\n",
       "      <td>None</td>\n",
       "      <td>None</td>\n",
       "      <td>None</td>\n",
       "      <td>None</td>\n",
       "      <td>None</td>\n",
       "      <td>None</td>\n",
       "    </tr>\n",
       "    <tr>\n",
       "      <th>0000005</th>\n",
       "      <td>F16K</td>\n",
       "      <td>None</td>\n",
       "      <td>None</td>\n",
       "      <td>None</td>\n",
       "      <td>None</td>\n",
       "      <td>None</td>\n",
       "      <td>None</td>\n",
       "      <td>None</td>\n",
       "    </tr>\n",
       "  </tbody>\n",
       "</table>\n",
       "</div>"
      ],
      "text/plain": [
       "        label1 label2 label3 label4 label5 label6 label7 label8\n",
       "doc_num                                                        \n",
       "0000001   F02B   None   None   None   None   None   None   None\n",
       "0000002   F03D   F03B   None   None   None   None   None   None\n",
       "0000003   F16L   None   None   None   None   None   None   None\n",
       "0000004   F16K   None   None   None   None   None   None   None\n",
       "0000005   F16K   None   None   None   None   None   None   None"
      ]
     },
     "execution_count": 6,
     "metadata": {},
     "output_type": "execute_result"
    }
   ],
   "source": [
    "Y.head()"
   ]
  },
  {
   "cell_type": "code",
   "execution_count": 7,
   "metadata": {
    "ExecuteTime": {
     "end_time": "2018-07-31T08:45:39.260209Z",
     "start_time": "2018-07-31T08:45:30.465906Z"
    }
   },
   "outputs": [
    {
     "name": "stdout",
     "output_type": "stream",
     "text": [
      "0 documents with null title\n",
      "0 documents with null claims\n",
      "0 documents with null abstract\n",
      "0 documents with null description\n"
     ]
    }
   ],
   "source": [
    "# data cleaning \n",
    "assert Y['label1'].isnull().sum() == 0 # there is no document with \n",
    "\n",
    "print(\"{} documents with null title\".format(X['title'].isnull().sum()))\n",
    "print(\"{} documents with null claims\".format(X['claim'].isnull().sum()))\n",
    "print(\"{} documents with null abstract\".format(X['abstract'].isnull().sum()))\n",
    "print(\"{} documents with null description\".format(X['desc'].isnull().sum()))\n",
    "\n",
    "# remove documents with null sections (title and abstract)\n",
    "X_clean = X.dropna(how='any')\n",
    "null_idx = X[~X.index.isin(X_clean.index)].index # storing the removed indices (i.e. document numbers)\n",
    "assert X.shape[0] - null_idx.shape[0] == X_clean.shape[0] # making sure the row counts match\n",
    "\n",
    "# removing the documents with null sections from the labels as well \n",
    "Y_clean = Y.loc[X_clean.index]\n",
    "\n",
    "# some checks\n",
    "assert X_clean.shape[0] == Y_clean.shape[0]\n",
    "assert ((Y_clean.index == X_clean.index)*1).sum() == X_clean.shape[0]\n",
    "\n",
    "# lower-casing everything\n",
    "X_clean = X_clean.apply(lambda x: x.str.lower())\n",
    "Y_clean = Y_clean.apply(lambda x: x.str.lower())"
   ]
  },
  {
   "cell_type": "code",
   "execution_count": 8,
   "metadata": {
    "ExecuteTime": {
     "end_time": "2018-07-31T08:45:40.290069Z",
     "start_time": "2018-07-31T08:45:40.287155Z"
    }
   },
   "outputs": [
    {
     "name": "stdout",
     "output_type": "stream",
     "text": [
      "(78372, 4)\n",
      "(78372, 8)\n"
     ]
    }
   ],
   "source": [
    "print(X_clean.shape)\n",
    "print(Y_clean.shape)"
   ]
  },
  {
   "cell_type": "code",
   "execution_count": 9,
   "metadata": {
    "ExecuteTime": {
     "end_time": "2018-07-31T07:53:54.685593Z",
     "start_time": "2018-07-31T07:53:54.660732Z"
    }
   },
   "outputs": [
    {
     "data": {
      "text/html": [
       "<div>\n",
       "<style scoped>\n",
       "    .dataframe tbody tr th:only-of-type {\n",
       "        vertical-align: middle;\n",
       "    }\n",
       "\n",
       "    .dataframe tbody tr th {\n",
       "        vertical-align: top;\n",
       "    }\n",
       "\n",
       "    .dataframe thead th {\n",
       "        text-align: right;\n",
       "    }\n",
       "</style>\n",
       "<table border=\"1\" class=\"dataframe\">\n",
       "  <thead>\n",
       "    <tr style=\"text-align: right;\">\n",
       "      <th></th>\n",
       "      <th>title</th>\n",
       "      <th>abstract</th>\n",
       "      <th>claim</th>\n",
       "      <th>desc</th>\n",
       "    </tr>\n",
       "    <tr>\n",
       "      <th>doc_num</th>\n",
       "      <th></th>\n",
       "      <th></th>\n",
       "      <th></th>\n",
       "      <th></th>\n",
       "    </tr>\n",
       "  </thead>\n",
       "  <tbody>\n",
       "    <tr>\n",
       "      <th>0000001</th>\n",
       "      <td>integral multifunctional system for motor vehicle</td>\n",
       "      <td>the system finds application with the motor ve...</td>\n",
       "      <td>claims 1. integral multifunctional system for ...</td>\n",
       "      <td>integral multifunctional system for motor vehi...</td>\n",
       "    </tr>\n",
       "    <tr>\n",
       "      <th>0000002</th>\n",
       "      <td>turbine driven with a fluid medium</td>\n",
       "      <td>turbine driven by a flowing medium to generate...</td>\n",
       "      <td>claims 1. turbine driven by a flowing medium t...</td>\n",
       "      <td>turbine driven with a fluid medium. technical ...</td>\n",
       "    </tr>\n",
       "    <tr>\n",
       "      <th>0000003</th>\n",
       "      <td>method to remove leakage problems in pipes pro...</td>\n",
       "      <td>method to remove leakage problems in pipes pro...</td>\n",
       "      <td>claims claim 1 ) a new method in which choke a...</td>\n",
       "      <td>specification method to remove leakage problem...</td>\n",
       "    </tr>\n",
       "    <tr>\n",
       "      <th>0000004</th>\n",
       "      <td>pressure release valve</td>\n",
       "      <td>a pressure release valve is disclosed ideally ...</td>\n",
       "      <td>claims 1. a pressure release valve comprising ...</td>\n",
       "      <td>pressure release valve this invention relates ...</td>\n",
       "    </tr>\n",
       "    <tr>\n",
       "      <th>0000005</th>\n",
       "      <td>roll-over mechanism for a pressure release valve</td>\n",
       "      <td>a rollover mechanism for a pressure valve is d...</td>\n",
       "      <td>claims 1. a roll-over mechanism for a valve, s...</td>\n",
       "      <td>roll-over mechanism for a pressure release val...</td>\n",
       "    </tr>\n",
       "  </tbody>\n",
       "</table>\n",
       "</div>"
      ],
      "text/plain": [
       "                                                     title  \\\n",
       "doc_num                                                      \n",
       "0000001  integral multifunctional system for motor vehicle   \n",
       "0000002                 turbine driven with a fluid medium   \n",
       "0000003  method to remove leakage problems in pipes pro...   \n",
       "0000004                             pressure release valve   \n",
       "0000005   roll-over mechanism for a pressure release valve   \n",
       "\n",
       "                                                  abstract  \\\n",
       "doc_num                                                      \n",
       "0000001  the system finds application with the motor ve...   \n",
       "0000002  turbine driven by a flowing medium to generate...   \n",
       "0000003  method to remove leakage problems in pipes pro...   \n",
       "0000004  a pressure release valve is disclosed ideally ...   \n",
       "0000005  a rollover mechanism for a pressure valve is d...   \n",
       "\n",
       "                                                     claim  \\\n",
       "doc_num                                                      \n",
       "0000001  claims 1. integral multifunctional system for ...   \n",
       "0000002  claims 1. turbine driven by a flowing medium t...   \n",
       "0000003  claims claim 1 ) a new method in which choke a...   \n",
       "0000004  claims 1. a pressure release valve comprising ...   \n",
       "0000005  claims 1. a roll-over mechanism for a valve, s...   \n",
       "\n",
       "                                                      desc  \n",
       "doc_num                                                     \n",
       "0000001  integral multifunctional system for motor vehi...  \n",
       "0000002  turbine driven with a fluid medium. technical ...  \n",
       "0000003  specification method to remove leakage problem...  \n",
       "0000004  pressure release valve this invention relates ...  \n",
       "0000005  roll-over mechanism for a pressure release val...  "
      ]
     },
     "execution_count": 9,
     "metadata": {},
     "output_type": "execute_result"
    }
   ],
   "source": [
    "X_clean.head()"
   ]
  },
  {
   "cell_type": "code",
   "execution_count": 10,
   "metadata": {
    "ExecuteTime": {
     "end_time": "2018-07-31T07:53:54.710387Z",
     "start_time": "2018-07-31T07:53:54.687511Z"
    }
   },
   "outputs": [
    {
     "data": {
      "text/html": [
       "<div>\n",
       "<style scoped>\n",
       "    .dataframe tbody tr th:only-of-type {\n",
       "        vertical-align: middle;\n",
       "    }\n",
       "\n",
       "    .dataframe tbody tr th {\n",
       "        vertical-align: top;\n",
       "    }\n",
       "\n",
       "    .dataframe thead th {\n",
       "        text-align: right;\n",
       "    }\n",
       "</style>\n",
       "<table border=\"1\" class=\"dataframe\">\n",
       "  <thead>\n",
       "    <tr style=\"text-align: right;\">\n",
       "      <th></th>\n",
       "      <th>label1</th>\n",
       "      <th>label2</th>\n",
       "      <th>label3</th>\n",
       "      <th>label4</th>\n",
       "      <th>label5</th>\n",
       "      <th>label6</th>\n",
       "      <th>label7</th>\n",
       "      <th>label8</th>\n",
       "    </tr>\n",
       "    <tr>\n",
       "      <th>doc_num</th>\n",
       "      <th></th>\n",
       "      <th></th>\n",
       "      <th></th>\n",
       "      <th></th>\n",
       "      <th></th>\n",
       "      <th></th>\n",
       "      <th></th>\n",
       "      <th></th>\n",
       "    </tr>\n",
       "  </thead>\n",
       "  <tbody>\n",
       "    <tr>\n",
       "      <th>0000001</th>\n",
       "      <td>f02b</td>\n",
       "      <td>None</td>\n",
       "      <td>None</td>\n",
       "      <td>None</td>\n",
       "      <td>None</td>\n",
       "      <td>None</td>\n",
       "      <td>None</td>\n",
       "      <td>None</td>\n",
       "    </tr>\n",
       "    <tr>\n",
       "      <th>0000002</th>\n",
       "      <td>f03d</td>\n",
       "      <td>f03b</td>\n",
       "      <td>None</td>\n",
       "      <td>None</td>\n",
       "      <td>None</td>\n",
       "      <td>None</td>\n",
       "      <td>None</td>\n",
       "      <td>None</td>\n",
       "    </tr>\n",
       "    <tr>\n",
       "      <th>0000003</th>\n",
       "      <td>f16l</td>\n",
       "      <td>None</td>\n",
       "      <td>None</td>\n",
       "      <td>None</td>\n",
       "      <td>None</td>\n",
       "      <td>None</td>\n",
       "      <td>None</td>\n",
       "      <td>None</td>\n",
       "    </tr>\n",
       "    <tr>\n",
       "      <th>0000004</th>\n",
       "      <td>f16k</td>\n",
       "      <td>None</td>\n",
       "      <td>None</td>\n",
       "      <td>None</td>\n",
       "      <td>None</td>\n",
       "      <td>None</td>\n",
       "      <td>None</td>\n",
       "      <td>None</td>\n",
       "    </tr>\n",
       "    <tr>\n",
       "      <th>0000005</th>\n",
       "      <td>f16k</td>\n",
       "      <td>None</td>\n",
       "      <td>None</td>\n",
       "      <td>None</td>\n",
       "      <td>None</td>\n",
       "      <td>None</td>\n",
       "      <td>None</td>\n",
       "      <td>None</td>\n",
       "    </tr>\n",
       "  </tbody>\n",
       "</table>\n",
       "</div>"
      ],
      "text/plain": [
       "        label1 label2 label3 label4 label5 label6 label7 label8\n",
       "doc_num                                                        \n",
       "0000001   f02b   None   None   None   None   None   None   None\n",
       "0000002   f03d   f03b   None   None   None   None   None   None\n",
       "0000003   f16l   None   None   None   None   None   None   None\n",
       "0000004   f16k   None   None   None   None   None   None   None\n",
       "0000005   f16k   None   None   None   None   None   None   None"
      ]
     },
     "execution_count": 10,
     "metadata": {},
     "output_type": "execute_result"
    }
   ],
   "source": [
    "Y_clean.head()"
   ]
  },
  {
   "cell_type": "code",
   "execution_count": 11,
   "metadata": {
    "ExecuteTime": {
     "end_time": "2018-07-31T08:45:49.668809Z",
     "start_time": "2018-07-31T08:45:46.504307Z"
    }
   },
   "outputs": [],
   "source": [
    "# Creating dataset \n",
    "data = pd.DataFrame()\n",
    "data = X_clean\n",
    "\n",
    "# concat the text of all patent sections and join the labels\n",
    "#data['full_text'] = X_clean['title'] + \" \" + X_clean['claim'] + \" \" + X_clean['abstract'] + \" \" + X_clean['desc']\n",
    "\n",
    "# using only the first label  \n",
    "data['label1'] = Y_clean['label1'] \n",
    "\n",
    "# using all labels, merging them in a list and removing None values\n",
    "data['labels'] = Y_clean.values.tolist()\n",
    "data['labels'] = data['labels'].apply(lambda x: list(filter(None, x)))"
   ]
  },
  {
   "cell_type": "code",
   "execution_count": 14,
   "metadata": {
    "ExecuteTime": {
     "end_time": "2018-07-31T07:53:58.998564Z",
     "start_time": "2018-07-31T07:53:58.987926Z"
    },
    "scrolled": true
   },
   "outputs": [
    {
     "data": {
      "text/html": [
       "<div>\n",
       "<style scoped>\n",
       "    .dataframe tbody tr th:only-of-type {\n",
       "        vertical-align: middle;\n",
       "    }\n",
       "\n",
       "    .dataframe tbody tr th {\n",
       "        vertical-align: top;\n",
       "    }\n",
       "\n",
       "    .dataframe thead th {\n",
       "        text-align: right;\n",
       "    }\n",
       "</style>\n",
       "<table border=\"1\" class=\"dataframe\">\n",
       "  <thead>\n",
       "    <tr style=\"text-align: right;\">\n",
       "      <th></th>\n",
       "      <th>title</th>\n",
       "      <th>abstract</th>\n",
       "      <th>claim</th>\n",
       "      <th>desc</th>\n",
       "      <th>label1</th>\n",
       "      <th>labels</th>\n",
       "    </tr>\n",
       "    <tr>\n",
       "      <th>doc_num</th>\n",
       "      <th></th>\n",
       "      <th></th>\n",
       "      <th></th>\n",
       "      <th></th>\n",
       "      <th></th>\n",
       "      <th></th>\n",
       "    </tr>\n",
       "  </thead>\n",
       "  <tbody>\n",
       "    <tr>\n",
       "      <th>0000001</th>\n",
       "      <td>integral multifunctional system for motor vehicle</td>\n",
       "      <td>the system finds application with the motor ve...</td>\n",
       "      <td>claims 1. integral multifunctional system for ...</td>\n",
       "      <td>integral multifunctional system for motor vehi...</td>\n",
       "      <td>f02b</td>\n",
       "      <td>[f02b]</td>\n",
       "    </tr>\n",
       "    <tr>\n",
       "      <th>0000002</th>\n",
       "      <td>turbine driven with a fluid medium</td>\n",
       "      <td>turbine driven by a flowing medium to generate...</td>\n",
       "      <td>claims 1. turbine driven by a flowing medium t...</td>\n",
       "      <td>turbine driven with a fluid medium. technical ...</td>\n",
       "      <td>f03d</td>\n",
       "      <td>[f03d, f03b]</td>\n",
       "    </tr>\n",
       "    <tr>\n",
       "      <th>0000003</th>\n",
       "      <td>method to remove leakage problems in pipes pro...</td>\n",
       "      <td>method to remove leakage problems in pipes pro...</td>\n",
       "      <td>claims claim 1 ) a new method in which choke a...</td>\n",
       "      <td>specification method to remove leakage problem...</td>\n",
       "      <td>f16l</td>\n",
       "      <td>[f16l]</td>\n",
       "    </tr>\n",
       "    <tr>\n",
       "      <th>0000004</th>\n",
       "      <td>pressure release valve</td>\n",
       "      <td>a pressure release valve is disclosed ideally ...</td>\n",
       "      <td>claims 1. a pressure release valve comprising ...</td>\n",
       "      <td>pressure release valve this invention relates ...</td>\n",
       "      <td>f16k</td>\n",
       "      <td>[f16k]</td>\n",
       "    </tr>\n",
       "    <tr>\n",
       "      <th>0000005</th>\n",
       "      <td>roll-over mechanism for a pressure release valve</td>\n",
       "      <td>a rollover mechanism for a pressure valve is d...</td>\n",
       "      <td>claims 1. a roll-over mechanism for a valve, s...</td>\n",
       "      <td>roll-over mechanism for a pressure release val...</td>\n",
       "      <td>f16k</td>\n",
       "      <td>[f16k]</td>\n",
       "    </tr>\n",
       "  </tbody>\n",
       "</table>\n",
       "</div>"
      ],
      "text/plain": [
       "                                                     title  \\\n",
       "doc_num                                                      \n",
       "0000001  integral multifunctional system for motor vehicle   \n",
       "0000002                 turbine driven with a fluid medium   \n",
       "0000003  method to remove leakage problems in pipes pro...   \n",
       "0000004                             pressure release valve   \n",
       "0000005   roll-over mechanism for a pressure release valve   \n",
       "\n",
       "                                                  abstract  \\\n",
       "doc_num                                                      \n",
       "0000001  the system finds application with the motor ve...   \n",
       "0000002  turbine driven by a flowing medium to generate...   \n",
       "0000003  method to remove leakage problems in pipes pro...   \n",
       "0000004  a pressure release valve is disclosed ideally ...   \n",
       "0000005  a rollover mechanism for a pressure valve is d...   \n",
       "\n",
       "                                                     claim  \\\n",
       "doc_num                                                      \n",
       "0000001  claims 1. integral multifunctional system for ...   \n",
       "0000002  claims 1. turbine driven by a flowing medium t...   \n",
       "0000003  claims claim 1 ) a new method in which choke a...   \n",
       "0000004  claims 1. a pressure release valve comprising ...   \n",
       "0000005  claims 1. a roll-over mechanism for a valve, s...   \n",
       "\n",
       "                                                      desc label1  \\\n",
       "doc_num                                                             \n",
       "0000001  integral multifunctional system for motor vehi...   f02b   \n",
       "0000002  turbine driven with a fluid medium. technical ...   f03d   \n",
       "0000003  specification method to remove leakage problem...   f16l   \n",
       "0000004  pressure release valve this invention relates ...   f16k   \n",
       "0000005  roll-over mechanism for a pressure release val...   f16k   \n",
       "\n",
       "               labels  \n",
       "doc_num                \n",
       "0000001        [f02b]  \n",
       "0000002  [f03d, f03b]  \n",
       "0000003        [f16l]  \n",
       "0000004        [f16k]  \n",
       "0000005        [f16k]  "
      ]
     },
     "execution_count": 14,
     "metadata": {},
     "output_type": "execute_result"
    }
   ],
   "source": [
    "data.head()"
   ]
  },
  {
   "cell_type": "code",
   "execution_count": 14,
   "metadata": {
    "ExecuteTime": {
     "end_time": "2018-07-31T08:47:07.142233Z",
     "start_time": "2018-07-31T08:45:55.942110Z"
    }
   },
   "outputs": [
    {
     "data": {
      "image/png": "[encoded data removed]",
      "text/plain": [
       "<matplotlib.figure.Figure at 0x7f4aaffb8630>"
      ]
     },
     "metadata": {},
     "output_type": "display_data"
    }
   ],
   "source": [
    "# histogram of document length \n",
    "doc_lenghts = data.full_text.str.split().apply(lambda x: len(x))\n",
    "plt.figure(figsize=(12,5))\n",
    "plt.hist(doc_lenghts, bins=100)\n",
    "plt.xlim((0,40000))\n",
    "plt.xlabel('Document Length')\n",
    "plt.ylabel('Frequency')\n",
    "plt.show()"
   ]
  },
  {
   "cell_type": "code",
   "execution_count": null,
   "metadata": {
    "ExecuteTime": {
     "end_time": "2018-07-31T08:48:17.904946Z",
     "start_time": "2018-07-31T08:48:17.713245Z"
    }
   },
   "outputs": [],
   "source": [
    "# Bokeh for plotting.\n",
    "import bokeh.plotting as bp\n",
    "from bokeh.models import HoverTool\n",
    "bp.output_notebook()\n",
    "\n",
    "# Helper code for plotting histograms\n",
    "def plot_length_histogram(lengths, x_range=[0,40000], bins=40, normed=False):\n",
    "    hist, bin_edges = np.histogram(a=lengths, bins=bins, normed=normed, range=x_range)\n",
    "    bin_centers = (bin_edges[1:] + bin_edges[:-1])/2\n",
    "    bin_widths =  (bin_edges[1:] - bin_edges[:-1])\n",
    "\n",
    "    hover = HoverTool(tooltips=[(\"bucket\", \"@x\"), (\"count\", \"@top\")], mode=\"vline\")\n",
    "    fig = bp.figure(plot_width=800, plot_height=400, tools=[hover])\n",
    "    fig.vbar(x=bin_centers, width=bin_widths, top=hist, hover_fill_color=\"firebrick\")\n",
    "    fig.y_range.start = 0\n",
    "    fig.x_range.start = 0\n",
    "    fig.xaxis.axis_label = \"Document Length\"\n",
    "    fig.yaxis.axis_label = \"Frequency\"\n",
    "    bp.output_file(\"hist.html\")\n",
    "    bp.show(fig)\n",
    "    \n",
    "plot_length_histogram(doc_lenghts)"
   ]
  },
  {
   "cell_type": "code",
   "execution_count": 15,
   "metadata": {
    "ExecuteTime": {
     "end_time": "2018-07-31T08:55:01.216991Z",
     "start_time": "2018-07-31T08:55:01.208397Z"
    }
   },
   "outputs": [
    {
     "name": "stdout",
     "output_type": "stream",
     "text": [
      "Average document length: 4433 words\n",
      "Median document length: 3488.0 words\n",
      "Max document length: 174233 words\n",
      "Min document length: 48 words\n"
     ]
    }
   ],
   "source": [
    "# examing the document length \n",
    "print(\"Average document length: {} words\".format(round(np.mean(doc_lenghts))))\n",
    "print(\"Median document length: {} words\".format(round(np.median(doc_lenghts))))\n",
    "print(\"Max document length: {} words\".format(round(np.max(doc_lenghts))))\n",
    "print(\"Min document length: {} words\".format(round(np.min(doc_lenghts))))"
   ]
  },
  {
   "cell_type": "code",
   "execution_count": 16,
   "metadata": {
    "ExecuteTime": {
     "end_time": "2018-07-31T08:56:52.213867Z",
     "start_time": "2018-07-31T08:56:52.182857Z"
    }
   },
   "outputs": [
    {
     "name": "stdout",
     "output_type": "stream",
     "text": [
      "Avg. number of labels in dataset: 1.394949726943296\n"
     ]
    }
   ],
   "source": [
    "# average number of labels per document \n",
    "print(\"Avg. number of labels in dataset: {}\".format(data['labels'].apply(lambda x: len(x)).mean()))"
   ]
  },
  {
   "cell_type": "markdown",
   "metadata": {},
   "source": [
    "### Encoding Labels with MultiLabelBinarizer"
   ]
  },
  {
   "cell_type": "code",
   "execution_count": 15,
   "metadata": {
    "ExecuteTime": {
     "end_time": "2018-07-31T07:54:38.796900Z",
     "start_time": "2018-07-31T07:54:38.782931Z"
    },
    "scrolled": true
   },
   "outputs": [
    {
     "data": {
      "text/plain": [
       "doc_num\n",
       "0000001          [f02b]\n",
       "0000002    [f03d, f03b]\n",
       "0000003          [f16l]\n",
       "0000004          [f16k]\n",
       "0000005          [f16k]\n",
       "Name: labels, dtype: object"
      ]
     },
     "execution_count": 15,
     "metadata": {},
     "output_type": "execute_result"
    }
   ],
   "source": [
    "data['labels'].head()"
   ]
  },
  {
   "cell_type": "code",
   "execution_count": 12,
   "metadata": {
    "ExecuteTime": {
     "end_time": "2018-07-31T08:58:19.948400Z",
     "start_time": "2018-07-31T08:58:13.002631Z"
    }
   },
   "outputs": [],
   "source": [
    "# converting labels into a binarized matrix with the labels as columns \n",
    "# and each patent document represented in one row\n",
    "mlb = preprocessing.MultiLabelBinarizer()\n",
    "labels = mlb.fit_transform(data['labels'])\n",
    "\n",
    "# checking that the conversion worked as desired by verifying the counts of labels for each document prior and post \n",
    "assert data['labels'].apply(lambda x: len(x)).values.sum() == np.array(pd.DataFrame(labels).apply(lambda x: x.sum(),axis=1)).sum()"
   ]
  },
  {
   "cell_type": "code",
   "execution_count": 13,
   "metadata": {
    "ExecuteTime": {
     "end_time": "2018-07-31T07:54:44.699009Z",
     "start_time": "2018-07-31T07:54:44.696866Z"
    },
    "scrolled": true
   },
   "outputs": [],
   "source": [
    "# labels_df.iloc[:,[538]].sum()   #470"
   ]
  },
  {
   "cell_type": "code",
   "execution_count": 14,
   "metadata": {
    "ExecuteTime": {
     "end_time": "2018-07-31T07:54:44.731188Z",
     "start_time": "2018-07-31T07:54:44.700691Z"
    },
    "scrolled": false
   },
   "outputs": [
    {
     "data": {
      "text/html": [
       "<div>\n",
       "<style scoped>\n",
       "    .dataframe tbody tr th:only-of-type {\n",
       "        vertical-align: middle;\n",
       "    }\n",
       "\n",
       "    .dataframe tbody tr th {\n",
       "        vertical-align: top;\n",
       "    }\n",
       "\n",
       "    .dataframe thead th {\n",
       "        text-align: right;\n",
       "    }\n",
       "</style>\n",
       "<table border=\"1\" class=\"dataframe\">\n",
       "  <thead>\n",
       "    <tr style=\"text-align: right;\">\n",
       "      <th></th>\n",
       "      <th>f01b</th>\n",
       "      <th>f01c</th>\n",
       "      <th>f01d</th>\n",
       "      <th>f01k</th>\n",
       "      <th>f01l</th>\n",
       "      <th>f01m</th>\n",
       "      <th>f01n</th>\n",
       "      <th>f01p</th>\n",
       "      <th>f02b</th>\n",
       "      <th>f02c</th>\n",
       "      <th>...</th>\n",
       "      <th>f41a</th>\n",
       "      <th>f41b</th>\n",
       "      <th>f41c</th>\n",
       "      <th>f41f</th>\n",
       "      <th>f41g</th>\n",
       "      <th>f41h</th>\n",
       "      <th>f41j</th>\n",
       "      <th>f42b</th>\n",
       "      <th>f42c</th>\n",
       "      <th>f42d</th>\n",
       "    </tr>\n",
       "  </thead>\n",
       "  <tbody>\n",
       "    <tr>\n",
       "      <th>0</th>\n",
       "      <td>0</td>\n",
       "      <td>0</td>\n",
       "      <td>0</td>\n",
       "      <td>0</td>\n",
       "      <td>0</td>\n",
       "      <td>0</td>\n",
       "      <td>0</td>\n",
       "      <td>0</td>\n",
       "      <td>1</td>\n",
       "      <td>0</td>\n",
       "      <td>...</td>\n",
       "      <td>0</td>\n",
       "      <td>0</td>\n",
       "      <td>0</td>\n",
       "      <td>0</td>\n",
       "      <td>0</td>\n",
       "      <td>0</td>\n",
       "      <td>0</td>\n",
       "      <td>0</td>\n",
       "      <td>0</td>\n",
       "      <td>0</td>\n",
       "    </tr>\n",
       "    <tr>\n",
       "      <th>1</th>\n",
       "      <td>0</td>\n",
       "      <td>0</td>\n",
       "      <td>0</td>\n",
       "      <td>0</td>\n",
       "      <td>0</td>\n",
       "      <td>0</td>\n",
       "      <td>0</td>\n",
       "      <td>0</td>\n",
       "      <td>0</td>\n",
       "      <td>0</td>\n",
       "      <td>...</td>\n",
       "      <td>0</td>\n",
       "      <td>0</td>\n",
       "      <td>0</td>\n",
       "      <td>0</td>\n",
       "      <td>0</td>\n",
       "      <td>0</td>\n",
       "      <td>0</td>\n",
       "      <td>0</td>\n",
       "      <td>0</td>\n",
       "      <td>0</td>\n",
       "    </tr>\n",
       "    <tr>\n",
       "      <th>2</th>\n",
       "      <td>0</td>\n",
       "      <td>0</td>\n",
       "      <td>0</td>\n",
       "      <td>0</td>\n",
       "      <td>0</td>\n",
       "      <td>0</td>\n",
       "      <td>0</td>\n",
       "      <td>0</td>\n",
       "      <td>0</td>\n",
       "      <td>0</td>\n",
       "      <td>...</td>\n",
       "      <td>0</td>\n",
       "      <td>0</td>\n",
       "      <td>0</td>\n",
       "      <td>0</td>\n",
       "      <td>0</td>\n",
       "      <td>0</td>\n",
       "      <td>0</td>\n",
       "      <td>0</td>\n",
       "      <td>0</td>\n",
       "      <td>0</td>\n",
       "    </tr>\n",
       "    <tr>\n",
       "      <th>3</th>\n",
       "      <td>0</td>\n",
       "      <td>0</td>\n",
       "      <td>0</td>\n",
       "      <td>0</td>\n",
       "      <td>0</td>\n",
       "      <td>0</td>\n",
       "      <td>0</td>\n",
       "      <td>0</td>\n",
       "      <td>0</td>\n",
       "      <td>0</td>\n",
       "      <td>...</td>\n",
       "      <td>0</td>\n",
       "      <td>0</td>\n",
       "      <td>0</td>\n",
       "      <td>0</td>\n",
       "      <td>0</td>\n",
       "      <td>0</td>\n",
       "      <td>0</td>\n",
       "      <td>0</td>\n",
       "      <td>0</td>\n",
       "      <td>0</td>\n",
       "    </tr>\n",
       "    <tr>\n",
       "      <th>4</th>\n",
       "      <td>0</td>\n",
       "      <td>0</td>\n",
       "      <td>0</td>\n",
       "      <td>0</td>\n",
       "      <td>0</td>\n",
       "      <td>0</td>\n",
       "      <td>0</td>\n",
       "      <td>0</td>\n",
       "      <td>0</td>\n",
       "      <td>0</td>\n",
       "      <td>...</td>\n",
       "      <td>0</td>\n",
       "      <td>0</td>\n",
       "      <td>0</td>\n",
       "      <td>0</td>\n",
       "      <td>0</td>\n",
       "      <td>0</td>\n",
       "      <td>0</td>\n",
       "      <td>0</td>\n",
       "      <td>0</td>\n",
       "      <td>0</td>\n",
       "    </tr>\n",
       "  </tbody>\n",
       "</table>\n",
       "<p>5 rows × 96 columns</p>\n",
       "</div>"
      ],
      "text/plain": [
       "   f01b  f01c  f01d  f01k  f01l  f01m  f01n  f01p  f02b  f02c  ...   f41a  \\\n",
       "0     0     0     0     0     0     0     0     0     1     0  ...      0   \n",
       "1     0     0     0     0     0     0     0     0     0     0  ...      0   \n",
       "2     0     0     0     0     0     0     0     0     0     0  ...      0   \n",
       "3     0     0     0     0     0     0     0     0     0     0  ...      0   \n",
       "4     0     0     0     0     0     0     0     0     0     0  ...      0   \n",
       "\n",
       "   f41b  f41c  f41f  f41g  f41h  f41j  f42b  f42c  f42d  \n",
       "0     0     0     0     0     0     0     0     0     0  \n",
       "1     0     0     0     0     0     0     0     0     0  \n",
       "2     0     0     0     0     0     0     0     0     0  \n",
       "3     0     0     0     0     0     0     0     0     0  \n",
       "4     0     0     0     0     0     0     0     0     0  \n",
       "\n",
       "[5 rows x 96 columns]"
      ]
     },
     "execution_count": 14,
     "metadata": {},
     "output_type": "execute_result"
    }
   ],
   "source": [
    "labels_df = pd.DataFrame(labels, columns=mlb.classes_)  #.apply(lambda x: x.sum(),axis=1)\n",
    "labels_df.head()"
   ]
  },
  {
   "cell_type": "code",
   "execution_count": 9,
   "metadata": {
    "ExecuteTime": {
     "end_time": "2018-07-31T08:58:27.567411Z",
     "start_time": "2018-07-31T08:58:27.563179Z"
    }
   },
   "outputs": [
    {
     "name": "stdout",
     "output_type": "stream",
     "text": [
      "We have 96 classes\n"
     ]
    }
   ],
   "source": [
    "print(\"We have {} classes\".format(len(mlb.classes_)))\n"
   ]
  },
  {
   "cell_type": "markdown",
   "metadata": {},
   "source": [
    "### Advanced text processing and TF_IDF \n",
    "The following processing was applied to `data['full_text']`:\n",
    "\n",
    "- removing punctuation \n",
    "- lowercasing (happened earlier no need to do it here)\n",
    "- ** Detect and Remove non-english documents - TO DO **\n",
    "- removing stop words \n",
    "- romoving common / rare words (did not run this)\n",
    "- lemmatization or stemming (we chose lemmatization)\n",
    "- remove digits\n",
    "- filtering 600 best words in each document based on tf_idf algorithm "
   ]
  },
  {
   "cell_type": "code",
   "execution_count": 41,
   "metadata": {},
   "outputs": [
    {
     "data": {
      "text/plain": [
       "doc_num\n",
       "0000001    integral multifunctional system for motor vehi...\n",
       "0000002    turbine driven with a fluid medium claims 1. t...\n",
       "0000003    method to remove leakage problems in pipes pro...\n",
       "0000004    pressure release valve claims 1. a pressure re...\n",
       "0000005    roll-over mechanism for a pressure release val...\n",
       "0000007    device by ball valve c l a i m s 1. a valve, i...\n",
       "0000008    composite electroconducting material claims 1....\n",
       "0000009    process and apparatus for agglomeration of pow...\n",
       "0000011    heating unit for rock material claims 1. a hea...\n",
       "0000012    a method and apparatus for microwave processin...\n",
       "Name: full_text, dtype: object"
      ]
     },
     "execution_count": 41,
     "metadata": {},
     "output_type": "execute_result"
    }
   ],
   "source": [
    "data['full_text'].head(10)"
   ]
  },
  {
   "cell_type": "markdown",
   "metadata": {},
   "source": [
    "### 1. Advanced Processing"
   ]
  },
  {
   "cell_type": "code",
   "execution_count": 15,
   "metadata": {},
   "outputs": [],
   "source": [
    "# removing punctuation \n",
    "import re, string, timeit\n",
    "\n",
    "regex = re.compile('[%s]' % re.escape(string.punctuation), re.MULTILINE)\n",
    "\n",
    "\n",
    "data['title'] = data['title'].apply(lambda x : regex.sub(\"\", x))\n",
    "data['abstract'] = data['abstract'].apply(lambda x : regex.sub(\"\", x))\n",
    "data['claim'] = data['claim'].apply(lambda x : regex.sub(\"\", x))\n",
    "data['desc'] = data['desc'].apply(lambda x : regex.sub(\"\", x))\n",
    "\n",
    "\n",
    "\n",
    "\n",
    "\n",
    "#data['full_text_proc'] = data['full_text'].str.replace('[^\\w\\s]','')\n",
    "#data['full_text_proc'].head(10)"
   ]
  },
  {
   "cell_type": "code",
   "execution_count": 17,
   "metadata": {},
   "outputs": [],
   "source": [
    "# remove whitespace\n",
    "r = re.compile(r\"^\\s+\", re.MULTILINE)\n",
    "data['title'] = data['title'].apply(lambda x : r.sub(\"\", x))\n",
    "data['abstract'] = data['abstract'].apply(lambda x : r.sub(\"\", x))\n",
    "data['claim'] = data['claim'].apply(lambda x : r.sub(\"\", x))\n",
    "data['desc'] = data['desc'].apply(lambda x : r.sub(\"\", x))"
   ]
  },
  {
   "cell_type": "code",
   "execution_count": 18,
   "metadata": {
    "scrolled": true
   },
   "outputs": [],
   "source": [
    "# Convert to lower - casing \n",
    "\n",
    "data['title'] = data['title'].apply(lambda x : x.lower())\n",
    "data['abstract'] = data['abstract'].apply(lambda x : x.lower())\n",
    "data['claim'] = data['claim'].apply(lambda x : x.lower())\n",
    "data['desc'] = data['desc'].apply(lambda x : x.lower())\n",
    "\n",
    "#data['full_text_proc'] = data['full_text_proc'].apply(lambda x: \" \".join(x.lower() for x in x.split()))"
   ]
  },
  {
   "cell_type": "code",
   "execution_count": 19,
   "metadata": {},
   "outputs": [],
   "source": [
    "# Remove URLs\n",
    "\n",
    "re_url = re.compile(r'^http\\S+', re.MULTILINE|re.UNICODE)\n",
    "\n",
    "data['title'] = data['title'].apply(lambda x : re_url.sub(\"\", x))\n",
    "data['abstract'] = data['abstract'].apply(lambda x : re_url.sub(\"\", x))\n",
    "data['claim'] = data['claim'].apply(lambda x : re_url.sub(\"\", x))\n",
    "data['desc'] = data['desc'].apply(lambda x : re_url.sub(\"\", x))\n"
   ]
  },
  {
   "cell_type": "code",
   "execution_count": 20,
   "metadata": {},
   "outputs": [],
   "source": [
    "# Remove text that has claim and a number\n",
    "\n",
    "r1 = re.compile(r'(?:claim\\S\\d+|claim\\S \\d+|claim \\d+|claims?)', re.MULTILINE|re.UNICODE)\n",
    "\n",
    "\n",
    "data['title'] = data['title'].apply(lambda x : r1.sub(\"\", x))\n",
    "data['abstract'] = data['abstract'].apply(lambda x : r1.sub(\"\", x))\n",
    "data['claim'] = data['claim'].apply(lambda x : r1.sub(\"\", x))\n",
    "data['desc'] = data['desc'].apply(lambda x : r1.sub(\"\", x))\n"
   ]
  },
  {
   "cell_type": "code",
   "execution_count": 21,
   "metadata": {},
   "outputs": [],
   "source": [
    "# Introduce space on either side of new line\n",
    "\n",
    "r2 = re.compile(r'.\\n', re.MULTILINE|re.UNICODE)\n",
    "\n",
    "data['title'] = data['title'].apply(lambda x : r2.sub(\" \\n \", x))\n",
    "data['abstract'] = data['abstract'].apply(lambda x : r2.sub(\" \\n \", x))\n",
    "data['claim'] = data['claim'].apply(lambda x : r2.sub(\" \\n \", x))\n",
    "data['desc'] = data['desc'].apply(lambda x : r2.sub(\" \\n \", x))"
   ]
  },
  {
   "cell_type": "code",
   "execution_count": 22,
   "metadata": {},
   "outputs": [],
   "source": [
    "# remove temperature data such as 105°\n",
    "\n",
    "r2 = re.compile(r\"\\d+°?\", re.MULTILINE)\n",
    "\n",
    "data['title'] = data['title'].apply(lambda x : r2.sub(\"\", x))\n",
    "data['abstract'] = data['abstract'].apply(lambda x : r2.sub(\"\", x))\n",
    "data['claim'] = data['claim'].apply(lambda x : r2.sub(\"\", x))\n",
    "data['desc'] = data['desc'].apply(lambda x : r2.sub(\"\", x))"
   ]
  },
  {
   "cell_type": "code",
   "execution_count": 24,
   "metadata": {},
   "outputs": [],
   "source": [
    "# remove special characters \\xad\n",
    "\n",
    "r2 = re.compile(r\"\\xad\", re.MULTILINE)\n",
    "\n",
    "data['title'] = data['title'].apply(lambda x : r2.sub(\"\", x))\n",
    "data['abstract'] = data['abstract'].apply(lambda x : r2.sub(\"\", x))\n",
    "data['claim'] = data['claim'].apply(lambda x : r2.sub(\"\", x))\n",
    "data['desc'] = data['desc'].apply(lambda x : r2.sub(\"\", x))"
   ]
  },
  {
   "cell_type": "code",
   "execution_count": 25,
   "metadata": {},
   "outputs": [],
   "source": [
    "#Remove special characters - '', and ¬,\n",
    "\n",
    "data['title'] = data['title'].str.replace('\\'','')\n",
    "data['abstract'] = data['abstract'].str.replace('\\'','')\n",
    "data['claim'] = data['claim'].str.replace('\\'','')\n",
    "data['desc'] = data['desc'].str.replace('\\'','')\n",
    "\n",
    "data['title'] = data['title'].str.replace('¬','')\n",
    "data['abstract'] = data['abstract'].str.replace('¬','')\n",
    "data['claim'] = data['claim'].str.replace('¬','')\n",
    "data['desc'] = data['desc'].str.replace('¬','')\n"
   ]
  },
  {
   "cell_type": "code",
   "execution_count": 46,
   "metadata": {},
   "outputs": [],
   "source": [
    "# Remove special characters \"' and ¬\"\n",
    "\n",
    "r2 = re.compile(r\"[']\", re.MULTILINE)\n",
    "\n",
    "data['title'] = data['title'].apply(lambda x : r2.sub(\"\", x))\n",
    "data['abstract'] = data['abstract'].apply(lambda x : r2.sub(\"\", x))\n",
    "data['claim'] = data['claim'].apply(lambda x : r2.sub(\"\", x))\n",
    "data['desc'] = data['desc'].apply(lambda x : r2.sub(\"\", x))\n",
    "\n",
    "r2 = re.compile(r\"[¬]\", re.MULTILINE)\n",
    "\n",
    "data['title'] = data['title'].apply(lambda x : r2.sub(\"\", x))\n",
    "data['abstract'] = data['abstract'].apply(lambda x : r2.sub(\"\", x))\n",
    "data['claim'] = data['claim'].apply(lambda x : r2.sub(\"\", x))\n",
    "data['desc'] = data['desc'].apply(lambda x : r2.sub(\"\", x))"
   ]
  },
  {
   "cell_type": "code",
   "execution_count": 47,
   "metadata": {},
   "outputs": [],
   "source": [
    "# Remove dots from the data\n",
    "\n",
    "r2 = re.compile(r\"[.]\", re.MULTILINE)\n",
    "\n",
    "data['title'] = data['title'].apply(lambda x : r2.sub(\"\", x))\n",
    "data['abstract'] = data['abstract'].apply(lambda x : r2.sub(\"\", x))\n",
    "data['claim'] = data['claim'].apply(lambda x : r2.sub(\"\", x))\n",
    "data['desc'] = data['desc'].apply(lambda x : r2.sub(\"\", x))"
   ]
  },
  {
   "cell_type": "code",
   "execution_count": 48,
   "metadata": {},
   "outputs": [
    {
     "data": {
      "text/plain": [
       "doc_num\n",
       "0000001    integral multifunctional system for motor vehi...\n",
       "0000002    turbine driven with a fluid medium \\n  turbine...\n",
       "0000003    method to remove leakage problems in pipes pro...\n",
       "0000004    pressure release valve \\n  a pressure release ...\n",
       "0000005    rollover mechanism for a pressure release valv...\n",
       "Name: full_text1, dtype: object"
      ]
     },
     "execution_count": 48,
     "metadata": {},
     "output_type": "execute_result"
    }
   ],
   "source": [
    "# Merge all the four sections\n",
    "\n",
    "data['full_text1'] = X_clean['title'] + \" \\n \" + X_clean['claim'] + \" \\n \" + X_clean['abstract'] + \" \\n \" + X_clean['desc']\n",
    "\n",
    "\n",
    "data['full_text1'].head()"
   ]
  },
  {
   "cell_type": "markdown",
   "metadata": {},
   "source": [
    "## Use Keras tokenizer to create sequences / tokens of the text"
   ]
  },
  {
   "cell_type": "code",
   "execution_count": 52,
   "metadata": {},
   "outputs": [
    {
     "name": "stdout",
     "output_type": "stream",
     "text": [
      "Number of words in our vocabulary: 581702\n"
     ]
    }
   ],
   "source": [
    "token = text.Tokenizer(filters='.°™\\'¯⊘■®') # num_words=sequence_length lower=True\n",
    "#d_text = ['The blue sky is blue and orange\\n The world is new','black and blue new color']\n",
    "token.fit_on_texts(data['full_text1'])\n",
    "word_index = token.word_index\n",
    "print('Number of words in our vocabulary: {}'.format(len(word_index.keys())))"
   ]
  },
  {
   "cell_type": "code",
   "execution_count": 54,
   "metadata": {},
   "outputs": [],
   "source": [
    "# convert the full text to sequences and then back to text.\n",
    "# This helps in getting the cleaned text after applying filters that used in the keras tokenizer\n",
    "data_full_text_seq = token.texts_to_sequences(data['full_text1'])\n",
    "data_full_text_txt = token.sequences_to_texts(data_full_text_seq)\n",
    "\n"
   ]
  },
  {
   "cell_type": "markdown",
   "metadata": {},
   "source": [
    "## Create Word embeddings using CBOW (Word2vec)"
   ]
  },
  {
   "cell_type": "markdown",
   "metadata": {},
   "source": [
    "### Create input text for the word embedding algorithm"
   ]
  },
  {
   "cell_type": "code",
   "execution_count": 56,
   "metadata": {},
   "outputs": [
    {
     "name": "stderr",
     "output_type": "stream",
     "text": [
      "100%|██████████| 78372/78372 [07:19<00:00, 178.30it/s]\n"
     ]
    }
   ],
   "source": [
    "from nltk.tokenize import WordPunctTokenizer\n",
    "from collections import Counter\n",
    "from string import punctuation, ascii_lowercase\n",
    "import re\n",
    "from tqdm import tqdm\n",
    "vocab = Counter()\n",
    "tokenizer_word = WordPunctTokenizer()\n",
    "\n",
    "\n",
    "def text_to_wordlist(text):\n",
    "    \n",
    "   # Tokenize\n",
    "    text = tokenizer_word.tokenize(text)\n",
    "    \n",
    "   # Return a list of words\n",
    "    vocab.update(text)\n",
    "    return text\n",
    "\n",
    "def process_comments(list_sentences, lower=False):\n",
    "    comments = []\n",
    "    for text in tqdm(list_sentences):\n",
    "        txt = text_to_wordlist(text)\n",
    "        comments.append(txt)\n",
    "    return comments\n",
    "CBOW_input_full_text = process_comments(data_full_text_txt)"
   ]
  },
  {
   "cell_type": "markdown",
   "metadata": {},
   "source": [
    "### Gensim Word2Vec - CBOW Model"
   ]
  },
  {
   "cell_type": "code",
   "execution_count": 59,
   "metadata": {},
   "outputs": [
    {
     "name": "stdout",
     "output_type": "stream",
     "text": [
      "2018-08-07 16:12:21.357433\n",
      "2018-08-07 16:40:30.565568\n",
      "Number of word vectors: 572817\n"
     ]
    }
   ],
   "source": [
    "import datetime\n",
    "from gensim.models import Word2Vec\n",
    "\n",
    "print(datetime.datetime.now())\n",
    "model1 = Word2Vec(CBOW_input_full_text, size=100, window=5, min_count=0, workers=16, sg=0)\n",
    "word_vectors1 = model1.wv\n",
    "print(datetime.datetime.now())\n",
    "print(\"Number of word vectors: {}\".format(len(word_vectors1.vocab)))"
   ]
  },
  {
   "cell_type": "code",
   "execution_count": 60,
   "metadata": {},
   "outputs": [],
   "source": [
    "model1.save(\"word2vec_cbow.model\")"
   ]
  },
  {
   "cell_type": "markdown",
   "metadata": {},
   "source": [
    "### Create embedding matrix"
   ]
  },
  {
   "cell_type": "code",
   "execution_count": 66,
   "metadata": {},
   "outputs": [],
   "source": [
    "# Create embedding matrix\n",
    "embedding_dim = 100\n",
    "embedding_matrix = np.zeros((len(word_index) + 1, embedding_dim))\n",
    "for word, i in word_index.items():\n",
    "    if word in vocab:    \n",
    "        embedding_vector = word_vectors1[word]\n",
    "    else:\n",
    "        embedding_vector = None\n",
    "    \n",
    "    if embedding_vector is not None:\n",
    "        # words not found in embedding index will be all-zeros.\n",
    "        embedding_matrix[i] = embedding_vector"
   ]
  },
  {
   "cell_type": "code",
   "execution_count": 256,
   "metadata": {},
   "outputs": [
    {
     "data": {
      "text/plain": [
       "(581703, 100)"
      ]
     },
     "execution_count": 256,
     "metadata": {},
     "output_type": "execute_result"
    }
   ],
   "source": [
    "embedding_matrix.shape"
   ]
  },
  {
   "cell_type": "markdown",
   "metadata": {},
   "source": [
    "## TF IDF Methodology to extract important words"
   ]
  },
  {
   "cell_type": "code",
   "execution_count": 85,
   "metadata": {},
   "outputs": [],
   "source": [
    "# Initialize a TFIDF Vecxtorizer and pass the preprocessed full text\n",
    "\n",
    "from sklearn.feature_extraction.text import TfidfVectorizer\n",
    "\n",
    "\n",
    "\n",
    "tfidf = TfidfVectorizer(lowercase=True, analyzer='word', smooth_idf=False, sublinear_tf=False, norm=None,\n",
    "                        stop_words='english', ngram_range=(1,1)) \n",
    "\n",
    "text_transformed = tfidf.fit_transform(data['full_text1'])\n"
   ]
  },
  {
   "cell_type": "code",
   "execution_count": 105,
   "metadata": {},
   "outputs": [],
   "source": [
    "# Transform the data for title, claim, abstract and description using TFIDF model \n",
    "# store the TFIDF values for the words for each of the sections\n",
    "\n",
    "title_tfidf =  tfidf.transform(data['title'])\n",
    "claim_tfidf =  tfidf.transform(data['claim'])\n",
    "abstract_tfidf =  tfidf.transform(data['abstract'])\n",
    "desc_tfidf =  tfidf.transform(data['desc'])"
   ]
  },
  {
   "cell_type": "code",
   "execution_count": 109,
   "metadata": {},
   "outputs": [],
   "source": [
    "# Initialize dataframes to store top words based on TF IDF for each of the sections.\n",
    "col_names =  ['i','top_words']\n",
    "max_length = 150\n",
    "title_top_words  = pd.DataFrame(columns = col_names)\n",
    "claim_top_words  = pd.DataFrame(columns = col_names)\n",
    "abstract_top_words  = pd.DataFrame(columns = col_names)\n",
    "desc_top_words  = pd.DataFrame(columns = col_names)"
   ]
  },
  {
   "cell_type": "markdown",
   "metadata": {},
   "source": [
    "### Get top words for Title using TFIDF"
   ]
  },
  {
   "cell_type": "code",
   "execution_count": 110,
   "metadata": {},
   "outputs": [
    {
     "name": "stderr",
     "output_type": "stream",
     "text": [
      "100%|██████████| 78372/78372 [14:18<00:00, 91.25it/s] \n"
     ]
    }
   ],
   "source": [
    "\n",
    "feature_names = np.array(tfidf.get_feature_names())\n",
    "\n",
    "for i in tqdm(range(text_transformed.shape[0])):\n",
    "    f_index = title_tfidf[i,:].nonzero()[1]\n",
    "    tfid_score = zip(f_index,[title_tfidf[i,x] for x in f_index])\n",
    "   \n",
    "    word = []\n",
    "    score = []\n",
    "\n",
    "    for w,s in [(feature_names[i],s) for i,s in tfid_score]:\n",
    "        word.append(w)\n",
    "        score.append(s)\n",
    "        \n",
    "    score = np.array(score)\n",
    "    word = np.array(word)\n",
    "    txt = \" \".join(word[(-score).argsort()[:max_length]])\n",
    "    title_top_words.loc[len(title_top_words)] = [i,txt]\n",
    "    \n",
    "    \n",
    "    \n",
    "\n",
    "\n",
    "\n"
   ]
  },
  {
   "cell_type": "code",
   "execution_count": 111,
   "metadata": {},
   "outputs": [
    {
     "data": {
      "text/html": [
       "<div>\n",
       "<style scoped>\n",
       "    .dataframe tbody tr th:only-of-type {\n",
       "        vertical-align: middle;\n",
       "    }\n",
       "\n",
       "    .dataframe tbody tr th {\n",
       "        vertical-align: top;\n",
       "    }\n",
       "\n",
       "    .dataframe thead th {\n",
       "        text-align: right;\n",
       "    }\n",
       "</style>\n",
       "<table border=\"1\" class=\"dataframe\">\n",
       "  <thead>\n",
       "    <tr style=\"text-align: right;\">\n",
       "      <th></th>\n",
       "      <th>i</th>\n",
       "      <th>top_words</th>\n",
       "    </tr>\n",
       "  </thead>\n",
       "  <tbody>\n",
       "    <tr>\n",
       "      <th>0</th>\n",
       "      <td>0</td>\n",
       "      <td>multifunctional integral vehicle motor</td>\n",
       "    </tr>\n",
       "    <tr>\n",
       "      <th>1</th>\n",
       "      <td>1</td>\n",
       "      <td>turbine medium driven fluid</td>\n",
       "    </tr>\n",
       "    <tr>\n",
       "      <th>2</th>\n",
       "      <td>2</td>\n",
       "      <td>plasticbase pipes leakage remove materials pro...</td>\n",
       "    </tr>\n",
       "    <tr>\n",
       "      <th>3</th>\n",
       "      <td>3</td>\n",
       "      <td>release valve pressure</td>\n",
       "    </tr>\n",
       "    <tr>\n",
       "      <th>4</th>\n",
       "      <td>4</td>\n",
       "      <td>rollover release mechanism valve pressure</td>\n",
       "    </tr>\n",
       "  </tbody>\n",
       "</table>\n",
       "</div>"
      ],
      "text/plain": [
       "   i                                          top_words\n",
       "0  0             multifunctional integral vehicle motor\n",
       "1  1                        turbine medium driven fluid\n",
       "2  2  plasticbase pipes leakage remove materials pro...\n",
       "3  3                             release valve pressure\n",
       "4  4          rollover release mechanism valve pressure"
      ]
     },
     "execution_count": 111,
     "metadata": {},
     "output_type": "execute_result"
    }
   ],
   "source": [
    "title_top_words.head()"
   ]
  },
  {
   "cell_type": "markdown",
   "metadata": {},
   "source": [
    "### Get top words for claim using TFIDF"
   ]
  },
  {
   "cell_type": "code",
   "execution_count": 114,
   "metadata": {},
   "outputs": [
    {
     "name": "stderr",
     "output_type": "stream",
     "text": [
      "100%|██████████| 78372/78372 [21:07<00:00, 61.84it/s] \n"
     ]
    }
   ],
   "source": [
    "for i in tqdm(range(text_transformed.shape[0])):\n",
    "    f_index = claim_tfidf[i,:].nonzero()[1]\n",
    "    tfid_score = zip(f_index,[claim_tfidf[i,x] for x in f_index])\n",
    "   \n",
    "    word = []\n",
    "    score = []\n",
    "\n",
    "    for w,s in [(feature_names[i],s) for i,s in tfid_score]:\n",
    "        word.append(w)\n",
    "        score.append(s)\n",
    "        \n",
    "    score = np.array(score)\n",
    "    word = np.array(word)\n",
    "    txt = \" \".join(word[(-score).argsort()[:max_length]])\n",
    "    claim_top_words.loc[len(claim_top_words)] = [i,txt]"
   ]
  },
  {
   "cell_type": "markdown",
   "metadata": {},
   "source": [
    "### Get top words for description using TFIDF"
   ]
  },
  {
   "cell_type": "code",
   "execution_count": 115,
   "metadata": {},
   "outputs": [
    {
     "name": "stderr",
     "output_type": "stream",
     "text": [
      "  0%|          | 7/78372 [00:00<21:58, 59.44it/s]"
     ]
    },
    {
     "name": "stdout",
     "output_type": "stream",
     "text": [
      "150\n"
     ]
    },
    {
     "name": "stderr",
     "output_type": "stream",
     "text": [
      "100%|██████████| 78372/78372 [34:24<00:00, 37.96it/s]\n"
     ]
    }
   ],
   "source": [
    "for i in tqdm(range(text_transformed.shape[0])):\n",
    "    f_index = desc_tfidf[i,:].nonzero()[1]\n",
    "    tfid_score = zip(f_index,[desc_tfidf[i,x] for x in f_index])\n",
    "   \n",
    "    word = []\n",
    "    score = []\n",
    "\n",
    "    for w,s in [(feature_names[i],s) for i,s in tfid_score]:\n",
    "        word.append(w)\n",
    "        score.append(s)\n",
    "        \n",
    "    score = np.array(score)\n",
    "    word = np.array(word)\n",
    "    txt = \" \".join(word[(-score).argsort()[:max_length]])\n",
    "    desc_top_words.loc[len(desc_top_words)] = [i,txt]"
   ]
  },
  {
   "cell_type": "code",
   "execution_count": 116,
   "metadata": {},
   "outputs": [
    {
     "data": {
      "text/html": [
       "<div>\n",
       "<style scoped>\n",
       "    .dataframe tbody tr th:only-of-type {\n",
       "        vertical-align: middle;\n",
       "    }\n",
       "\n",
       "    .dataframe tbody tr th {\n",
       "        vertical-align: top;\n",
       "    }\n",
       "\n",
       "    .dataframe thead th {\n",
       "        text-align: right;\n",
       "    }\n",
       "</style>\n",
       "<table border=\"1\" class=\"dataframe\">\n",
       "  <thead>\n",
       "    <tr style=\"text-align: right;\">\n",
       "      <th></th>\n",
       "      <th>i</th>\n",
       "      <th>top_words</th>\n",
       "    </tr>\n",
       "  </thead>\n",
       "  <tbody>\n",
       "    <tr>\n",
       "      <th>0</th>\n",
       "      <td>0</td>\n",
       "      <td>hydraulic multifunctional connected accumulato...</td>\n",
       "    </tr>\n",
       "    <tr>\n",
       "      <th>1</th>\n",
       "      <td>1</td>\n",
       "      <td>foil turbine characterised longitual foils dis...</td>\n",
       "    </tr>\n",
       "    <tr>\n",
       "      <th>2</th>\n",
       "      <td>2</td>\n",
       "      <td>muff clampcoupling clampsystem choke latch mal...</td>\n",
       "    </tr>\n",
       "    <tr>\n",
       "      <th>3</th>\n",
       "      <td>3</td>\n",
       "      <td>valve magnetic characterised attraction plunge...</td>\n",
       "    </tr>\n",
       "    <tr>\n",
       "      <th>4</th>\n",
       "      <td>4</td>\n",
       "      <td>pendulum characterised means rollover tanker m...</td>\n",
       "    </tr>\n",
       "  </tbody>\n",
       "</table>\n",
       "</div>"
      ],
      "text/plain": [
       "   i                                          top_words\n",
       "0  0  hydraulic multifunctional connected accumulato...\n",
       "1  1  foil turbine characterised longitual foils dis...\n",
       "2  2  muff clampcoupling clampsystem choke latch mal...\n",
       "3  3  valve magnetic characterised attraction plunge...\n",
       "4  4  pendulum characterised means rollover tanker m..."
      ]
     },
     "execution_count": 116,
     "metadata": {},
     "output_type": "execute_result"
    }
   ],
   "source": [
    "claim_top_words.head()"
   ]
  },
  {
   "cell_type": "code",
   "execution_count": 117,
   "metadata": {},
   "outputs": [
    {
     "data": {
      "text/html": [
       "<div>\n",
       "<style scoped>\n",
       "    .dataframe tbody tr th:only-of-type {\n",
       "        vertical-align: middle;\n",
       "    }\n",
       "\n",
       "    .dataframe tbody tr th {\n",
       "        vertical-align: top;\n",
       "    }\n",
       "\n",
       "    .dataframe thead th {\n",
       "        text-align: right;\n",
       "    }\n",
       "</style>\n",
       "<table border=\"1\" class=\"dataframe\">\n",
       "  <thead>\n",
       "    <tr style=\"text-align: right;\">\n",
       "      <th></th>\n",
       "      <th>i</th>\n",
       "      <th>top_words</th>\n",
       "    </tr>\n",
       "  </thead>\n",
       "  <tbody>\n",
       "    <tr>\n",
       "      <th>0</th>\n",
       "      <td>0</td>\n",
       "      <td>hydraulic accumulator liquid machine engine mi...</td>\n",
       "    </tr>\n",
       "    <tr>\n",
       "      <th>1</th>\n",
       "      <td>1</td>\n",
       "      <td>foils foil turbine longitual discoidal angel s...</td>\n",
       "    </tr>\n",
       "    <tr>\n",
       "      <th>2</th>\n",
       "      <td>2</td>\n",
       "      <td>muff plasticbase pipes gasket clampcoupling ch...</td>\n",
       "    </tr>\n",
       "    <tr>\n",
       "      <th>3</th>\n",
       "      <td>3</td>\n",
       "      <td>tanker rollover valve plunger petrol pressure ...</td>\n",
       "    </tr>\n",
       "    <tr>\n",
       "      <th>4</th>\n",
       "      <td>4</td>\n",
       "      <td>tanker rollover petrol float valve pendulum me...</td>\n",
       "    </tr>\n",
       "  </tbody>\n",
       "</table>\n",
       "</div>"
      ],
      "text/plain": [
       "   i                                          top_words\n",
       "0  0  hydraulic accumulator liquid machine engine mi...\n",
       "1  1  foils foil turbine longitual discoidal angel s...\n",
       "2  2  muff plasticbase pipes gasket clampcoupling ch...\n",
       "3  3  tanker rollover valve plunger petrol pressure ...\n",
       "4  4  tanker rollover petrol float valve pendulum me..."
      ]
     },
     "execution_count": 117,
     "metadata": {},
     "output_type": "execute_result"
    }
   ],
   "source": [
    "desc_top_words.head()"
   ]
  },
  {
   "cell_type": "markdown",
   "metadata": {},
   "source": [
    "### Get top words for abstract using TFIDF"
   ]
  },
  {
   "cell_type": "code",
   "execution_count": 118,
   "metadata": {},
   "outputs": [
    {
     "name": "stderr",
     "output_type": "stream",
     "text": [
      "100%|██████████| 78372/78372 [18:45<00:00, 69.63it/s] \n"
     ]
    }
   ],
   "source": [
    "for i in tqdm(range(text_transformed.shape[0])):\n",
    "    f_index = abstract_tfidf[i,:].nonzero()[1]\n",
    "    tfid_score = zip(f_index,[abstract_tfidf[i,x] for x in f_index])\n",
    "   \n",
    "    word = []\n",
    "    score = []\n",
    "\n",
    "    for w,s in [(feature_names[i],s) for i,s in tfid_score]:\n",
    "        word.append(w)\n",
    "        score.append(s)\n",
    "        \n",
    "    score = np.array(score)\n",
    "    word = np.array(word)\n",
    "    txt = \" \".join(word[(-score).argsort()[:max_length]])\n",
    "    abstract_top_words.loc[len(abstract_top_words)] = [i,txt]"
   ]
  },
  {
   "cell_type": "markdown",
   "metadata": {},
   "source": [
    "##  Create new datatable to store the top 150 words from each of the 4 sections"
   ]
  },
  {
   "cell_type": "code",
   "execution_count": 124,
   "metadata": {},
   "outputs": [
    {
     "data": {
      "text/html": [
       "<div>\n",
       "<style scoped>\n",
       "    .dataframe tbody tr th:only-of-type {\n",
       "        vertical-align: middle;\n",
       "    }\n",
       "\n",
       "    .dataframe tbody tr th {\n",
       "        vertical-align: top;\n",
       "    }\n",
       "\n",
       "    .dataframe thead th {\n",
       "        text-align: right;\n",
       "    }\n",
       "</style>\n",
       "<table border=\"1\" class=\"dataframe\">\n",
       "  <thead>\n",
       "    <tr style=\"text-align: right;\">\n",
       "      <th></th>\n",
       "      <th>title</th>\n",
       "      <th>abstract</th>\n",
       "      <th>claim</th>\n",
       "      <th>desc</th>\n",
       "    </tr>\n",
       "  </thead>\n",
       "  <tbody>\n",
       "    <tr>\n",
       "      <th>0</th>\n",
       "      <td>multifunctional integral vehicle motor</td>\n",
       "      <td>hydraulic accumulator engine auxiliary microco...</td>\n",
       "      <td>hydraulic multifunctional connected accumulato...</td>\n",
       "      <td>hydraulic accumulator liquid machine engine mi...</td>\n",
       "    </tr>\n",
       "    <tr>\n",
       "      <th>1</th>\n",
       "      <td>turbine medium driven fluid</td>\n",
       "      <td>foil foils abolute connectec shaft discoidal f...</td>\n",
       "      <td>foil turbine characterised longitual foils dis...</td>\n",
       "      <td>foils foil turbine longitual discoidal angel s...</td>\n",
       "    </tr>\n",
       "    <tr>\n",
       "      <th>2</th>\n",
       "      <td>plasticbase pipes leakage remove materials pro...</td>\n",
       "      <td>plasticbase muff clampsystem tightcoupling but...</td>\n",
       "      <td>muff clampcoupling clampsystem choke latch mal...</td>\n",
       "      <td>muff plasticbase pipes gasket clampcoupling ch...</td>\n",
       "    </tr>\n",
       "    <tr>\n",
       "      <th>3</th>\n",
       "      <td>release valve pressure</td>\n",
       "      <td>rollover tanker valve plunger attraction magne...</td>\n",
       "      <td>valve magnetic characterised attraction plunge...</td>\n",
       "      <td>tanker rollover valve plunger petrol pressure ...</td>\n",
       "    </tr>\n",
       "    <tr>\n",
       "      <th>4</th>\n",
       "      <td>rollover release mechanism valve pressure</td>\n",
       "      <td>rollover tanker valve tankers pendulous seat f...</td>\n",
       "      <td>pendulum characterised means rollover tanker m...</td>\n",
       "      <td>tanker rollover petrol float valve pendulum me...</td>\n",
       "    </tr>\n",
       "  </tbody>\n",
       "</table>\n",
       "</div>"
      ],
      "text/plain": [
       "                                               title  \\\n",
       "0             multifunctional integral vehicle motor   \n",
       "1                        turbine medium driven fluid   \n",
       "2  plasticbase pipes leakage remove materials pro...   \n",
       "3                             release valve pressure   \n",
       "4          rollover release mechanism valve pressure   \n",
       "\n",
       "                                            abstract  \\\n",
       "0  hydraulic accumulator engine auxiliary microco...   \n",
       "1  foil foils abolute connectec shaft discoidal f...   \n",
       "2  plasticbase muff clampsystem tightcoupling but...   \n",
       "3  rollover tanker valve plunger attraction magne...   \n",
       "4  rollover tanker valve tankers pendulous seat f...   \n",
       "\n",
       "                                               claim  \\\n",
       "0  hydraulic multifunctional connected accumulato...   \n",
       "1  foil turbine characterised longitual foils dis...   \n",
       "2  muff clampcoupling clampsystem choke latch mal...   \n",
       "3  valve magnetic characterised attraction plunge...   \n",
       "4  pendulum characterised means rollover tanker m...   \n",
       "\n",
       "                                                desc  \n",
       "0  hydraulic accumulator liquid machine engine mi...  \n",
       "1  foils foil turbine longitual discoidal angel s...  \n",
       "2  muff plasticbase pipes gasket clampcoupling ch...  \n",
       "3  tanker rollover valve plunger petrol pressure ...  \n",
       "4  tanker rollover petrol float valve pendulum me...  "
      ]
     },
     "execution_count": 124,
     "metadata": {},
     "output_type": "execute_result"
    }
   ],
   "source": [
    "title_top_words.columns = ['title_no','title']\n",
    "abstract_top_words.columns = ['abstract_no','abstract']\n",
    "desc_top_words.columns = ['desc_no','desc']\n",
    "claim_top_words.columns = ['claim_no','claim']\n",
    "\n",
    "\n",
    "Data_Final = pd.concat([title_top_words['title'], \n",
    "           abstract_top_words['abstract'], \n",
    "           claim_top_words['claim'], \n",
    "           desc_top_words['desc']], axis=1).sort_index() \n",
    "\n",
    "Data_Final.head()"
   ]
  },
  {
   "cell_type": "markdown",
   "metadata": {},
   "source": [
    "## Test Train split"
   ]
  },
  {
   "cell_type": "code",
   "execution_count": 125,
   "metadata": {},
   "outputs": [
    {
     "name": "stdout",
     "output_type": "stream",
     "text": [
      "(62697, 4)\n",
      "(15675, 4)\n",
      "(62697, 96)\n",
      "(15675, 96)\n"
     ]
    }
   ],
   "source": [
    "# train test split \n",
    "# you can change to data['label1'] to include only the first label \n",
    "X_train, X_test, Y_train, Y_test = model_selection.train_test_split(Data_Final, labels, test_size=0.2)\n",
    "\n",
    "print(X_train.shape)\n",
    "print(X_test.shape)\n",
    "print(Y_train.shape)\n",
    "print(Y_test.shape)"
   ]
  },
  {
   "cell_type": "markdown",
   "metadata": {},
   "source": [
    "## Padding train and test data and converting them to sequences"
   ]
  },
  {
   "cell_type": "code",
   "execution_count": 126,
   "metadata": {},
   "outputs": [
    {
     "name": "stdout",
     "output_type": "stream",
     "text": [
      "(62697, 150)\n",
      "(15675, 150)\n"
     ]
    }
   ],
   "source": [
    "# step 3. Transforming text documents to sequence of tokens and padding them to ensure equal length vectors\n",
    "# choosing the median document length as max length for padding \n",
    "sequence_length = 150\n",
    "\n",
    "# Create Input matricx for the four sections for train and test\n",
    "\n",
    "X_train_title_seq = sequence.pad_sequences(token.texts_to_sequences(X_train['title']), maxlen=sequence_length)\n",
    "X_train_claim_seq = sequence.pad_sequences(token.texts_to_sequences(X_train['claim']), maxlen=sequence_length)\n",
    "\n",
    "X_train_desc_seq = sequence.pad_sequences(token.texts_to_sequences(X_train['desc']), maxlen=sequence_length)\n",
    "\n",
    "X_train_abstract_seq = sequence.pad_sequences(token.texts_to_sequences(X_train['abstract']), maxlen=sequence_length)\n",
    "\n",
    "\n",
    "\n",
    "X_test_title_seq = sequence.pad_sequences(token.texts_to_sequences(X_test['title']), maxlen=sequence_length)\n",
    "X_test_claim_seq = sequence.pad_sequences(token.texts_to_sequences(X_test['claim']), maxlen=sequence_length)\n",
    "\n",
    "X_test_desc_seq = sequence.pad_sequences(token.texts_to_sequences(X_test['desc']), maxlen=sequence_length)\n",
    "\n",
    "X_test_abstract_seq = sequence.pad_sequences(token.texts_to_sequences(X_test['abstract']), maxlen=sequence_length)\n",
    "\n",
    "\n",
    "\n",
    "print(X_train_claim_seq.shape)\n",
    "print(X_test_claim_seq.shape)"
   ]
  },
  {
   "cell_type": "markdown",
   "metadata": {},
   "source": [
    "## Hyper parameters for CNN - BILSTM Model"
   ]
  },
  {
   "cell_type": "code",
   "execution_count": 165,
   "metadata": {},
   "outputs": [],
   "source": [
    "vocabulary_size = embedding_matrix.shape[0]\n",
    "sequence_length = sequence_length\n",
    "embedding_dim = embedding_matrix.shape[1]\n",
    "num_filters = 128\n",
    "kernel_size = 3\n",
    "pool_size = 4\n",
    "units = Y_train.shape[1]  # we need the output nodes to equal the number of classes (96)\n",
    "lstm_units = 128\n",
    "\n",
    "learning_rate = 0.001\n",
    "\n",
    "# Define Training Parameters \n",
    "batch_size = 100\n",
    "epochs = 20\n",
    "\n"
   ]
  },
  {
   "cell_type": "markdown",
   "metadata": {},
   "source": [
    "## CNN - BILSTM Model"
   ]
  },
  {
   "cell_type": "code",
   "execution_count": 166,
   "metadata": {},
   "outputs": [],
   "source": [
    "def CNN_BiLSTM_model():\n",
    "    \n",
    "    # Title Channel\n",
    "    \n",
    "    # Input Layer\n",
    "    input_layer1 = Input(shape=(sequence_length,), dtype='int32')\n",
    "\n",
    "    # Word embedding Layer\n",
    "    embedding_layer1 = Embedding(input_dim=vocabulary_size, output_dim=embedding_dim, input_length=sequence_length,\n",
    "                                weights=[embedding_matrix], trainable=False)(input_layer1) # embedding_matrix\n",
    "    #embedding_layer = SpatialDropout1D(0.2)(embedding_layer)\n",
    "    #embedding_layer = Dropout(0.2)(embedding_layer)\n",
    "\n",
    "    # Convolutional Layer\n",
    "    conv_layer1 = Conv1D(num_filters, kernel_size=kernel_size, activation=\"relu\")(embedding_layer1)\n",
    "\n",
    "    # The paper doesn't include a pooling layer !!!\n",
    "    # Pooling Layer\n",
    "    #pooling_layer = GlobalMaxPool1D()(conv_layer)\n",
    "    #pooling_layer = MaxPooling1D(pool_size=4)(conv_layer) #default pool size is 2\n",
    "\n",
    "    # Claim Channel\n",
    "    \n",
    "    # Input Layer\n",
    "    input_layer2 = Input(shape=(sequence_length,), dtype='int32')\n",
    "\n",
    "    # Word embedding Layer\n",
    "    embedding_layer2 = Embedding(input_dim=vocabulary_size, output_dim=embedding_dim, input_length=sequence_length,\n",
    "                                weights=[embedding_matrix], trainable=False)(input_layer2) # embedding_matrix\n",
    "\n",
    "    # Convolutional Layer\n",
    "    conv_layer2 = Conv1D(num_filters, kernel_size=kernel_size, activation=\"relu\")(embedding_layer2)\n",
    "    \n",
    "    # abstract Channel\n",
    "    \n",
    "    # Input Layer\n",
    "    input_layer3 = Input(shape=(sequence_length,), dtype='int32')\n",
    "\n",
    "    # Word embedding Layer\n",
    "    embedding_layer3 = Embedding(input_dim=vocabulary_size, output_dim=embedding_dim, input_length=sequence_length,\n",
    "                                weights=[embedding_matrix], trainable=False)(input_layer3) # embedding_matrix\n",
    "\n",
    "    # Convolutional Layer\n",
    "    conv_layer3 = Conv1D(num_filters, kernel_size=kernel_size, activation=\"relu\")(embedding_layer3)   \n",
    "    \n",
    "    # desc Channel\n",
    "    \n",
    "    # Input Layer\n",
    "    input_layer4 = Input(shape=(sequence_length,), dtype='int32')\n",
    "\n",
    "    # Word embedding Layer\n",
    "    embedding_layer4 = Embedding(input_dim=vocabulary_size, output_dim=embedding_dim, input_length=sequence_length,\n",
    "                                weights=[embedding_matrix], trainable=False)(input_layer4) # embedding_matrix\n",
    "\n",
    "    # Convolutional Layer\n",
    "    conv_layer4 = Conv1D(num_filters, kernel_size=kernel_size, activation=\"relu\")(embedding_layer4)      \n",
    "    \n",
    "    #concatenation\n",
    "    merged_concat = concatenate([conv_layer1, conv_layer2, conv_layer3,conv_layer4],axis=1)\n",
    "    \n",
    "    #Maximum\n",
    "    #merged_max = maximum([conv_layer1, conv_layer2, conv_layer3,conv_layer4])\n",
    "    \n",
    "    #Average\n",
    "    #merged_avg = average([conv_layer1, conv_layer2, conv_layer3,conv_layer4])\n",
    "    \n",
    "    #Summation\n",
    "    #merged_sum = add([conv_layer1, conv_layer2, conv_layer3,conv_layer4])\n",
    "\n",
    "    \n",
    "    \n",
    "    # bi-LSTM layer1\n",
    "    bilstm_layer1 = Bidirectional(LSTM(lstm_units))(merged_concat)\n",
    "    \n",
    "     # bi-LSTM layer2\n",
    "    #bilstm_layer1 = Bidirectional(LSTM(lstm_units))(merged_max)\n",
    "    \n",
    "     # bi-LSTM layer3\n",
    "    #bilstm_layer1 = Bidirectional(LSTM(lstm_units))(merged_avg)\n",
    "    \n",
    "     # bi-LSTM layer4\n",
    "    #bilstm_layer1 = Bidirectional(LSTM(lstm_units))(merged_sum)\n",
    "\n",
    "    # Output layer\n",
    "    # output_layer1 = Dense(50, activation=\"relu\")(pooling_layer)\n",
    "    #output_layer1 = Dropout(0.25)(bilstm_layer)\n",
    "    #output_layer2 = Dense(units=units, activation=\"sigmoid\")(output_layer1)\n",
    "    output_layer1 = Dense(units=units, activation=\"sigmoid\")(bilstm_layer1)\n",
    "\n",
    "    # Compile the model\n",
    "    # NOTE: we compile the model using binary cross entropy rather than categorical CE, since the goal\n",
    "    # is to treat each output labels as an independent Bernoulli distribution\n",
    "    model = models.Model(inputs=[input_layer1,input_layer2,input_layer3,input_layer4], outputs=output_layer1,)\n",
    "   \n",
    "    model.compile(optimizer=optimizers.Adam(lr=learning_rate),\n",
    "                  loss='binary_crossentropy',\n",
    "                  metrics=['accuracy']) # 'f1score', 'precision', 'recall' ,  recall, precision, f1\n",
    "\n",
    "    return model"
   ]
  },
  {
   "cell_type": "code",
   "execution_count": 168,
   "metadata": {},
   "outputs": [],
   "source": [
    "# Choosing Model \n",
    "model = CNN_BiLSTM_model() "
   ]
  },
  {
   "cell_type": "code",
   "execution_count": 169,
   "metadata": {},
   "outputs": [
    {
     "name": "stdout",
     "output_type": "stream",
     "text": [
      "Train on 56427 samples, validate on 6270 samples\n",
      "Epoch 1/20\n",
      "56427/56427 [==============================] - 849s 15ms/step - loss: 0.0762 - acc: 0.9831 - val_loss: 0.0600 - val_acc: 0.9856\n",
      "Epoch 2/20\n",
      "56427/56427 [==============================] - 836s 15ms/step - loss: 0.0537 - acc: 0.9857 - val_loss: 0.0464 - val_acc: 0.9865\n",
      "Epoch 3/20\n",
      "56427/56427 [==============================] - 835s 15ms/step - loss: 0.0423 - acc: 0.9873 - val_loss: 0.0386 - val_acc: 0.9883\n",
      "Epoch 4/20\n",
      "56427/56427 [==============================] - 839s 15ms/step - loss: 0.0363 - acc: 0.9888 - val_loss: 0.0354 - val_acc: 0.9890\n",
      "Epoch 5/20\n",
      "56427/56427 [==============================] - 839s 15ms/step - loss: 0.0329 - acc: 0.9897 - val_loss: 0.0333 - val_acc: 0.9897\n",
      "Epoch 6/20\n",
      "56427/56427 [==============================] - 841s 15ms/step - loss: 0.0303 - acc: 0.9905 - val_loss: 0.0320 - val_acc: 0.9901\n",
      "Epoch 7/20\n",
      "56427/56427 [==============================] - 842s 15ms/step - loss: 0.0284 - acc: 0.9909 - val_loss: 0.0309 - val_acc: 0.9903\n",
      "Epoch 8/20\n",
      "56427/56427 [==============================] - 844s 15ms/step - loss: 0.0267 - acc: 0.9915 - val_loss: 0.0302 - val_acc: 0.9905\n",
      "Epoch 9/20\n",
      "56427/56427 [==============================] - 844s 15ms/step - loss: 0.0251 - acc: 0.9919 - val_loss: 0.0298 - val_acc: 0.9907\n",
      "Epoch 10/20\n",
      "56427/56427 [==============================] - 843s 15ms/step - loss: 0.0238 - acc: 0.9923 - val_loss: 0.0296 - val_acc: 0.9908\n",
      "Epoch 11/20\n",
      "56427/56427 [==============================] - 843s 15ms/step - loss: 0.0227 - acc: 0.9926 - val_loss: 0.0298 - val_acc: 0.9907\n",
      "Epoch 12/20\n",
      "56427/56427 [==============================] - 842s 15ms/step - loss: 0.0217 - acc: 0.9929 - val_loss: 0.0297 - val_acc: 0.9909\n",
      "Epoch 13/20\n",
      "56427/56427 [==============================] - 844s 15ms/step - loss: 0.0208 - acc: 0.9932 - val_loss: 0.0303 - val_acc: 0.9906\n",
      "Epoch 14/20\n",
      "56427/56427 [==============================] - 843s 15ms/step - loss: 0.0200 - acc: 0.9934 - val_loss: 0.0302 - val_acc: 0.9908\n",
      "Epoch 15/20\n",
      "56427/56427 [==============================] - 844s 15ms/step - loss: 0.0190 - acc: 0.9937 - val_loss: 0.0307 - val_acc: 0.9908\n",
      "Epoch 16/20\n",
      "56427/56427 [==============================] - 845s 15ms/step - loss: 0.0184 - acc: 0.9939 - val_loss: 0.0311 - val_acc: 0.9907\n",
      "Epoch 17/20\n",
      "56427/56427 [==============================] - 844s 15ms/step - loss: 0.0176 - acc: 0.9942 - val_loss: 0.0313 - val_acc: 0.9905\n",
      "Epoch 18/20\n",
      "56427/56427 [==============================] - 847s 15ms/step - loss: 0.0171 - acc: 0.9943 - val_loss: 0.0327 - val_acc: 0.9904\n",
      "Epoch 19/20\n",
      "56427/56427 [==============================] - 846s 15ms/step - loss: 0.0169 - acc: 0.9943 - val_loss: 0.0322 - val_acc: 0.9906\n",
      "Epoch 20/20\n",
      "56427/56427 [==============================] - 848s 15ms/step - loss: 0.0160 - acc: 0.9947 - val_loss: 0.0323 - val_acc: 0.9905\n"
     ]
    }
   ],
   "source": [
    "# Training CNN-BiLSTM with our own embeddings \n",
    "history = model.fit([X_train_title_seq,X_train_claim_seq,X_train_abstract_seq,X_train_desc_seq], Y_train,  # class_weight=class_weight_dict,\n",
    "                   batch_size=batch_size,\n",
    "                   epochs=epochs,\n",
    "                   verbose=1,\n",
    "                   validation_split=0.1)"
   ]
  },
  {
   "cell_type": "markdown",
   "metadata": {},
   "source": [
    "### Evaluation Metrics"
   ]
  },
  {
   "cell_type": "markdown",
   "metadata": {},
   "source": [
    "**True Positives (TP)**: the number of labels predicted by our approach (prediction labels) that\n",
    "matched the IPC labels (true labels), without taking the exact order into account.\n",
    "\n",
    "**False Positives (FP)**: the labels predicted by our approach (prediction labels) that do not match the true IPC labels. \n",
    "\n",
    "**False Negatives (FN)**: the labels that should have been predicted by our approach, but were not.\n",
    "\n",
    "**True Negatives (TN)**: the labels that, correctly, were not predicted by our approach. \n",
    "\n",
    "\n",
    "$$ Precision = \\frac{TP}{TP + FP} = \\frac{trueLabels \\cap predictionLabels}{predictionLabels} $$\n",
    "\n",
    "$$ Recall = \\frac{TP}{TP + FN} = \\frac{trueLabels \\cap predictionLabels}{trueLabels} $$\n",
    "\n",
    "**Precision** shows the ratio of the predicted labels that are true labels.\n",
    "\n",
    "**Recall** shows the ratio of the true labels that were predicted correctly. \n",
    "\n",
    "After calculating the above metrics for each patent document, we calculate the final Precision, Recall and F1-score across all documents as follows: \n",
    "\n",
    "$$Precision_{total} = \\frac{1}{TotalSamples} \\sum_{n=i}^{TotalSamples} Precision_i$$\n",
    "\n",
    "$$Recall_{total} = \\frac{1}{TotalSamples} \\sum_{n=i}^{TotalSamples} Recall_i$$\n",
    "\n",
    "$$F1_{total} = 2* \\frac{Precision_{total}*Recall_{total}}{Precision_{total}+Recall_{total}}  $$"
   ]
  },
  {
   "cell_type": "markdown",
   "metadata": {},
   "source": [
    "## Evaluation"
   ]
  },
  {
   "cell_type": "code",
   "execution_count": 170,
   "metadata": {},
   "outputs": [],
   "source": [
    "def get_pred_classes(X_test_seq, number_of_labels = 1):\n",
    "\n",
    "    preds = np.zeros(shape=model.predict(X_test_seq).shape)\n",
    "    pred_proba = model.predict(X_test_seq)\n",
    "\n",
    "    for i in range(pred_proba.shape[0]): \n",
    "        idxs = np.argsort(pred_proba[i])[::-1][:number_of_labels]\n",
    "        preds[i][idxs] = 1\n",
    "    \n",
    "    return preds"
   ]
  },
  {
   "cell_type": "markdown",
   "metadata": {},
   "source": [
    "### CNN+BiLSTM Model Results with our trained word2vec embeddings"
   ]
  },
  {
   "cell_type": "markdown",
   "metadata": {},
   "source": [
    "#### Top 1 label prediction"
   ]
  },
  {
   "cell_type": "code",
   "execution_count": 171,
   "metadata": {},
   "outputs": [
    {
     "name": "stdout",
     "output_type": "stream",
     "text": [
      "precision: 0.719170653907496\n",
      "recall: 0.5920931875142402\n",
      "f1: 0.6302160451634136\n"
     ]
    }
   ],
   "source": [
    "pred_classes = get_pred_classes([X_test_title_seq,X_test_claim_seq,X_test_abstract_seq,X_test_desc_seq], number_of_labels = 1)\n",
    "print(\"precision:\" , metrics.precision_score(Y_test, pred_classes, average = 'samples'))\n",
    "print(\"recall:\" , metrics.recall_score(Y_test, pred_classes, average = 'samples'))\n",
    "print(\"f1:\" , metrics.f1_score(Y_test, pred_classes, average = 'samples'))"
   ]
  },
  {
   "cell_type": "markdown",
   "metadata": {},
   "source": [
    "#### Top 2 labels prediction"
   ]
  },
  {
   "cell_type": "code",
   "execution_count": 172,
   "metadata": {},
   "outputs": [
    {
     "name": "stdout",
     "output_type": "stream",
     "text": [
      "precision: 0.4767145135566188\n",
      "recall: 0.736738057264373\n",
      "f1: 0.5570777954988482\n"
     ]
    }
   ],
   "source": [
    "pred_classes = get_pred_classes([X_test_title_seq,X_test_claim_seq,X_test_abstract_seq,X_test_desc_seq], number_of_labels = 2)\n",
    "print(\"precision:\" , metrics.precision_score(Y_test, pred_classes, average = 'samples'))\n",
    "print(\"recall:\" , metrics.recall_score(Y_test, pred_classes, average = 'samples'))\n",
    "print(\"f1:\" , metrics.f1_score(Y_test, pred_classes, average = 'samples'))"
   ]
  },
  {
   "cell_type": "markdown",
   "metadata": {},
   "source": [
    "#### Top 10 labels prediction"
   ]
  },
  {
   "cell_type": "code",
   "execution_count": 173,
   "metadata": {},
   "outputs": [
    {
     "name": "stdout",
     "output_type": "stream",
     "text": [
      "precision: 0.12815948963317386\n",
      "recall: 0.9296799574694312\n",
      "f1: 0.2199084980337443\n"
     ]
    }
   ],
   "source": [
    "pred_classes = get_pred_classes([X_test_title_seq,X_test_claim_seq,X_test_abstract_seq,X_test_desc_seq], number_of_labels = 10)\n",
    "print(\"precision:\" , metrics.precision_score(Y_test, pred_classes, average = 'samples'))\n",
    "print(\"recall:\" , metrics.recall_score(Y_test, pred_classes, average = 'samples'))\n",
    "print(\"f1:\" , metrics.f1_score(Y_test, pred_classes, average = 'samples'))"
   ]
  },
  {
   "cell_type": "code",
   "execution_count": 160,
   "metadata": {},
   "outputs": [
    {
     "data": {
      "text/plain": [
       "<matplotlib.legend.Legend at 0x1f7b889e10>"
      ]
     },
     "execution_count": 160,
     "metadata": {},
     "output_type": "execute_result"
    },
    {
     "data": {
      "image/png": "[encoded data removed]",
      "text/plain": [
       "<matplotlib.figure.Figure at 0x1f7d18ea20>"
      ]
     },
     "metadata": {},
     "output_type": "display_data"
    }
   ],
   "source": [
    "# Ploting the loss \n",
    "\n",
    "plt.figure(figsize=(15,5))\n",
    "N = epochs\n",
    "plt.plot(np.arange(0, N), history.history[\"loss\"], label=\"train_loss\")\n",
    "plt.plot(np.arange(0, N), history.history[\"val_loss\"], label=\"val_loss\")\n",
    "plt.title(\"Training Loss\")\n",
    "plt.xlabel(\"Epochs\")\n",
    "plt.grid()\n",
    "plt.ylabel(\"Cross-Entropy Loss\")\n",
    "plt.legend(loc=\"upper right\")"
   ]
  },
  {
   "cell_type": "markdown",
   "metadata": {},
   "source": [
    "\n"
   ]
  },
  {
   "cell_type": "markdown",
   "metadata": {},
   "source": [
    "### Error Analysis"
   ]
  },
  {
   "cell_type": "code",
   "execution_count": 163,
   "metadata": {},
   "outputs": [],
   "source": [
    "def get_df_with_results(labels=1):\n",
    "    pred_proba = model.predict([X_test_title_seq,X_test_claim_seq,X_test_abstract_seq,X_test_desc_seq])\n",
    "    all_labels = mlb.classes_\n",
    "    pred_classes = get_pred_classes([X_test_title_seq,X_test_claim_seq,X_test_abstract_seq,X_test_desc_seq], number_of_labels = labels)\n",
    "\n",
    "    # Getting the predicted and actual labels in each patent in the test set\n",
    "    predicted_labels = [all_labels[np.argsort(pred_proba[i])[::-1][:labels]] for i in range(pred_proba.shape[0])]\n",
    "    actual_labels = [list(mlb.inverse_transform(Y_test)[i]) for i in range(pred_proba.shape[0])]\n",
    "\n",
    "    # Getting the individual precisions and recalls\n",
    "    precisions = [metrics.precision_score(Y_test[i], pred_classes[i]) for i in range(pred_proba.shape[0])]\n",
    "    recalls = [metrics.recall_score(Y_test[i], pred_classes[i]) for i in range(pred_proba.shape[0])]\n",
    "    \n",
    "    # Creating a dataframe with all the results\n",
    "    df_with_results = pd.DataFrame({'predicted_labels':predicted_labels,\n",
    "                                  'actual_labels':actual_labels, \n",
    "                                  'precision':precisions, \n",
    "                                  'recall':recalls}, columns = ['predicted_labels','actual_labels','precision','recall'])\n",
    "    \n",
    "    return df_with_results\n",
    "\n",
    "\n",
    "def calculate_total_scores(df_with_results):\n",
    "    total_prec = round(df_with_results.precision.mean(),3)\n",
    "    total_recall = round(df_with_results.recall.mean(),3)\n",
    "    total_f1 = round(2*(total_prec*total_recall)/(total_prec+total_recall),3)\n",
    "    return print(\"Precision: {}, Recall: {}, F1-score: {}\".format(total_prec, total_recall, total_f1))"
   ]
  },
  {
   "cell_type": "markdown",
   "metadata": {},
   "source": [
    "### CNN + BiLSTM"
   ]
  },
  {
   "cell_type": "markdown",
   "metadata": {},
   "source": [
    "### Top 1 Label - Precision, Recall and F1-score"
   ]
  },
  {
   "cell_type": "code",
   "execution_count": 257,
   "metadata": {},
   "outputs": [
    {
     "name": "stdout",
     "output_type": "stream",
     "text": [
      "Precision: 0.719, Recall: 0.592, F1-score: 0.649\n"
     ]
    }
   ],
   "source": [
    "df_with_results = get_df_with_results(labels=1)\n",
    "calculate_total_scores(df_with_results)"
   ]
  },
  {
   "cell_type": "markdown",
   "metadata": {},
   "source": [
    "### Top 5 Label - Precision, Recall and F1-score"
   ]
  },
  {
   "cell_type": "code",
   "execution_count": 174,
   "metadata": {},
   "outputs": [
    {
     "name": "stdout",
     "output_type": "stream",
     "text": [
      "Precision: 0.236, Recall: 0.87, F1-score: 0.371\n"
     ]
    }
   ],
   "source": [
    "df_with_results = get_df_with_results(labels=5)\n",
    "calculate_total_scores(df_with_results)"
   ]
  },
  {
   "cell_type": "markdown",
   "metadata": {},
   "source": [
    "### Top 10 Label - Precision, Recall and F1-score"
   ]
  },
  {
   "cell_type": "code",
   "execution_count": 259,
   "metadata": {},
   "outputs": [
    {
     "name": "stdout",
     "output_type": "stream",
     "text": [
      "Precision: 0.128, Recall: 0.93, F1-score: 0.225\n"
     ]
    }
   ],
   "source": [
    "df_with_results = get_df_with_results(labels=10)\n",
    "calculate_total_scores(df_with_results)"
   ]
  },
  {
   "cell_type": "code",
   "execution_count": 215,
   "metadata": {
    "scrolled": true
   },
   "outputs": [],
   "source": [
    "delta = []\n",
    "for i in range(df_with_results.shape[0]):\n",
    "    \n",
    "    delta.append(list(set(df_with_results.iloc[i].actual_labels).difference(set(df_with_results.iloc[i].predicted_labels))))\n"
   ]
  },
  {
   "cell_type": "code",
   "execution_count": 220,
   "metadata": {},
   "outputs": [],
   "source": [
    "erroneous_labels = Counter()\n",
    "\n",
    "for i in delta:\n",
    "    if i is not None:\n",
    "            erroneous_labels.update(i)\n",
    "            "
   ]
  },
  {
   "cell_type": "code",
   "execution_count": 221,
   "metadata": {},
   "outputs": [
    {
     "data": {
      "text/plain": [
       "[('f16l', 126),\n",
       " ('f02b', 97),\n",
       " ('f02m', 95),\n",
       " ('f16d', 91),\n",
       " ('f16k', 87),\n",
       " ('f02d', 86),\n",
       " ('f16c', 86),\n",
       " ('f04b', 80),\n",
       " ('f16h', 77),\n",
       " ('f16j', 77),\n",
       " ('f24f', 75),\n",
       " ('f28f', 70),\n",
       " ('f16b', 69),\n",
       " ('f04d', 66),\n",
       " ('f02f', 61),\n",
       " ('f15b', 61),\n",
       " ('f16f', 59),\n",
       " ('f27d', 55),\n",
       " ('f26b', 53),\n",
       " ('f01m', 52),\n",
       " ('f24h', 50),\n",
       " ('f01n', 49),\n",
       " ('f25d', 47),\n",
       " ('f01p', 45),\n",
       " ('f17c', 44),\n",
       " ('f16n', 43),\n",
       " ('f28d', 43),\n",
       " ('f23m', 43),\n",
       " ('f24j', 43),\n",
       " ('f27b', 43),\n",
       " ('f23d', 43),\n",
       " ('f02p', 42),\n",
       " ('f23n', 42),\n",
       " ('f01b', 42),\n",
       " ('f23k', 41),\n",
       " ('f04c', 41),\n",
       " ('f22b', 40),\n",
       " ('f02c', 40),\n",
       " ('f23j', 39),\n",
       " ('f01l', 37),\n",
       " ('f28g', 37),\n",
       " ('f01k', 36),\n",
       " ('f24d', 36),\n",
       " ('f23l', 35),\n",
       " ('f03g', 34),\n",
       " ('f16g', 33),\n",
       " ('f01d', 32),\n",
       " ('f24c', 32),\n",
       " ('f23q', 31),\n",
       " ('f03b', 30),\n",
       " ('f01c', 28),\n",
       " ('f25b', 27),\n",
       " ('f02k', 26),\n",
       " ('f03c', 25),\n",
       " ('f42b', 24),\n",
       " ('f02n', 24),\n",
       " ('f02g', 24),\n",
       " ('f16m', 23),\n",
       " ('f23c', 23),\n",
       " ('f28b', 22),\n",
       " ('f23g', 22),\n",
       " ('f17d', 21),\n",
       " ('f41h', 20),\n",
       " ('f16p', 19),\n",
       " ('f16t', 19),\n",
       " ('f21v', 18),\n",
       " ('f41a', 15),\n",
       " ('f28c', 15),\n",
       " ('f42c', 14),\n",
       " ('f15d', 13),\n",
       " ('f04f', 13),\n",
       " ('f42d', 13),\n",
       " ('f21s', 13),\n",
       " ('f23r', 13),\n",
       " ('f21y', 12),\n",
       " ('f41g', 12),\n",
       " ('f21l', 12),\n",
       " ('f03d', 11),\n",
       " ('f41c', 11),\n",
       " ('f25c', 11),\n",
       " ('f25j', 11),\n",
       " ('f21w', 10),\n",
       " ('f23h', 9),\n",
       " ('f41f', 9),\n",
       " ('f23b', 8),\n",
       " ('f24b', 8),\n",
       " ('f41j', 8),\n",
       " ('f21k', 8),\n",
       " ('f15c', 8),\n",
       " ('f41b', 7),\n",
       " ('f16s', 6),\n",
       " ('f22g', 5),\n",
       " ('f22d', 5),\n",
       " ('f03h', 3),\n",
       " ('f17b', 1),\n",
       " ('f21h', 1)]"
      ]
     },
     "execution_count": 221,
     "metadata": {},
     "output_type": "execute_result"
    }
   ],
   "source": [
    "erroneous_labels.most_common()"
   ]
  },
  {
   "cell_type": "markdown",
   "metadata": {},
   "source": [
    "### CNN + BiLSTM with balanced classes"
   ]
  },
  {
   "cell_type": "code",
   "execution_count": 223,
   "metadata": {},
   "outputs": [
    {
     "name": "stdout",
     "output_type": "stream",
     "text": [
      "30\n",
      "183\n",
      "245\n",
      "524\n",
      "525\n",
      "533\n",
      "720\n",
      "1151\n",
      "1307\n",
      "1508\n",
      "1627\n",
      "1796\n",
      "1857\n",
      "2174\n",
      "2411\n",
      "2602\n",
      "2765\n",
      "2805\n",
      "2893\n",
      "2899\n",
      "2914\n",
      "3192\n",
      "3271\n",
      "3493\n",
      "3572\n",
      "3633\n",
      "3853\n",
      "3925\n",
      "4112\n",
      "4291\n",
      "4313\n",
      "4351\n",
      "4364\n",
      "4430\n",
      "4449\n",
      "4460\n",
      "4469\n",
      "4546\n",
      "4731\n",
      "4831\n",
      "5031\n",
      "5103\n",
      "5126\n",
      "5254\n",
      "5518\n",
      "5718\n",
      "5753\n",
      "5791\n",
      "5857\n",
      "5970\n",
      "6075\n",
      "6139\n",
      "6460\n",
      "6621\n",
      "6632\n",
      "6826\n",
      "6836\n",
      "6884\n",
      "7049\n",
      "7481\n",
      "7695\n",
      "7754\n",
      "7979\n",
      "7992\n",
      "8201\n",
      "8425\n",
      "8461\n",
      "8500\n",
      "8533\n",
      "8656\n",
      "8664\n",
      "8712\n",
      "9012\n",
      "9054\n",
      "9317\n",
      "9632\n",
      "9726\n",
      "9755\n",
      "10335\n",
      "10399\n",
      "10432\n",
      "10626\n",
      "10635\n",
      "10833\n",
      "10869\n",
      "10924\n",
      "11084\n",
      "11545\n",
      "11558\n",
      "11584\n",
      "11789\n",
      "11938\n",
      "11993\n",
      "12139\n",
      "12220\n",
      "12409\n",
      "12558\n",
      "12796\n",
      "13002\n",
      "13019\n",
      "13029\n",
      "13370\n",
      "13440\n",
      "13451\n",
      "13522\n",
      "13547\n",
      "13548\n",
      "13617\n",
      "13784\n",
      "13807\n",
      "13814\n",
      "13987\n",
      "13997\n",
      "13999\n",
      "14003\n",
      "14189\n",
      "14203\n",
      "14416\n",
      "14637\n",
      "14912\n",
      "14975\n",
      "15112\n",
      "15179\n",
      "15482\n",
      "15607\n",
      "15649\n"
     ]
    }
   ],
   "source": [
    "for i,d in enumerate(delta):\n",
    "    if 'f16l' in d:\n",
    "        print(i)\n"
   ]
  },
  {
   "cell_type": "code",
   "execution_count": 231,
   "metadata": {},
   "outputs": [
    {
     "data": {
      "text/plain": [
       "'curable ultraviolet finish reinforcing adhesive active methods light related members'"
      ]
     },
     "execution_count": 231,
     "metadata": {},
     "output_type": "execute_result"
    }
   ],
   "source": [
    "X_test['title'].iloc[30]"
   ]
  },
  {
   "cell_type": "code",
   "execution_count": 232,
   "metadata": {},
   "outputs": [
    {
     "data": {
      "text/html": [
       "<div>\n",
       "<style scoped>\n",
       "    .dataframe tbody tr th:only-of-type {\n",
       "        vertical-align: middle;\n",
       "    }\n",
       "\n",
       "    .dataframe tbody tr th {\n",
       "        vertical-align: top;\n",
       "    }\n",
       "\n",
       "    .dataframe thead th {\n",
       "        text-align: right;\n",
       "    }\n",
       "</style>\n",
       "<table border=\"1\" class=\"dataframe\">\n",
       "  <thead>\n",
       "    <tr style=\"text-align: right;\">\n",
       "      <th></th>\n",
       "      <th>predicted_labels</th>\n",
       "      <th>actual_labels</th>\n",
       "      <th>precision</th>\n",
       "      <th>recall</th>\n",
       "    </tr>\n",
       "  </thead>\n",
       "  <tbody>\n",
       "    <tr>\n",
       "      <th>0</th>\n",
       "      <td>[f15b, f16p, f16m, f16k, f16f]</td>\n",
       "      <td>[f15b]</td>\n",
       "      <td>0.2</td>\n",
       "      <td>1.0</td>\n",
       "    </tr>\n",
       "    <tr>\n",
       "      <th>1</th>\n",
       "      <td>[f26b, f16l, f25d, f16k, f25c]</td>\n",
       "      <td>[f26b]</td>\n",
       "      <td>0.2</td>\n",
       "      <td>1.0</td>\n",
       "    </tr>\n",
       "    <tr>\n",
       "      <th>2</th>\n",
       "      <td>[f25j, f28d, f28f, f17c, f16j]</td>\n",
       "      <td>[f28f]</td>\n",
       "      <td>0.2</td>\n",
       "      <td>1.0</td>\n",
       "    </tr>\n",
       "    <tr>\n",
       "      <th>3</th>\n",
       "      <td>[f16h, f16c, f16n, f16d, f01b]</td>\n",
       "      <td>[f16h]</td>\n",
       "      <td>0.2</td>\n",
       "      <td>1.0</td>\n",
       "    </tr>\n",
       "    <tr>\n",
       "      <th>4</th>\n",
       "      <td>[f16k, f15b, f17c, f15c, f17d]</td>\n",
       "      <td>[f04b]</td>\n",
       "      <td>0.0</td>\n",
       "      <td>0.0</td>\n",
       "    </tr>\n",
       "    <tr>\n",
       "      <th>5</th>\n",
       "      <td>[f16h, f16c, f16m, f16n, f04d]</td>\n",
       "      <td>[f16c]</td>\n",
       "      <td>0.2</td>\n",
       "      <td>1.0</td>\n",
       "    </tr>\n",
       "    <tr>\n",
       "      <th>6</th>\n",
       "      <td>[f16m, f21v, f16c, f03g, f16h]</td>\n",
       "      <td>[f16b]</td>\n",
       "      <td>0.0</td>\n",
       "      <td>0.0</td>\n",
       "    </tr>\n",
       "    <tr>\n",
       "      <th>7</th>\n",
       "      <td>[f25d, f16l, f16c, f16m, f25c]</td>\n",
       "      <td>[f25d]</td>\n",
       "      <td>0.2</td>\n",
       "      <td>1.0</td>\n",
       "    </tr>\n",
       "    <tr>\n",
       "      <th>8</th>\n",
       "      <td>[f41a, f42b, f41g, f41b, f41f]</td>\n",
       "      <td>[f41a]</td>\n",
       "      <td>0.2</td>\n",
       "      <td>1.0</td>\n",
       "    </tr>\n",
       "    <tr>\n",
       "      <th>9</th>\n",
       "      <td>[f02d, f16f, f02b, f01n, f01b]</td>\n",
       "      <td>[f02d]</td>\n",
       "      <td>0.2</td>\n",
       "      <td>1.0</td>\n",
       "    </tr>\n",
       "    <tr>\n",
       "      <th>10</th>\n",
       "      <td>[f23g, f23c, f23j, f23l, f26b]</td>\n",
       "      <td>[f23g, f23j]</td>\n",
       "      <td>0.4</td>\n",
       "      <td>1.0</td>\n",
       "    </tr>\n",
       "    <tr>\n",
       "      <th>11</th>\n",
       "      <td>[f16k, f16j, f04b, f17c, f15b]</td>\n",
       "      <td>[f16k]</td>\n",
       "      <td>0.2</td>\n",
       "      <td>1.0</td>\n",
       "    </tr>\n",
       "    <tr>\n",
       "      <th>12</th>\n",
       "      <td>[f16h, f16d, f02b, f02d, f16c]</td>\n",
       "      <td>[f16h]</td>\n",
       "      <td>0.2</td>\n",
       "      <td>1.0</td>\n",
       "    </tr>\n",
       "    <tr>\n",
       "      <th>13</th>\n",
       "      <td>[f02d, f02p, f02b, f02n, f01l]</td>\n",
       "      <td>[f02d, f02p]</td>\n",
       "      <td>0.4</td>\n",
       "      <td>1.0</td>\n",
       "    </tr>\n",
       "    <tr>\n",
       "      <th>14</th>\n",
       "      <td>[f16h, f16c, f16d, f02n, f02b]</td>\n",
       "      <td>[f02n, f16h]</td>\n",
       "      <td>0.4</td>\n",
       "      <td>1.0</td>\n",
       "    </tr>\n",
       "    <tr>\n",
       "      <th>15</th>\n",
       "      <td>[f16k, f16j, f16l, f15b, f17c]</td>\n",
       "      <td>[f16l]</td>\n",
       "      <td>0.2</td>\n",
       "      <td>1.0</td>\n",
       "    </tr>\n",
       "    <tr>\n",
       "      <th>16</th>\n",
       "      <td>[f16h, f16c, f16k, f15b, f04c]</td>\n",
       "      <td>[f16h]</td>\n",
       "      <td>0.2</td>\n",
       "      <td>1.0</td>\n",
       "    </tr>\n",
       "    <tr>\n",
       "      <th>17</th>\n",
       "      <td>[f24c, f21s, f21v, f25d, f21k]</td>\n",
       "      <td>[f16p]</td>\n",
       "      <td>0.0</td>\n",
       "      <td>0.0</td>\n",
       "    </tr>\n",
       "    <tr>\n",
       "      <th>18</th>\n",
       "      <td>[f02b, f02d, f02m, f01p, f01m]</td>\n",
       "      <td>[f02b, f02d]</td>\n",
       "      <td>0.4</td>\n",
       "      <td>1.0</td>\n",
       "    </tr>\n",
       "    <tr>\n",
       "      <th>19</th>\n",
       "      <td>[f16c, f16m, f16b, f16d, f16h]</td>\n",
       "      <td>[f16c]</td>\n",
       "      <td>0.2</td>\n",
       "      <td>1.0</td>\n",
       "    </tr>\n",
       "    <tr>\n",
       "      <th>20</th>\n",
       "      <td>[f01n, f02b, f02d, f02m, f02p]</td>\n",
       "      <td>[f01n, f02d]</td>\n",
       "      <td>0.4</td>\n",
       "      <td>1.0</td>\n",
       "    </tr>\n",
       "    <tr>\n",
       "      <th>21</th>\n",
       "      <td>[f02m, f16k, f02d, f02b, f17c]</td>\n",
       "      <td>[f02m]</td>\n",
       "      <td>0.2</td>\n",
       "      <td>1.0</td>\n",
       "    </tr>\n",
       "    <tr>\n",
       "      <th>22</th>\n",
       "      <td>[f16d, f16h, f02b, f16b, f01l]</td>\n",
       "      <td>[f16f]</td>\n",
       "      <td>0.0</td>\n",
       "      <td>0.0</td>\n",
       "    </tr>\n",
       "    <tr>\n",
       "      <th>23</th>\n",
       "      <td>[f16l, f16k, f17c, f16b, f02m]</td>\n",
       "      <td>[f16l]</td>\n",
       "      <td>0.2</td>\n",
       "      <td>1.0</td>\n",
       "    </tr>\n",
       "    <tr>\n",
       "      <th>24</th>\n",
       "      <td>[f16l, f16b, f16s, f16d, f15d]</td>\n",
       "      <td>[f16b]</td>\n",
       "      <td>0.2</td>\n",
       "      <td>1.0</td>\n",
       "    </tr>\n",
       "    <tr>\n",
       "      <th>25</th>\n",
       "      <td>[f16l, f17d, f16j, f28f, f15d]</td>\n",
       "      <td>[f16l]</td>\n",
       "      <td>0.2</td>\n",
       "      <td>1.0</td>\n",
       "    </tr>\n",
       "    <tr>\n",
       "      <th>26</th>\n",
       "      <td>[f16c, f16j, f01d, f16h, f04d]</td>\n",
       "      <td>[f16c]</td>\n",
       "      <td>0.2</td>\n",
       "      <td>1.0</td>\n",
       "    </tr>\n",
       "    <tr>\n",
       "      <th>27</th>\n",
       "      <td>[f17c, f28f, f22b, f17d, f16l]</td>\n",
       "      <td>[f17c]</td>\n",
       "      <td>0.2</td>\n",
       "      <td>1.0</td>\n",
       "    </tr>\n",
       "    <tr>\n",
       "      <th>28</th>\n",
       "      <td>[f21v, f21s, f21k, f21y, f21w]</td>\n",
       "      <td>[f21s, f21v]</td>\n",
       "      <td>0.4</td>\n",
       "      <td>1.0</td>\n",
       "    </tr>\n",
       "    <tr>\n",
       "      <th>29</th>\n",
       "      <td>[f01p, f01m, f02b, f02f, f16n]</td>\n",
       "      <td>[f17d]</td>\n",
       "      <td>0.0</td>\n",
       "      <td>0.0</td>\n",
       "    </tr>\n",
       "    <tr>\n",
       "      <th>30</th>\n",
       "      <td>[f21v, f21s, f21k, f16g, f21y]</td>\n",
       "      <td>[f16l]</td>\n",
       "      <td>0.0</td>\n",
       "      <td>0.0</td>\n",
       "    </tr>\n",
       "  </tbody>\n",
       "</table>\n",
       "</div>"
      ],
      "text/plain": [
       "                  predicted_labels actual_labels  precision  recall\n",
       "0   [f15b, f16p, f16m, f16k, f16f]        [f15b]        0.2     1.0\n",
       "1   [f26b, f16l, f25d, f16k, f25c]        [f26b]        0.2     1.0\n",
       "2   [f25j, f28d, f28f, f17c, f16j]        [f28f]        0.2     1.0\n",
       "3   [f16h, f16c, f16n, f16d, f01b]        [f16h]        0.2     1.0\n",
       "4   [f16k, f15b, f17c, f15c, f17d]        [f04b]        0.0     0.0\n",
       "5   [f16h, f16c, f16m, f16n, f04d]        [f16c]        0.2     1.0\n",
       "6   [f16m, f21v, f16c, f03g, f16h]        [f16b]        0.0     0.0\n",
       "7   [f25d, f16l, f16c, f16m, f25c]        [f25d]        0.2     1.0\n",
       "8   [f41a, f42b, f41g, f41b, f41f]        [f41a]        0.2     1.0\n",
       "9   [f02d, f16f, f02b, f01n, f01b]        [f02d]        0.2     1.0\n",
       "10  [f23g, f23c, f23j, f23l, f26b]  [f23g, f23j]        0.4     1.0\n",
       "11  [f16k, f16j, f04b, f17c, f15b]        [f16k]        0.2     1.0\n",
       "12  [f16h, f16d, f02b, f02d, f16c]        [f16h]        0.2     1.0\n",
       "13  [f02d, f02p, f02b, f02n, f01l]  [f02d, f02p]        0.4     1.0\n",
       "14  [f16h, f16c, f16d, f02n, f02b]  [f02n, f16h]        0.4     1.0\n",
       "15  [f16k, f16j, f16l, f15b, f17c]        [f16l]        0.2     1.0\n",
       "16  [f16h, f16c, f16k, f15b, f04c]        [f16h]        0.2     1.0\n",
       "17  [f24c, f21s, f21v, f25d, f21k]        [f16p]        0.0     0.0\n",
       "18  [f02b, f02d, f02m, f01p, f01m]  [f02b, f02d]        0.4     1.0\n",
       "19  [f16c, f16m, f16b, f16d, f16h]        [f16c]        0.2     1.0\n",
       "20  [f01n, f02b, f02d, f02m, f02p]  [f01n, f02d]        0.4     1.0\n",
       "21  [f02m, f16k, f02d, f02b, f17c]        [f02m]        0.2     1.0\n",
       "22  [f16d, f16h, f02b, f16b, f01l]        [f16f]        0.0     0.0\n",
       "23  [f16l, f16k, f17c, f16b, f02m]        [f16l]        0.2     1.0\n",
       "24  [f16l, f16b, f16s, f16d, f15d]        [f16b]        0.2     1.0\n",
       "25  [f16l, f17d, f16j, f28f, f15d]        [f16l]        0.2     1.0\n",
       "26  [f16c, f16j, f01d, f16h, f04d]        [f16c]        0.2     1.0\n",
       "27  [f17c, f28f, f22b, f17d, f16l]        [f17c]        0.2     1.0\n",
       "28  [f21v, f21s, f21k, f21y, f21w]  [f21s, f21v]        0.4     1.0\n",
       "29  [f01p, f01m, f02b, f02f, f16n]        [f17d]        0.0     0.0\n",
       "30  [f21v, f21s, f21k, f16g, f21y]        [f16l]        0.0     0.0"
      ]
     },
     "execution_count": 232,
     "metadata": {},
     "output_type": "execute_result"
    }
   ],
   "source": [
    "df_with_results.head(31)"
   ]
  },
  {
   "cell_type": "code",
   "execution_count": 234,
   "metadata": {},
   "outputs": [
    {
     "name": "stdout",
     "output_type": "stream",
     "text": [
      "44194\n"
     ]
    }
   ],
   "source": [
    "for i in range(Data_Final['title'].shape[0]):\n",
    "    if ('curable' in Data_Final['title'].iloc[i]) and ('ultraviolet' in Data_Final['title'].iloc[i]) :\n",
    "        print(i)\n",
    "        break\n",
    "    "
   ]
  },
  {
   "cell_type": "code",
   "execution_count": 253,
   "metadata": {},
   "outputs": [
    {
     "data": {
      "text/plain": [
       "'photoinitiator epoxide epoxides salts weight atoms forth reinforcing aryldiazonium aryliodonium arylsulfonium ultraviolet curable parts aliphatic cyclohexylmethyl diepoxy vulcanizable triglycidyl polyepoxides said carbon set composition epoxy coated finish group carboxylate glycidyl cycloaliphatic polyols cyclohexane glycerol octane consisting rubber light adhesive ethers active coating selected member fibrous aromatic synthetic liquid polymeric comprising embedding fiber applying strands method having employed step polyester resorcinol vulcanizing formaldehyde latex terephthalate cord exposing cured members curing articles bond fibers polyethylene radiation plurality product steps additional prior applied second'"
      ]
     },
     "execution_count": 253,
     "metadata": {},
     "output_type": "execute_result"
    }
   ],
   "source": [
    "data.iloc[44194]['claim']\n",
    "\n",
    "Data_Final.iloc[44194]['claim']"
   ]
  },
  {
   "cell_type": "code",
   "execution_count": 251,
   "metadata": {},
   "outputs": [
    {
     "name": "stdout",
     "output_type": "stream",
     "text": [
      "weight 44.32239874366119\n",
      "vulcanizing 6.473164248925285\n",
      "vulcanizable 31.860627625945952\n",
      "ultraviolet 36.66855166502176\n",
      "triglycidyl 28.68351539576534\n",
      "terephthalate 5.738344371964772\n",
      "synthetic 14.869736654039684\n",
      "strands 11.509018617636256\n",
      "steps 2.349172358855551\n",
      "step 9.342373160970169\n",
      "set 26.76913209882572\n",
      "selected 15.898699488432683\n",
      "second 1.3725752710237973\n",
      "salts 45.2121023888651\n",
      "said 28.46830478700419\n",
      "rubber 18.996796910768705\n",
      "resorcinol 7.409409595328985\n",
      "reinforcing 38.143456375050356\n",
      "radiation 3.8669908267441016\n",
      "product 2.9944056085301103\n",
      "prior 1.8254762427048328\n",
      "polyols 20.640450809622468\n",
      "polymeric 13.309243449497378\n",
      "polyethylene 4.1069909342094775\n",
      "polyester 9.021777064399494\n",
      "polyepoxides 28.489899832352627\n",
      "plurality 3.4876832437617726\n",
      "photoinitiator 100.28638793115013\n",
      "parts 34.16821106628442\n",
      "octane 19.706335278899914\n",
      "method 11.153501068716466\n",
      "members 4.751872619278252\n",
      "member 15.33870057330282\n",
      "liquid 14.709061345055598\n",
      "light 18.742052178153713\n",
      "latex 6.238536739429394\n",
      "having 10.358330091755358\n",
      "group 22.16682706244146\n",
      "glycidyl 21.87746477181025\n",
      "glycerol 20.102632487788682\n",
      "forth 40.809379039496406\n",
      "formaldehyde 6.2802605828007945\n",
      "finish 23.30671963206075\n",
      "fibrous 15.336796905225063\n",
      "fibers 4.1951957835665965\n",
      "fiber 12.034731124447287\n",
      "exposing 4.9232117897773655\n",
      "ethers 18.145895488772755\n",
      "epoxy 26.59000583285744\n",
      "epoxides 45.924608897096384\n",
      "epoxide 46.35556330452392\n",
      "employed 9.7249337175489\n",
      "embedding 12.216029355991163\n",
      "diepoxy 31.979352261769673\n",
      "cyclohexylmethyl 32.6487829157123\n",
      "cyclohexane 20.480412867506594\n",
      "cycloaliphatic 21.600953392411277\n",
      "curing 4.738742004445121\n",
      "cured 4.754967346874247\n",
      "curable 36.0578432137544\n",
      "cord 5.201902151037182\n",
      "consisting 19.628590678189294\n",
      "comprising 13.149298995899787\n",
      "composition 26.683407646046398\n",
      "coating 16.85906567209853\n",
      "coated 23.920906299056973\n",
      "carboxylate 22.11414659921924\n",
      "carbon 27.36053886126498\n",
      "bond 4.2729047678939125\n",
      "atoms 44.00630862372994\n",
      "arylsulfonium 36.80766599907197\n",
      "aryliodonium 36.80766599907197\n",
      "aryldiazonium 36.80766599907197\n",
      "articles 4.57893597901389\n",
      "aromatic 15.13777896038503\n",
      "applying 11.645641393425066\n",
      "applied 1.8162555789074601\n",
      "aliphatic 33.143913901237774\n",
      "adhesive 18.24285049953095\n",
      "additional 2.1719785127349116\n",
      "active 17.919876116390853\n"
     ]
    }
   ],
   "source": [
    "f_index1 = claim_tfidf[44194,:].nonzero()[1]\n",
    "    \n",
    "for x in f_index1:\n",
    "    print(feature_names[x],claim_tfidf[44194,x])\n",
    "\n",
    "\n",
    "   "
   ]
  },
  {
   "cell_type": "code",
   "execution_count": null,
   "metadata": {},
   "outputs": [],
   "source": [
    "df_with_results = get_df_with_results(labels=5)\n",
    "calculate_total_scores(df_with_results)"
   ]
  },
  {
   "cell_type": "code",
   "execution_count": null,
   "metadata": {},
   "outputs": [],
   "source": [
    "df_with_results.head(10)"
   ]
  },
  {
   "cell_type": "code",
   "execution_count": 258,
   "metadata": {},
   "outputs": [
    {
     "data": {
      "text/plain": [
       "'/Users/arganesa/Documents/Final/W266-Final-Project'"
      ]
     },
     "execution_count": 258,
     "metadata": {},
     "output_type": "execute_result"
    }
   ],
   "source": [
    "import os\n",
    "os.getcwd()"
   ]
  },
  {
   "cell_type": "code",
   "execution_count": null,
   "metadata": {},
   "outputs": [],
   "source": []
  }
 ],
 "metadata": {
  "kernelspec": {
   "display_name": "Python 3",
   "language": "python",
   "name": "python3"
  },
  "language_info": {
   "codemirror_mode": {
    "name": "ipython",
    "version": 3
   },
   "file_extension": ".py",
   "mimetype": "text/x-python",
   "name": "python",
   "nbconvert_exporter": "python",
   "pygments_lexer": "ipython3",
   "version": "3.6.4"
  },
  "notify_time": "0",
  "varInspector": {
   "cols": {
    "lenName": 16,
    "lenType": 16,
    "lenVar": 40
   },
   "kernels_config": {
    "python": {
     "delete_cmd_postfix": "",
     "delete_cmd_prefix": "del ",
     "library": "var_list.py",
     "varRefreshCmd": "print(var_dic_list())"
    },
    "r": {
     "delete_cmd_postfix": ") ",
     "delete_cmd_prefix": "rm(",
     "library": "var_list.r",
     "varRefreshCmd": "cat(var_dic_list()) "
    }
   },
   "types_to_exclude": [
    "module",
    "function",
    "builtin_function_or_method",
    "instance",
    "_Feature"
   ],
   "window_display": false
  }
 },
 "nbformat": 4,
 "nbformat_minor": 2
}
